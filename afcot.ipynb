{
 "cells": [
  {
   "cell_type": "code",
   "execution_count": 1,
   "metadata": {},
   "outputs": [],
   "source": [
    "import pytz\n",
    "from datetime import datetime\n",
    "import re\n",
    "import requests\n",
    "from bs4 import BeautifulSoup\n",
    "import pandas as pd\n",
    "from requests.adapters import HTTPAdapter, Retry\n",
    "\n",
    "\n",
    "response = requests.get('https://afcot.org/en/member-directory/')\n",
    "soup = BeautifulSoup(response.text, 'html.parser')"
   ]
  },
  {
   "cell_type": "code",
   "execution_count": 2,
   "metadata": {},
   "outputs": [],
   "source": [
    "items = soup.find_all(\"div\", class_=\"element-item\")"
   ]
  },
  {
   "cell_type": "code",
   "execution_count": 1,
   "metadata": {},
   "outputs": [],
   "source": [
    "def safe_get_text(obj, name=None, attrs={}, recursive=True, string=None,\n",
    "             **kwargs):\n",
    "    r = None\n",
    "    l = obj.find_all(name, attrs, recursive, string, 1, **kwargs)\n",
    "    if l:\n",
    "        r = l[0].text.replace(\"\\r\\n\", \"  \")\n",
    "    return r\n",
    "\n",
    "\n",
    "def safe_get_href(obj, name=None, attrs={}, recursive=True, string=None,\n",
    "             **kwargs):\n",
    "    r = None\n",
    "    l = obj.find_all(name, attrs, recursive, string, 1, **kwargs)\n",
    "    if l:\n",
    "        r = l[0][\"href\"].replace(\"\\r\\n\", \"  \")\n",
    "    return r\n"
   ]
  },
  {
   "cell_type": "code",
   "execution_count": 2,
   "metadata": {},
   "outputs": [
    {
     "ename": "NameError",
     "evalue": "name 'items' is not defined",
     "output_type": "error",
     "traceback": [
      "\u001b[0;31m---------------------------------------------------------------------------\u001b[0m",
      "\u001b[0;31mNameError\u001b[0m                                 Traceback (most recent call last)",
      "Cell \u001b[0;32mIn [2], line 13\u001b[0m\n\u001b[1;32m     10\u001b[0m df \u001b[38;5;241m=\u001b[39m pd\u001b[38;5;241m.\u001b[39mDataFrame(columns\u001b[38;5;241m=\u001b[39mtarget_list)\n\u001b[1;32m     12\u001b[0m \u001b[38;5;66;03m# items 리스트에 대한 반복문을 통해 데이터를 가져와 DataFrame에 추가\u001b[39;00m\n\u001b[0;32m---> 13\u001b[0m \u001b[38;5;28;01mfor\u001b[39;00m i, item \u001b[38;5;129;01min\u001b[39;00m \u001b[38;5;28menumerate\u001b[39m(\u001b[43mitems\u001b[49m):\n\u001b[1;32m     14\u001b[0m     member_data \u001b[38;5;241m=\u001b[39m {}\n\u001b[1;32m     16\u001b[0m     member_data[\u001b[38;5;124m\"\u001b[39m\u001b[38;5;124mmembre-name\u001b[39m\u001b[38;5;124m\"\u001b[39m] \u001b[38;5;241m=\u001b[39m safe_get_text(item, \u001b[38;5;124m\"\u001b[39m\u001b[38;5;124mp\u001b[39m\u001b[38;5;124m\"\u001b[39m, class_\u001b[38;5;241m=\u001b[39m\u001b[38;5;124m\"\u001b[39m\u001b[38;5;124mmembre-name\u001b[39m\u001b[38;5;124m\"\u001b[39m)\n",
      "\u001b[0;31mNameError\u001b[0m: name 'items' is not defined"
     ]
    }
   ],
   "source": [
    "import pandas as pd\n",
    "target_list = [\"membre-name\", \n",
    "               \"membre-cat\",\n",
    "               \"membre-adresse\",\n",
    "               \"membre-phone\",\n",
    "               \"membre-fax\",\n",
    "               \"membre-mail\",\n",
    "               \"membre-web\"]\n",
    "# 주어진 target_list를 기반으로 빈 DataFrame 생성\n",
    "df = pd.DataFrame(columns=target_list)\n",
    "\n",
    "# items 리스트에 대한 반복문을 통해 데이터를 가져와 DataFrame에 추가\n",
    "for i, item in enumerate(items):\n",
    "    member_data = {}\n",
    "    \n",
    "    member_data[\"membre-name\"] = safe_get_text(item, \"p\", class_=\"membre-name\")\n",
    "    member_data[\"membre-cat\"] = safe_get_text(item, \"p\", class_=\"membre-cat\")\n",
    "    member_data[\"membre-adresse\"] = safe_get_text(item, \"p\", class_=\"membre-adresse\")\n",
    "    member_data[\"membre-phone\"] = safe_get_text(item, \"p\", class_=\"membre-phone\")\n",
    "    member_data[\"membre-fax\"] = safe_get_text(item, \"p\", class_=\"membre-fax\")\n",
    "    member_data[\"membre-mail\"] = safe_get_href(item, \"a\", class_=\"membre-mail\")\n",
    "    member_data[\"membre-web\"] = safe_get_href(item, \"a\", class_=\"membre-web\")\n",
    "\n",
    "    # DataFrame에 데이터 추가\n",
    "    df = df.append(member_data, ignore_index=True)\n",
    "\n"
   ]
  },
  {
   "cell_type": "code",
   "execution_count": 64,
   "metadata": {},
   "outputs": [],
   "source": [
    "df.to_csv('./afcot.csv')"
   ]
  },
  {
   "cell_type": "code",
   "execution_count": 12,
   "metadata": {},
   "outputs": [
    {
     "data": {
      "text/plain": [
       "'membres-dirigeants'"
      ]
     },
     "execution_count": 12,
     "metadata": {},
     "output_type": "execute_result"
    }
   ],
   "source": [
    "member_type_list = [t for t in item['class'] if t != \"element-item\"]\n",
    "member_type = member_type_list[0] if member_type_list else None\n"
   ]
  },
  {
   "cell_type": "code",
   "execution_count": null,
   "metadata": {},
   "outputs": [],
   "source": [
    "\n",
    "table = soup.find('table', class_='eb-table')\n",
    "tbody = table.find('tbody')\n",
    "rows = tbody.find_all('tr')\n",
    "\n",
    "df = None\n",
    "for row in rows:\n",
    "    td = row.find('td', class_='td-subject')\n",
    "    a = td.find('a')\n",
    "    row_date = extract_date_from_string(a.text.strip())\n",
    "\n",
    "    if target_date_str == row_date:\n",
    "        print('대상 데이터 있음', row_date)\n",
    "        cols, values_list = crawling_page(a['href'])\n",
    "        df = pd.DataFrame(values_list, columns=cols)\n",
    "        break"
   ]
  }
 ],
 "metadata": {
  "kernelspec": {
   "display_name": "crawling",
   "language": "python",
   "name": "python3"
  },
  "language_info": {
   "codemirror_mode": {
    "name": "ipython",
    "version": 3
   },
   "file_extension": ".py",
   "mimetype": "text/x-python",
   "name": "python",
   "nbconvert_exporter": "python",
   "pygments_lexer": "ipython3",
   "version": "3.8.12"
  }
 },
 "nbformat": 4,
 "nbformat_minor": 2
}
