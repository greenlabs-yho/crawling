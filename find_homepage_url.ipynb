{
 "cells": [
  {
   "cell_type": "code",
   "execution_count": 13,
   "metadata": {},
   "outputs": [],
   "source": [
    "import scraping_packers_homepage.env as env\n",
    "llm = env.llm\n",
    "\n",
    "search_engine_id = \"\"\n",
    "api_key = \"\""
   ]
  },
  {
   "cell_type": "code",
   "execution_count": 7,
   "metadata": {},
   "outputs": [],
   "source": [
    "import pandas as pd\n",
    "\n",
    "df = pd.read_excel('/Users/yoonhae/Downloads/澳大利亚输华大麦小麦仓储企业名单.xlsx', header=2)\n",
    "df.rename(columns={'Registered Establishment Number': \"no\", \n",
    "           \"Registered Establishment Name\": \"comp_name\",\n",
    "           \"City\": \"city\",\n",
    "           \"State\": \"state\"}, inplace=True)"
   ]
  },
  {
   "cell_type": "code",
   "execution_count": 12,
   "metadata": {},
   "outputs": [
    {
     "name": "stdout",
     "output_type": "stream",
     "text": [
      "<class 'pandas.core.frame.DataFrame'>\n",
      "Int64Index: 100 entries, 0 to 99\n",
      "Data columns (total 4 columns):\n",
      " #   Column     Non-Null Count  Dtype \n",
      "---  ------     --------------  ----- \n",
      " 0   no         100 non-null    int64 \n",
      " 1   comp_name  100 non-null    object\n",
      " 2   city       100 non-null    object\n",
      " 3   state      100 non-null    object\n",
      "dtypes: int64(1), object(3)\n",
      "memory usage: 3.9+ KB\n"
     ]
    }
   ],
   "source": [
    "df.info()"
   ]
  },
  {
   "cell_type": "code",
   "execution_count": 30,
   "metadata": {},
   "outputs": [],
   "source": [
    "import json\n",
    "\n",
    "def reduce_search_result(search_result):\n",
    "    core_info_list = []\n",
    "\n",
    "    core_col_list = {\"link\", \"displayLink\", \"title\", \"snippet\"}\n",
    "    core_meta_tags = ['title', 'descript', 'name', 'type']\n",
    "    exclude_keywords = ['twitter', \"facebook\"]\n",
    "\n",
    "    for item in search_result[\"items\"]:\n",
    "        # pdf url 이면 작업하지 않는다. \n",
    "        if item['link'].endswith('.pdf'):\n",
    "            continue\n",
    "\n",
    "        core_info = {k: v for k, v in item.items() if k in core_col_list}\n",
    "        metatags = []\n",
    "        for tag_row in item.get('pagemap', {}).get('metatags', []):\n",
    "            for key, value in tag_row.items():\n",
    "                skip = False\n",
    "                for tag in exclude_keywords:\n",
    "                    if tag in key:\n",
    "                        skip = True\n",
    "                        break\n",
    "                if skip:\n",
    "                    continue\n",
    "                \n",
    "                filtered_tag_row = {}\n",
    "                # meta tag 는 사이트 제작자마다 달라서 keyword가 포함되는지를 확인해보자.\n",
    "                for tag in core_meta_tags:\n",
    "                    if tag in key:\n",
    "                        filtered_tag_row[key] = value\n",
    "                        break\n",
    "            metatags.append(filtered_tag_row)\n",
    "\n",
    "        core_info[\"pagemap\"] = {}\n",
    "        core_info[\"pagemap\"][\"metatags\"] = metatags\n",
    "        core_info_list.append(core_info)\n",
    "    \n",
    "    return core_info_list"
   ]
  },
  {
   "cell_type": "code",
   "execution_count": null,
   "metadata": {},
   "outputs": [],
   "source": [
    "from scraping_packers_homepage.llm_models.hompage_selector import select_comp_homepage_with_llm\n",
    "from scraping_packers_homepage.tools.google_searcher import search\n",
    "\n",
    "packer_list = ['AGP Grain Marketing, LLC',\n",
    "                'AVERE COMMODITIES CORP',\n",
    "               'A & R Logistics, Inc.',\n",
    "                'ADM Grain Company', \n",
    "                'Affton A Dana Company', \n",
    "                'AGP Grain Ltd.', \n",
    "                'AGP Grain Marketing, LLC.', \n",
    "                'AGP Processing, Inc', \n",
    "                'Agroex International INC.', \n",
    "                'Agropex International INC.', \n",
    "                'Alabama Dept. Of Agriculture and Industries', \n",
    "                'American Trade Partnership, LLC',]\n",
    "\n",
    "def get_homepage(packer):\n",
    "    result = search(packer, search_engine_id, api_key)\n",
    "    #reduced_result = [item for item in result['items'] if not item['link'].endswith('.pdf')]\n",
    "    reduced_result = reduce_search_result(result)\n",
    "    #url = select_comp_homepage_with_llm(llm, packer, result[\"items\"][:5]).strip('\" ')\n",
    "    url = select_comp_homepage_with_llm(llm, packer, reduced_result[:5]).strip('\" ')\n",
    "    if not url:\n",
    "        #url = select_comp_homepage_with_llm(llm, packer, result[\"items\"][5:]).strip('\" ')\n",
    "        url = select_comp_homepage_with_llm(llm, packer, reduced_result[5:]).strip('\" ')\n",
    "    return url\n",
    "\n",
    "# if True:\n",
    "#     packer = packer_list[0]\n",
    "#     print(get_homepage(packer))\n",
    "df['homepage'] = df['comp_name'].apply(get_homepage)    "
   ]
  },
  {
   "cell_type": "code",
   "execution_count": null,
   "metadata": {},
   "outputs": [],
   "source": [
    "tmp = search(\"AGP Grain Marketing, LLC\", search_engine_id, api_key)\n",
    "tmp"
   ]
  },
  {
   "cell_type": "code",
   "execution_count": 32,
   "metadata": {},
   "outputs": [],
   "source": [
    "df.to_csv('./output/중국_20240202_0959.csv', index=False, quoting=1)"
   ]
  },
  {
   "cell_type": "code",
   "execution_count": 27,
   "metadata": {},
   "outputs": [
    {
     "name": "stdout",
     "output_type": "stream",
     "text": [
      "{\"kind\": \"customsearch#search\", \"url\": {\"type\": \"application/json\", \"template\": \"https://www.googleapis.com/customsearch/v1?q={searchTerms}&num={count?}&start={startIndex?}&lr={language?}&safe={safe?}&cx={cx?}&sort={sort?}&filter={filter?}&gl={gl?}&cr={cr?}&googlehost={googleHost?}&c2coff={disableCnTwTranslation?}&hq={hq?}&hl={hl?}&siteSearch={siteSearch?}&siteSearchFilter={siteSearchFilter?}&exactTerms={exactTerms?}&excludeTerms={excludeTerms?}&linkSite={linkSite?}&orTerms={orTerms?}&dateRestrict={dateRestrict?}&lowRange={lowRange?}&highRange={highRange?}&searchType={searchType}&fileType={fileType?}&rights={rights?}&imgSize={imgSize?}&imgType={imgType?}&imgColorType={imgColorType?}&imgDominantColor={imgDominantColor?}&alt=json\"}, \"queries\": {\"request\": [{\"title\": \"Google Custom Search - AGRIGRAIN (COONAMBLE) PTY LTD\", \"totalResults\": \"56\", \"searchTerms\": \"AGRIGRAIN (COONAMBLE) PTY LTD\", \"count\": 10, \"startIndex\": 1, \"inputEncoding\": \"utf8\", \"outputEncoding\": \"utf8\", \"safe\": \"off\", \"cx\": \"714e948fe701d4571\"}], \"nextPage\": [{\"title\": \"Google Custom Search - AGRIGRAIN (COONAMBLE) PTY LTD\", \"totalResults\": \"56\", \"searchTerms\": \"AGRIGRAIN (COONAMBLE) PTY LTD\", \"count\": 10, \"startIndex\": 11, \"inputEncoding\": \"utf8\", \"outputEncoding\": \"utf8\", \"safe\": \"off\", \"cx\": \"714e948fe701d4571\"}]}, \"context\": {\"title\": \"전체 웹 검색용\"}, \"searchInformation\": {\"searchTime\": 0.11916, \"formattedSearchTime\": \"0.12\", \"totalResults\": \"56\", \"formattedTotalResults\": \"56\"}, \"items\": [{\"kind\": \"customsearch#result\", \"title\": \"Qube Agri kicks off with Agrigrain purchase - Grain Central\", \"htmlTitle\": \"Qube <b>Agri</b> kicks off with <b>Agrigrain</b> purchase - Grain Central\", \"link\": \"https://www.graincentral.com/logistics/qube-agri-kicks-off-with-agrigrain-purchase/\", \"displayLink\": \"www.graincentral.com\", \"snippet\": \"Sep 17, 2020 ... LOGISTICS provider Qube has bought Agrigrain's two sites at Narromine and Coonamble in the New South Wales grainbelt to provide the ...\", \"htmlSnippet\": \"Sep 17, 2020 <b>...</b> LOGISTICS provider Qube has bought <b>Agrigrain&#39;s</b> two sites at Narromine and <b>Coonamble</b> in the New South Wales grainbelt to provide the&nbsp;...\", \"cacheId\": \"hBJEFSB9580J\", \"formattedUrl\": \"https://www.graincentral.com/.../qube-agri-kicks-off-with-agrigrain-purcha...\", \"htmlFormattedUrl\": \"https://www.graincentral.com/.../qube-agri-kicks-off-with-<b>agrigrain</b>-purcha...\", \"pagemap\": {\"cse_thumbnail\": [{\"src\": \"https://encrypted-tbn3.gstatic.com/images?q=tbn:ANd9GcQQ5tuTr1hlN6wkCI_x1lpK40VrEY33tA8cOwbeT3caAHLbCGEMbkuMS87Z\", \"width\": \"266\", \"height\": \"190\"}], \"metatags\": [{\"og:image\": \"https://www.graincentral.com/wp-content/uploads/2020/04/agrigrain-container-jll.jpg\", \"og:type\": \"article\", \"article:published_time\": \"2020-09-17T03:00:41+00:00\", \"og:site_name\": \"Grain Central\", \"author\": \"Grain Central\", \"og:title\": \"Qube Agri kicks off with Agrigrain purchase - Grain Central\", \"twitter:label1\": \"Written by\", \"twitter:label2\": \"Est. reading time\", \"og:description\": \"Qube is buying Agrigrain's assets at Narromine and Coonamble to kick off its Qube Agri division which will link to its Quattro bulk terminal at Port Kembla, and Patrick's container facility at Port Botany...Read More\", \"twitter:data1\": \"Grain Central\", \"twitter:data2\": \"2 minutes\", \"facebook-domain-verification\": \"zzl8evana1l8ap4dm22muiuql6hftb\", \"article:modified_time\": \"2020-09-25T03:04:08+00:00\", \"viewport\": \"width=device-width, initial-scale=1.0\", \"og:locale\": \"en_US\", \"og:url\": \"https://www.graincentral.com/logistics/qube-agri-kicks-off-with-agrigrain-purchase/\"}], \"cse_image\": [{\"src\": \"https://www.graincentral.com/wp-content/uploads/2020/04/agrigrain-container-jll.jpg\"}]}}, {\"kind\": \"customsearch#result\", \"title\": \"Agrigrain Rindfleish - Agrigrain Coonamble | LinkedIn\", \"htmlTitle\": \"<b>Agrigrain</b> Rindfleish - <b>Agrigrain Coonamble</b> | LinkedIn\", \"link\": \"https://au.linkedin.com/in/agrigrain-rindfleish-7714037a\", \"displayLink\": \"au.linkedin.com\", \"snippet\": \"View Agrigrain Rindfleish's profile on LinkedIn, the world's largest professional community. Agrigrain has 1 job listed on their profile.\", \"htmlSnippet\": \"View <b>Agrigrain</b> Rindfleish&#39;s profile on LinkedIn, the world&#39;s largest professional community. <b>Agrigrain</b> has 1 job listed on their profile.\", \"formattedUrl\": \"https://au.linkedin.com/in/agrigrain-rindfleish-7714037a\", \"htmlFormattedUrl\": \"https://au.linkedin.com/in/<b>agrigrain</b>-rindfleish-7714037a\", \"pagemap\": {\"cse_thumbnail\": [{\"src\": \"https://encrypted-tbn1.gstatic.com/images?q=tbn:ANd9GcQpEnMCOR-ytx0ZXHO2rgJlezc4CfXm5iHZMEjL8fSfOciDiTG4CU0Uc8QO\", \"width\": \"225\", \"height\": \"225\"}], \"metatags\": [{\"og:image\": \"https://static.licdn.com/aero-v1/sc/h/1c5u578iilxfi4m4dvc4q810q\", \"twitter:card\": \"summary\", \"platform-worker\": \"https://static.licdn.com/aero-v1/sc/h/7nirg34a8ey4y2l4rw7xgwxx4\", \"al:android:package\": \"com.linkedin.android\", \"bingbot\": \"nocache\", \"locale\": \"en_US\", \"al:ios:url\": \"https://au.linkedin.com/in/agrigrain-rindfleish-7714037a\", \"og:description\": \"View Agrigrain Rindfleish’s profile on LinkedIn, the world’s largest professional community. Agrigrain has 1 job listed on their profile. See the complete profile on LinkedIn and discover Agrigrain’s connections and jobs at similar companies.\", \"al:ios:app_store_id\": \"288429040\", \"platform\": \"https://static.licdn.com/aero-v1/sc/h/b34w1ysrgrlt2ml19gbr4tszz\", \"twitter:image\": \"https://static.licdn.com/aero-v1/sc/h/1c5u578iilxfi4m4dvc4q810q\", \"profile:last_name\": \"Rindfleish\", \"twitter:site\": \"@Linkedin\", \"litmsprofilename\": \"public-profile-frontend\", \"profile:first_name\": \"Agrigrain\", \"og:type\": \"profile\", \"twitter:title\": \"Agrigrain Rindfleish - Agrigrain Coonamble | LinkedIn\", \"al:ios:app_name\": \"LinkedIn\", \"og:title\": \"Agrigrain Rindfleish - Agrigrain Coonamble | LinkedIn\", \"pagekey\": \"public_profile_v3_mobile\", \"al:android:url\": \"https://au.linkedin.com/in/agrigrain-rindfleish-7714037a\", \"viewport\": \"width=device-width, initial-scale=1.0\", \"twitter:description\": \"View Agrigrain Rindfleish’s profile on LinkedIn, the world’s largest professional community. Agrigrain has 1 job listed on their profile. See the complete profile on LinkedIn and discover Agrigrain’s connections and jobs at similar companies.\", \"ubba\": \"https://static.licdn.com/aero-v1/sc/h/4tlaqq07xfpyc05jar1t5c60b\", \"og:url\": \"https://au.linkedin.com/in/agrigrain-rindfleish-7714037a\", \"al:android:app_name\": \"LinkedIn\"}], \"cse_image\": [{\"src\": \"https://static.licdn.com/aero-v1/sc/h/1c5u578iilxfi4m4dvc4q810q\"}]}}, {\"kind\": \"customsearch#result\", \"title\": \"Current details for ABN 83 158 059 995 | ABN Lookup\", \"htmlTitle\": \"Current details for ABN 83 158 059 995 | ABN Lookup\", \"link\": \"https://abr.business.gov.au/ABN/View?abn=83158059995\", \"displayLink\": \"abr.business.gov.au\", \"snippet\": \"Feb 9, 2022 ... ABN details help. Entity name: Agrigrain (Coonamble) Pty Ltd. ABN status: Cancelled from 08 Feb 2022. Entity type: Australian Private ...\", \"htmlSnippet\": \"Feb 9, 2022 <b>...</b> ABN details help. Entity name: <b>Agrigrain</b> (<b>Coonamble</b>) <b>Pty Ltd</b>. ABN status: Cancelled from 08 Feb 2022. Entity type: Australian Private&nbsp;...\", \"cacheId\": \"3mPZGgYCyRoJ\", \"formattedUrl\": \"https://abr.business.gov.au/ABN/View?abn=83158059995\", \"htmlFormattedUrl\": \"https://abr.business.gov.au/ABN/View?abn=83158059995\", \"pagemap\": {\"postaladdress\": [{\"addresslocality\": \"WA 6160\"}], \"metatags\": [{\"aglsterms.category\": \"Service\", \"aglsterms.function\": \"ABN public details\", \"viewport\": \"width=device-width, initial-scale=1\", \"dcterms.publisher\": \"corporateName=Department of Industry\", \"dcterms.title\": \"ABN Lookup\", \"dcterms.description\": \"Provides access to the publicly available information provided by businesses when they register for an Australian Business Number (ABN).\", \"dcterms.date\": \"2014-11-01\", \"dcterms.identifier\": \"http%3a%2f%2fabr.business.gov.aus\", \"aglsterms.jurisdiction\": \"Australia\"}], \"localbusiness\": [{\"legalname\": \"Agrigrain (Coonamble) Pty Ltd\"}]}}, {\"kind\": \"customsearch#result\", \"title\": \"Qube Agri | Regional Exporter Services for Grain & Cottonseed\", \"htmlTitle\": \"Qube <b>Agri</b> | Regional Exporter Services for Grain &amp; Cottonseed\", \"link\": \"https://qube.com.au/logistics/agri/\", \"displayLink\": \"qube.com.au\", \"snippet\": \"... Coonamble offer trading exposure to both domestic and international markets. The Narromine facility has been in operation since 2000 and Coonamble since 2012.\", \"htmlSnippet\": \"... <b>Coonamble</b> offer trading exposure to both domestic and international markets. The Narromine facility has been in operation since 2000 and <b>Coonamble</b> since 2012.\", \"cacheId\": \"SyKTrXxNmfkJ\", \"formattedUrl\": \"https://qube.com.au/logistics/agri/\", \"htmlFormattedUrl\": \"https://qube.com.au/logistics/agri/\", \"pagemap\": {\"metatags\": [{\"og:image\": \"https://qube.com.au/wp-content/uploads/2020/11/Agri-Banner.jpg\", \"og:type\": \"article\", \"og:image:width\": \"1920\", \"twitter:card\": \"summary_large_image\", \"og:site_name\": \"Qube\", \"og:title\": \"Qube Agri | Regional Exporter Services for Grain & Cottonseed\", \"og:image:height\": \"850\", \"twitter:label1\": \"Est. reading time\", \"og:image:type\": \"image/jpeg\", \"msapplication-tileimage\": \"https://qube.com.au/wp-content/uploads/2020/07/cropped-favicon-270x270.png\", \"og:description\": \"Qube Agri providing regional exporters direct access to global markets for grain, oilseeds, pulses & cottonseed.\", \"twitter:data1\": \"1 minute\", \"article:modified_time\": \"2024-01-23T23:35:08+00:00\", \"viewport\": \"width=device-width, initial-scale=1\", \"og:locale\": \"en_US\", \"og:url\": \"https://qube.com.au/logistics/agri/\"}]}}, {\"kind\": \"customsearch#result\", \"title\": \"Qube on LinkedIn: #agriculture #acquisition #regional #logistics ...\", \"htmlTitle\": \"Qube on LinkedIn: #<b>agriculture</b> #acquisition #regional #logistics ...\", \"link\": \"https://www.linkedin.com/posts/qube-holdings_agriculture-acquisition-regional-activity-6712142910260953088-ZSzq\", \"displayLink\": \"www.linkedin.com\", \"snippet\": \"Sep 16, 2020 ... Between the Narromine and Coonamble sites, Agrigrain's business offers ... It was a big week for Qube at the Port of Brisbane Pty Ltd! Our ...\", \"htmlSnippet\": \"Sep 16, 2020 <b>...</b> Between the Narromine and <b>Coonamble</b> sites, <b>Agrigrain&#39;s</b> business offers ... It was a big week for Qube at the Port of Brisbane <b>Pty Ltd</b>! Our&nbsp;...\", \"formattedUrl\": \"https://www.linkedin.com/.../qube-holdings_agriculture-acquisition-regiona...\", \"htmlFormattedUrl\": \"https://www.linkedin.com/.../qube-holdings_agriculture-acquisition-regiona...\", \"pagemap\": {\"cse_thumbnail\": [{\"src\": \"https://encrypted-tbn2.gstatic.com/images?q=tbn:ANd9GcRog-bf7ZK9As30tzlUai8YMx_9aBi19g89tvfcZL0nLE-Sp1cLTtyebIcv\", \"width\": \"283\", \"height\": \"178\"}], \"metatags\": [{\"og:image\": \"https://media.licdn.com/dms/image/C5622AQGqMpi3v_nq1w/feedshare-shrink_800/0/1600299574371?e=2147483647&v=beta&t=Vn8v3q27wGY63vs6SR8zZcxZjHDu40sJgIscW4-N1X8\", \"twitter:title\": \"Qube on LinkedIn: #agriculture #acquisition #regional #logistics #export\", \"twitter:card\": \"summary_large_image\", \"og:type\": \"article\", \"al:ios:app_name\": \"LinkedIn\", \"twitter:url\": \"https://www.linkedin.com/posts/qube-holdings_agriculture-acquisition-regional-activity-6712142910260953088-ZSzq\", \"og:title\": \"Qube on LinkedIn: #agriculture #acquisition #regional #logistics #export\", \"al:android:package\": \"com.linkedin.android\", \"pagekey\": \"p_public_post\", \"locale\": \"en_US\", \"al:ios:url\": \"https://www.linkedin.com/posts/qube-holdings_agriculture-acquisition-regional-activity-6712142910260953088-ZSzq\", \"og:description\": \"Qube has reached an agreement to acquire the business assets of Agrigrain (a NSW-based grain handling business). The agreement includes the acquisition of…\", \"al:ios:app_store_id\": \"288429040\", \"twitter:image\": \"https://media.licdn.com/dms/image/C5622AQGqMpi3v_nq1w/feedshare-shrink_800/0/1600299574371?e=2147483647&v=beta&t=Vn8v3q27wGY63vs6SR8zZcxZjHDu40sJgIscW4-N1X8\", \"al:android:url\": \"https://www.linkedin.com/posts/qube-holdings_agriculture-acquisition-regional-activity-6712142910260953088-ZSzq\", \"lnkd:url\": \"https://www.linkedin.com/feed/update/urn:li:activity:6712142910260953088\", \"twitter:site\": \"@linkedin\", \"viewport\": \"width=device-width, initial-scale=1.0\", \"twitter:description\": \"Qube has reached an agreement to acquire the business assets of Agrigrain (a NSW-based grain handling business). The agreement includes the acquisition of…\", \"og:url\": \"https://www.linkedin.com/posts/qube-holdings_agriculture-acquisition-regional-activity-6712142910260953088-ZSzq\", \"al:android:app_name\": \"LinkedIn\"}], \"cse_image\": [{\"src\": \"https://media.licdn.com/dms/image/C5622AQGqMpi3v_nq1w/feedshare-shrink_800/0/1600299574371?e=2147483647&v=beta&t=Vn8v3q27wGY63vs6SR8zZcxZjHDu40sJgIscW4-N1X8\"}]}}, {\"kind\": \"customsearch#result\", \"title\": \"Find Oilseed and Grain Farming Companies in Perth - Dun ...\", \"htmlTitle\": \"Find Oilseed and Grain Farming Companies in Perth - Dun ...\", \"link\": \"https://www.dnb.com/business-directory/company-information.oilseed_and_grain_farming.au.western_australia.perth.html\", \"displayLink\": \"www.dnb.com\", \"snippet\": \"AGRIGRAIN (COONAMBLE) PTY LTD. Country: Narromine, New South Wales Australia ... LTD. Country: West Perth, Western Australia Australia. Sales Revenue ($M):.\", \"htmlSnippet\": \"<b>AGRIGRAIN</b> (<b>COONAMBLE</b>) <b>PTY LTD</b>. Country: Narromine, New South Wales Australia ... LTD. Country: West Perth, Western Australia Australia. Sales Revenue ($M):.\", \"cacheId\": \"Y3GmXmWMZ6UJ\", \"formattedUrl\": \"https://www.dnb.com/.../company-information.oilseed_and_grain_farming....\", \"htmlFormattedUrl\": \"https://www.dnb.com/.../company-information.oilseed_and_grain_farming....\", \"pagemap\": {\"cse_thumbnail\": [{\"src\": \"https://encrypted-tbn3.gstatic.com/images?q=tbn:ANd9GcQDIaJ6LWBv6VjBIF_vL45RL4xNqVALHs-igt1Gr1SHqSST6pQjECxCn0c\", \"width\": \"225\", \"height\": \"225\"}], \"metatags\": [{\"og:type\": \"article\", \"twitter:card\": \"summary_large_image\", \"viewport\": \"width=device-width, initial-scale=1.0\", \"og:title\": \"Find Oilseed and Grain Farming Companies in Perth - Dun & Bradstreet\", \"og:url\": \"https://www.dnb.com/business-directory/company-information.oilseed_and_grain_farming.au.western_australia.perth.html\", \"og:description\": \"Find info on Oilseed and Grain Farming companies in Perth, including financial statements, sales and marketing contacts, top competitors, and firmographic insights.\"}], \"cse_image\": [{\"src\": \"https://www.dnb.com/content/dam/english/image-library/Modernization/icons/icon-dnbdirect-integrate.svg\"}]}}, {\"kind\": \"customsearch#result\", \"title\": \"Seaboard Corp - List of subsidiaries. - EX-21 - February 19, 2020\", \"htmlTitle\": \"Seaboard Corp - List of subsidiaries. - EX-21 - February 19, 2020\", \"link\": \"https://fintel.io/doc/sec-seb-seaboard-ex21-2020-february-19-18406-407\", \"displayLink\": \"fintel.io\", \"snippet\": \"Feb 19, 2020 ... Agencias Generales Conaven, C.A.. Conaven. Venezuela. Agrigrain (Coonamble) Pty Ltd.*. Same. Australia. Agrigrain Pty Ltd.*. Same. Australia.\", \"htmlSnippet\": \"Feb 19, 2020 <b>...</b> Agencias Generales Conaven, C.A.. Conaven. Venezuela. <b>Agrigrain</b> (<b>Coonamble</b>) <b>Pty Ltd</b>.*. Same. Australia. Agrigrain Pty Ltd.*. Same. Australia.\", \"cacheId\": \"m-96zcrWoUQJ\", \"formattedUrl\": \"https://fintel.io/doc/sec-seb-seaboard-ex21-2020-february-19-18406-407\", \"htmlFormattedUrl\": \"https://fintel.io/doc/sec-seb-seaboard-ex21-2020-february-19-18406-407\", \"pagemap\": {\"metatags\": [{\"msapplication-tilecolor\": \"#da532c\", \"og:type\": \"website\", \"viewport\": \"width=device-width, initial-scale=1, shrink-to-fit=no\", \"og:title\": \"Seaboard Corp - List of subsidiaries. - EX-21 - February 19, 2020\", \"title\": \"Seaboard Corp - List of subsidiaries. - EX-21 - February 19, 2020\", \"facebook-domain-verification\": \"vt0zagpa1d5nkh94y9m7o0wh7acjcd\"}]}}, {\"kind\": \"customsearch#result\", \"title\": \"70+ \\\"Rindfleish\\\" profiles | LinkedIn\", \"htmlTitle\": \"70+ &quot;Rindfleish&quot; profiles | LinkedIn\", \"link\": \"https://www.linkedin.com/pub/dir/+/Rindfleish\", \"displayLink\": \"www.linkedin.com\", \"snippet\": \"Aqua Engineering Pty Ltd, +5 more ., +2 more · Sophie Rindfleish ... Operations Manager at Agrigrain Coonamble. New South Wales, Australia.\", \"htmlSnippet\": \"Aqua Engineering <b>Pty Ltd</b>, +5 more ., +2 more &middot; Sophie Rindfleish ... Operations Manager at <b>Agrigrain Coonamble</b>. New South Wales, Australia.\", \"formattedUrl\": \"https://www.linkedin.com/pub/dir/+/Rindfleish\", \"htmlFormattedUrl\": \"https://www.linkedin.com/pub/dir/+/Rindfleish\", \"pagemap\": {\"metatags\": [{\"og:image\": \"https://static.licdn.com/aero-v1/sc/h/3usjoqttpyv7mplawrjzi58bw\", \"og:type\": \"article\", \"twitter:card\": \"summary\", \"twitter:title\": \"70+ &quot;Rindfleish&quot; profiles | LinkedIn\", \"clientsideingraphs\": \"1\", \"og:title\": \"70+ &quot;Rindfleish&quot; profiles | LinkedIn\", \"pagekey\": \"p_people_guest_search\", \"li_feature\": \"true\", \"locale\": \"en_US\", \"og:description\": \"View the profiles of professionals named &quot;Rindfleish&quot; on LinkedIn. There are 70+ professionals named &quot;Rindfleish&quot;, who use LinkedIn to exchange information, ideas, and opportunities.\", \"twitter:image\": \"https://static.licdn.com/aero-v1/sc/h/3usjoqttpyv7mplawrjzi58bw\", \"twitter:site\": \"@linkedin\", \"viewport\": \"width=device-width, initial-scale=1.0\", \"twitter:description\": \"View the profiles of professionals named &quot;Rindfleish&quot; on LinkedIn. There are 70+ professionals named &quot;Rindfleish&quot;, who use LinkedIn to exchange information, ideas, and opportunities.\", \"litmsprofilename\": \"people-guest-frontend\", \"og:url\": \"https://www.linkedin.com/pub/dir/+/Rindfleish\"}], \"cse_image\": [{\"src\": \"https://static.licdn.com/aero-v1/sc/h/3usjoqttpyv7mplawrjzi58bw\"}]}}, {\"kind\": \"customsearch#result\", \"title\": \"中华人民共和国大麦产业反倾销调查申请书【附件】\", \"htmlTitle\": \"中华人民共和国大麦产业反倾销调查申请书【附件】\", \"link\": \"http://images.mofcom.gov.cn/trb/201811/20181119081758102.pdf\", \"displayLink\": \"images.mofcom.gov.cn\", \"snippet\": \"Nov 19, 2018 ... 6641 ACCESS GRAIN PTY LTD. NULLAWIL. VIC. 2. 4035 AGRIFOOD TECHNOLOGY PTY LTD. WERRIBEE. VIC. 3. 1008 AGRIGRAIN (COONAMBLE) PTY LTD. COONAMBLE.\", \"htmlSnippet\": \"Nov 19, 2018 <b>...</b> 6641 ACCESS GRAIN <b>PTY LTD</b>. NULLAWIL. VIC. 2. 4035 AGRIFOOD TECHNOLOGY <b>PTY LTD</b>. WERRIBEE. VIC. 3. 1008 <b>AGRIGRAIN</b> (<b>COONAMBLE</b>) <b>PTY LTD</b>. <b>COONAMBLE</b>.\", \"cacheId\": \"9CPQWZ81dxQJ\", \"formattedUrl\": \"http://images.mofcom.gov.cn/trb/201811/20181119081758102.pdf\", \"htmlFormattedUrl\": \"http://images.mofcom.gov.cn/trb/201811/20181119081758102.pdf\", \"pagemap\": {\"cse_thumbnail\": [{\"src\": \"https://encrypted-tbn1.gstatic.com/images?q=tbn:ANd9GcRnwodOiLibCDmdspuaS_K_7p8ZAKuQGbBQUmexd0UJx0rSN6qC1WI6Rzcr\", \"width\": \"267\", \"height\": \"188\"}], \"metatags\": [{\"moddate\": \"D:20220311102215+08'00'\", \"creationdate\": \"D:20181025101302+08'00'\", \"creator\": \"PScript5.dll Version 5.2.2\", \"author\": \"Administrator\", \"producer\": \"Acrobat Distiller 9.0.0 (Windows)\", \"title\": \"<4D6963726F736F667420576F7264202D20D6A4BEDDC4BFC2BCBCB0C7E5B5A5>\"}], \"cse_image\": [{\"src\": \"x-raw-image:///d79da4907c0c15cd85204dc35323fcef216bf28c26eaa83f510a084ac932b2df\"}]}, \"mime\": \"application/pdf\", \"fileFormat\": \"PDF/Adobe Acrobat\"}, {\"kind\": \"customsearch#result\", \"title\": \"About - Plum Grove\", \"htmlTitle\": \"About - Plum Grove\", \"link\": \"https://www.plumgrove.com.au/about/\", \"displayLink\": \"www.plumgrove.com.au\", \"snippet\": \"Agrigrain, with physical storage locations in Narromine, NSW and Coonamble, NSW ... Plum Grove Pty Ltd. Office 24, Manning Buildings, 135 High Street Mall\", \"htmlSnippet\": \"<b>Agrigrain</b>, with physical storage locations in Narromine, NSW and <b>Coonamble</b>, NSW ... Plum Grove <b>Pty Ltd</b>. Office 24, Manning Buildings, 135 High Street Mall\", \"cacheId\": \"NaV6Wx7BKAQJ\", \"formattedUrl\": \"https://www.plumgrove.com.au/about/\", \"htmlFormattedUrl\": \"https://www.plumgrove.com.au/about/\", \"pagemap\": {\"cse_thumbnail\": [{\"src\": \"https://encrypted-tbn3.gstatic.com/images?q=tbn:ANd9GcQs46V3Pm27l0z8Hxerd65jcgJyTZAVSG7R92i5AIvI0-PixaOvAtM0yvWd\", \"width\": \"321\", \"height\": \"157\"}], \"breadcrumb\": [{\"title\": \"Home\", \"url\": \"Home\"}, {\"title\": \"About\"}], \"metatags\": [{\"og:image\": \"https://www.plumgrove.com.au/media/1344/plum-grove-logo-640-padded.png\", \"og:type\": \"website\", \"og:site_name\": \"Plum Grove\", \"viewport\": \"width=device-width, initial-scale=1, maximum-scale=1, user-scalable=0\", \"og:title\": \"About - Plum Grove\", \"og:url\": \"https://www.plumgrove.com.au/about/\"}], \"cse_image\": [{\"src\": \"https://www.plumgrove.com.au/media/1344/plum-grove-logo-640-padded.png\"}]}}]}\n",
      " \"\"\n",
      " \"\"\n",
      "\n"
     ]
    }
   ],
   "source": [
    "import json\n",
    "print(json.dumps(result, ensure_ascii=False))\n",
    "\n",
    "filtered_result = [item for item in result['items'] if not item['link'].endswith('.pdf')]\n",
    "\n",
    "packer = \"AGRIGRAIN (COONAMBLE) PTY LTD\"\n",
    "#url = select_comp_homepage_with_llm(llm, packer, result[\"items\"][:5]).strip('\" ')\n",
    "#url = select_comp_homepage_with_llm(llm, packer, reduced_result[:5]).strip('\" ')\n",
    "url = select_comp_homepage_with_llm(llm, packer, filtered_result[:5]).strip('\" ')\n",
    "if not url:\n",
    "    #url = select_comp_homepage_with_llm(llm, packer, result[\"items\"][5:]).strip('\" ')\n",
    "    #url = select_comp_homepage_with_llm(llm, packer, reduced_result[5:]).strip('\" ')\n",
    "    url = select_comp_homepage_with_llm(llm, packer, filtered_result[5:]).strip('\" ')\n",
    "print(url)"
   ]
  },
  {
   "cell_type": "code",
   "execution_count": 14,
   "metadata": {},
   "outputs": [
    {
     "name": "stdout",
     "output_type": "stream",
     "text": [
      "url\n"
     ]
    }
   ],
   "source": [
    "url = select_comp_homepage_with_llm(llm, packer, reduced_result[:5])"
   ]
  },
  {
   "cell_type": "code",
   "execution_count": 40,
   "metadata": {},
   "outputs": [
    {
     "data": {
      "text/plain": [
       "<module 'scraping_packers_homepage.llm_models.hompage_selector' from '/Users/yoonhae/test/crawling/scraping_packers_homepage/llm_models/hompage_selector.py'>"
      ]
     },
     "execution_count": 40,
     "metadata": {},
     "output_type": "execute_result"
    }
   ],
   "source": [
    "import scraping_packers_homepage.llm_models.hompage_selector as hompage_selector\n",
    "import importlib\n",
    "importlib.reload(hompage_selector)"
   ]
  },
  {
   "cell_type": "code",
   "execution_count": 51,
   "metadata": {},
   "outputs": [],
   "source": [
    "import requests\n",
    "from bs4 import BeautifulSoup\n",
    "import pandas as pd\n",
    "from requests.adapters import HTTPAdapter, Retry\n",
    "\n",
    "\n",
    "response = requests.get('https://www.viterra.com/')\n",
    "soup = BeautifulSoup(response.text, 'html.parser')"
   ]
  },
  {
   "cell_type": "code",
   "execution_count": 52,
   "metadata": {},
   "outputs": [
    {
     "name": "stdout",
     "output_type": "stream",
     "text": [
      "{'charset': 'utf-8'}\n",
      "{'http-equiv': 'X-UA-Compatible', 'content': 'IE=edge'}\n",
      "{'name': 'viewport', 'content': 'width=device-width, initial-scale=1.0, maximum-scale=5.0, minimum-scale=1.0'}\n",
      "{'name': 'description', 'content': 'Empowering agriculture through connectivity. Our global network links producers and consumers for sustainable, traceable, quality-controlled products.'}\n",
      "{'name': 'date', 'content': '2023-11-24T13:39:29.578Z'}\n",
      "{'property': 'og:title', 'content': 'Viterra - The Agriculture Network'}\n",
      "{'property': 'og:description', 'content': 'Empowering agriculture through connectivity. Our global network links producers and consumers for sustainable, traceable, quality-controlled products.'}\n",
      "{'property': 'og:url', 'content': 'https://www.viterra.com'}\n",
      "<title>Viterra - The Agriculture Network</title>\n"
     ]
    }
   ],
   "source": [
    "for meta in soup.find_all('meta'):\n",
    "    print(meta.attrs)\n",
    "\n",
    "print(soup.find('title'))"
   ]
  }
 ],
 "metadata": {
  "kernelspec": {
   "display_name": "crawling",
   "language": "python",
   "name": "python3"
  },
  "language_info": {
   "codemirror_mode": {
    "name": "ipython",
    "version": 3
   },
   "file_extension": ".py",
   "mimetype": "text/x-python",
   "name": "python",
   "nbconvert_exporter": "python",
   "pygments_lexer": "ipython3",
   "version": "3.8.12"
  }
 },
 "nbformat": 4,
 "nbformat_minor": 2
}
