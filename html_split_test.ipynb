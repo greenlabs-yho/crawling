{
 "cells": [
  {
   "cell_type": "code",
   "execution_count": 8,
   "metadata": {},
   "outputs": [],
   "source": [
    "url_list = [\n",
    "'https://www.naturzgroup.com/',  # 60\n",
    "'https://kayalfoods.in/',  # 4556\n",
    "'https://www.torresyribelles.com/home2'\n",
    "]\n",
    "\n",
    "headers = {\n",
    "    'User-Agent': 'Mozilla/5.0 (Windows NT 10.0; Win64; x64) AppleWebKit/537.36 (KHTML, like Gecko) Chrome/58.0.3029.110 Safari/537.3'\n",
    "}\n"
   ]
  },
  {
   "cell_type": "code",
   "execution_count": 49,
   "metadata": {},
   "outputs": [],
   "source": [
    "file_path = \"/Users/yoonhae/Downloads/crawling_processed_(데이터팀 검토) 그레인스캐너 패커 크롤링 정리 - Gulfood_정리포맷_20240123_134035.csv\"\n",
    "import pandas as pd\n",
    "\n",
    "df = pd.read_csv(file_path)"
   ]
  },
  {
   "cell_type": "code",
   "execution_count": 85,
   "metadata": {},
   "outputs": [
    {
     "name": "stderr",
     "output_type": "stream",
     "text": [
      "/Users/yoonhae/.pyenv/versions/3.8.12/envs/crawling/lib/python3.8/site-packages/urllib3/connectionpool.py:1099: InsecureRequestWarning: Unverified HTTPS request is being made to host 'www.daviscl.com'. Adding certificate verification is strongly advised. See: https://urllib3.readthedocs.io/en/latest/advanced-usage.html#tls-warnings\n",
      "  warnings.warn(\n"
     ]
    },
    {
     "name": "stdout",
     "output_type": "stream",
     "text": [
      "200\n"
     ]
    }
   ],
   "source": [
    "import requests\n",
    "from bs4 import BeautifulSoup\n",
    "\n",
    "#url = url_list[1]\n",
    "url = 'https://www.daviscl.com/'\n",
    "response = requests.get(url, headers=headers, timeout=5, verify=False)\n",
    "if response.status_code == 200:\n",
    "    page_soup = BeautifulSoup(response.content, 'html.parser')\n",
    "\n",
    "print(response.status_code)"
   ]
  },
  {
   "cell_type": "code",
   "execution_count": 83,
   "metadata": {},
   "outputs": [
    {
     "name": "stdout",
     "output_type": "stream",
     "text": [
      "분할된 텍스트 1: Davis Commodities Limited | sugar rice oil and fats distributor\n",
      "top of page\n",
      "HOME\n",
      "ABOUT\n",
      "PRODUCTS\n",
      "Suga\n",
      "len: 2157\n",
      "분할된 텍스트 2: Quality over Quantity\n",
      "We believe that quality of product and services are the first and foremost cri\n",
      "len: 447\n"
     ]
    }
   ],
   "source": [
    "from bs4 import BeautifulSoup, NavigableString, Tag, Comment, Doctype, ProcessingInstruction\n",
    "\n",
    "\n",
    "# 분할 기준 길이 설정 (예: 2000 토큰)\n",
    "split_length = 2000\n",
    "\n",
    "# 각 태그의 자식 노드의 텍스트를 추출하고 분할\n",
    "split_texts = []\n",
    "current_list = []\n",
    "total_len = 0\n",
    "\n",
    "for element in page_soup.descendants:  # body 태그의 자식 노드 순회\n",
    "    if isinstance(element, NavigableString) and not isinstance(element, (Comment, Doctype, ProcessingInstruction)):\n",
    "        txt = element.strip().replace('\\n\\n\\n', ' ')\n",
    "        parent = element.parent\n",
    "        if txt and (parent and parent.name not in ['script', 'style', 'meta', 'noscript']):\n",
    "            current_list.append(txt)\n",
    "            total_len += len(txt)\n",
    "    elif isinstance(element, Tag):\n",
    "        if element.name == 'div':\n",
    "            if total_len > split_length:\n",
    "                split_texts.append('\\n'.join(current_list))\n",
    "                current_list.clear()\n",
    "                total_len = 0\n",
    "\n",
    "# 마지막 남은 텍스트 추가\n",
    "if current_list:\n",
    "    split_texts.append('\\n'.join(current_list))\n",
    "\n",
    "# 분할된 텍스트 출력\n",
    "for i, text in enumerate(split_texts, 1):\n",
    "    print(f\"분할된 텍스트 {i}: {text[:100]}\")\n",
    "    print('len:', len(text))\n",
    "\n",
    "page_txt = page_soup.text.strip().replace('\\n\\n\\n', ' ')"
   ]
  },
  {
   "cell_type": "code",
   "execution_count": 84,
   "metadata": {},
   "outputs": [
    {
     "name": "stdout",
     "output_type": "stream",
     "text": [
      "  ********* start!!\n",
      "Davis Commodities Limited | sugar rice oil and fats distributor\n",
      "top of page\n",
      "HOME\n",
      "ABOUT\n",
      "PRODUCTS\n",
      "Sugar\n",
      "Rice\n",
      "Oils and Fats\n",
      "SERVICES\n",
      "CONTACT\n",
      "INVESTORS\n",
      "Davis Commodities Limited\n",
      "​\n",
      "From Mills to the Meals\n",
      "A Singapore agri-commodity company with a reach not only to the Asia but to the rest of the world.\n",
      "Learn More\n",
      "Professional\n",
      "Services\n",
      "How can we help you?\n",
      "Agri-COmmodity\n",
      "Our speciality in containerized shipment of Sugar, Rice and Oil will best fulfil on your requirements.\n",
      "Global Network\n",
      "Our well connected network globally enables us to deliver and fulfil our customers’ needs efficiently.\n",
      "Retail Marketing\n",
      "Choosing right distribution channels and marketing strategies will maximize the potential of your product.\n",
      "Features\n",
      "&\n",
      "Product Line\n",
      "Some of the key quality commodities that we supply to our customers\n",
      "Sugar\n",
      "Up\n",
      "Rice\n",
      "Up\n",
      "Oil\n",
      "Up\n",
      "At Davis Commodities Limited, we are committed to providing our customers with delicious, safe and healthy food products. We have an extensive production line that is constantly improved and updated, so that we can provide the best quality products. Visit our website to view a video of our production line.\n",
      "View Video\n",
      "Why\n",
      "Choose Us\n",
      "Davis Commodities Limited has a team of experienced managers and committed workforce with almost two decades of hands-on marketing experiences on consumer food and beverage products.\n",
      "Contact us\n",
      "YEARS OF EXPERIENCE\n",
      "With many years of expertise in this field since we started our operations in 1999 we had created a vast network not only in the neighboring regions but also into the further regions.\n",
      "Wide Range Of Agricultural Commodities\n",
      "With our wide range of products definitely there will be something of your requirement.\n",
      "Main Markets - From Asia to Global\n",
      "Reaching out from Asia to Global market makes more diversify of the varieties and range of products that we offer.\n",
      "Experienced Managers Handling Specific Products\n",
      "Reaching out from Asia to Global market makes more diversify of the varieties and range of products that we offer.\n",
      "Culture\n",
      "& Values\n",
      "Distribution Network\n",
      "Working with our local and overseas partners and distributors making sure products will reach target consumers readily. Quality over Quantity\n",
      "We believe that quality of product and services are the first and foremost criteria to us.\n",
      "Delivery Excellence\n",
      "Always working our best together with our partners to deliver excellence always.\n",
      "10 Bukit Batok Crescent\n",
      "The Spire #10-01\n",
      "Singapore 658079\n",
      "+65 6896 5333\n",
      "Enquiry@maxwill.com.sg\n",
      "Subscribe to our newsletter • Don’t miss out!\n",
      "Email\n",
      "Join\n",
      "Thanks for subscribing!\n",
      "Copyright © 2023 Davis Commodities Limited\n",
      "bottom of page\n",
      "  ********* end!!\n",
      "Davis Commodities Limited | sugar rice oil and fats distributor           \n",
      "\n",
      "top of pageHOMEABOUTPRODUCTSSugarRiceOils and FatsSERVICESCONTACT INVESTORS \n",
      "\n",
      "Davis Commodities Limited​\n",
      "From Mills to the MealsA Singapore agri-commodity company with a reach not only to the Asia but to the rest of the world.Learn MoreProfessional ServicesHow can we help you?  Agri-COmmodityOur speciality in containerized shipment of Sugar, Rice and Oil will best fulfil on your requirements. \n",
      "\n",
      "Global NetworkOur well connected network globally enables us to deliver and fulfil our customers’ needs efficiently.   \n",
      "Retail MarketingChoosing right distribution channels and marketing strategies will maximize the potential of your product.Features & Product LineSome of the key quality commodities that we supply to our customersSugarUp  RiceUp  OilUp  At Davis Commodities Limited, we are committed to providing our customers with delicious, safe and healthy food products. We have an extensive production line that is constantly improved and updated, so that we can provide the best quality products. Visit our website to view a video of our production line.View Video \n",
      "\n",
      "Why Choose UsDavis Commodities Limited has a team of experienced managers and committed workforce with almost two decades of hands-on marketing experiences on consumer food and beverage products.Contact us    \n",
      "YEARS OF EXPERIENCEWith many years of expertise in this field since we started our operations in 1999 we had created a vast network not only in the neighboring regions but also into the further regions.  \n",
      "Wide Range Of Agricultural CommoditiesWith our wide range of products definitely there will be something of your requirement. \n",
      "\n",
      "Main Markets - From Asia to GlobalReaching out from Asia to Global market makes more diversify of the varieties and range of products that we offer.  Experienced Managers Handling Specific ProductsReaching out from Asia to Global market makes more diversify of the varieties and range of products that we offer.Culture & Values \n",
      "\n",
      "Distribution NetworkWorking with our local and overseas partners and distributors making sure products will reach target consumers readily.  \n",
      "\n",
      "Quality over QuantityWe believe that quality of product and services are the first and foremost criteria to us. \n",
      "\n",
      "Delivery ExcellenceAlways working our best together with our partners to deliver excellence always.  10 Bukit Batok Crescent\n",
      "The Spire #10-01\n",
      "Singapore 658079      +65 6896 5333    \n",
      "\n",
      "Enquiry@maxwill.com.sgSubscribe to our newsletter • Don’t miss out!Email JoinThanks for subscribing!Copyright © 2023 Davis Commodities Limitedbottom of page\n"
     ]
    }
   ],
   "source": [
    "print('  ********* start!!')\n",
    "print(split_texts[0], split_texts[1])\n",
    "print('  ********* end!!')\n",
    "print(page_txt)"
   ]
  },
  {
   "cell_type": "code",
   "execution_count": 60,
   "metadata": {},
   "outputs": [],
   "source": [
    "from bs4 import BeautifulSoup, NavigableString, Tag, Comment, Doctype\n",
    "\n",
    "def get_total_length(page_soup):\n",
    "    total_len = 0\n",
    "\n",
    "    for element in page_soup.descendants:  # body 태그의 자식 노드 순회\n",
    "        if isinstance(element, NavigableString) and not isinstance(element, (Comment, Doctype)):\n",
    "            txt = element.strip().replace('\\n\\n\\n', ' ')\n",
    "            parent = element.parent\n",
    "            if txt and (parent and parent.name not in ['script', 'style', 'meta', 'noscript']):\n",
    "                total_len += len(txt)\n",
    "    return total_len\n",
    "\n",
    "\n",
    "def extract_soup(url):\n",
    "    import requests\n",
    "\n",
    "    soup = None\n",
    "    try:\n",
    "        response = requests.get(url, headers=headers, timeout=10)\n",
    "        if response.status_code == 200:\n",
    "            soup = BeautifulSoup(response.content, 'html.parser')\n",
    "    except Exception as e:\n",
    "        print(e)\n",
    "        return 500, None\n",
    "\n",
    "    return response.status_code, soup"
   ]
  },
  {
   "cell_type": "code",
   "execution_count": null,
   "metadata": {},
   "outputs": [],
   "source": [
    "\n",
    "count = 0\n",
    "for url in df['홈페이지 주소']:  # 45\n",
    "    if not pd.isnull(url) and not pd.isna(url):\n",
    "        code, page_soup = extract_soup(url)\n",
    "        if code == 200:\n",
    "            new_len = get_total_length(page_soup)\n",
    "            txt_len = len(page_soup.text.strip().replace('\\n\\n\\n', ' '))\n",
    "            print(f\"[{code}] {url} - txt / new : {txt_len} / {new_len}\")\n",
    "            if new_len > txt_len:\n",
    "                print(\"** check 필요!!!! -\", url )\n",
    "        else:\n",
    "            print(f\"[{code}] {url}\")"
   ]
  },
  {
   "cell_type": "code",
   "execution_count": 111,
   "metadata": {},
   "outputs": [],
   "source": [
    "from requests.adapters import HTTPAdapter\n",
    "from requests.packages.urllib3.util.retry import Retry\n",
    "import requests, time\n",
    "\n",
    "session = requests.Session()\n",
    "retries = Retry(total=3, backoff_factor=1, status_forcelist=[500, 502, 503, 504])\n",
    "session.mount('http://', HTTPAdapter(max_retries=retries))\n",
    "session.mount('https://', HTTPAdapter(max_retries=retries))\n"
   ]
  },
  {
   "cell_type": "code",
   "execution_count": 123,
   "metadata": {},
   "outputs": [
    {
     "name": "stdout",
     "output_type": "stream",
     "text": [
      "    ** recovery url - from (http://www.Tesorodelrio.com / http://www.fas.com.tn) / to ({'http://www.Tesorodelrio.com', 'http://www.fas.com.tn'})\n"
     ]
    },
    {
     "name": "stderr",
     "output_type": "stream",
     "text": [
      "/Users/yoonhae/.pyenv/versions/3.8.12/envs/crawling/lib/python3.8/site-packages/urllib3/connectionpool.py:1099: InsecureRequestWarning: Unverified HTTPS request is being made to host 'www.tesorodelrio.com'. Adding certificate verification is strongly advised. See: https://urllib3.readthedocs.io/en/latest/advanced-usage.html#tls-warnings\n",
      "  warnings.warn(\n",
      "/Users/yoonhae/.pyenv/versions/3.8.12/envs/crawling/lib/python3.8/site-packages/urllib3/connectionpool.py:1099: InsecureRequestWarning: Unverified HTTPS request is being made to host 'tesorodelrio.com'. Adding certificate verification is strongly advised. See: https://urllib3.readthedocs.io/en/latest/advanced-usage.html#tls-warnings\n",
      "  warnings.warn(\n",
      "/Users/yoonhae/.pyenv/versions/3.8.12/envs/crawling/lib/python3.8/site-packages/urllib3/connectionpool.py:1099: InsecureRequestWarning: Unverified HTTPS request is being made to host 'tesorodelrio.com'. Adding certificate verification is strongly advised. See: https://urllib3.readthedocs.io/en/latest/advanced-usage.html#tls-warnings\n",
      "  warnings.warn(\n"
     ]
    },
    {
     "data": {
      "text/plain": [
       "(200, <Response [200]>)"
      ]
     },
     "execution_count": 123,
     "metadata": {},
     "output_type": "execute_result"
    }
   ],
   "source": [
    "\n",
    "from urllib.parse import urlparse\n",
    "\n",
    "def change_protocol(url):\n",
    "    # URL 파싱\n",
    "    parsed_url = urlparse(url)\n",
    "    # 프로토콜 추출\n",
    "    protocol = parsed_url.scheme\n",
    "    if protocol == 'http':\n",
    "        return parsed_url._replace(scheme='https').geturl()\n",
    "    elif protocol == 'https':\n",
    "        return parsed_url._replace(scheme='http').geturl()\n",
    "\n",
    "    return url\n",
    "\n",
    "\n",
    "def recovery_url(trouble_url):\n",
    "    import re\n",
    "    # URL 패턴 정의\n",
    "    url_pattern = r'http[s]?://(?:[a-zA-Z]|[0-9]|[$-_@.&+]|[!*\\\\(\\\\),]|(?:%[0-9a-fA-F][0-9a-fA-F]))+'\n",
    "    urls = re.findall(url_pattern, trouble_url)\n",
    "\n",
    "    # 결과 출력\n",
    "    result = set()\n",
    "    for url in urls:\n",
    "        result.add(url)\n",
    "\n",
    "    print(f'    ** recovery url - from ({trouble_url}) / to ({result})')\n",
    "    return result\n",
    "\n",
    "\n",
    "headers = {'User-Agent': 'Mozilla/5.0 (Macintosh; Intel Mac OS X 10_15_7) AppleWebKit/537.36 (KHTML, like Gecko) Chrome/120.0.0.0 Safari/537.36'}\n",
    "\n",
    "def extract_page(url, is_recursive=False):\n",
    "    # 페이지 콘텐츠를 가져옵니다.\n",
    "    try :\n",
    "        response = session.get(url, timeout=15, headers=headers, verify=False)\n",
    "    except requests.ConnectionError as ce:\n",
    "        if not is_recursive:\n",
    "            url_list = recovery_url(url)\n",
    "            for sub_url in url_list:\n",
    "                code, response = extract_page(sub_url, is_recursive=True)\n",
    "                if code == 200:\n",
    "                    break\n",
    "            return code, response\n",
    "        else:\n",
    "            print(f'  ** error ({url})-', str(ce))\n",
    "            return 500, None\n",
    "    except Exception as e:\n",
    "        print(f'  ** error ({url})-', str(e))\n",
    "        return 500, None\n",
    "    \n",
    "    if response.status_code == 403:\n",
    "        if not is_recursive:\n",
    "            return extract_page(change_protocol(url), is_recursive=True)\n",
    "    return response.status_code, response\n",
    "\n",
    "extract_page('http://www.Tesorodelrio.com / http://www.fas.com.tn')"
   ]
  },
  {
   "cell_type": "code",
   "execution_count": 116,
   "metadata": {},
   "outputs": [],
   "source": [
    "# headers['Accept'] = 'text/html,application/xhtml+xml,application/xml;q=0.9,image/avif,image/webp,image/apng,*/*;q=0.8,application/signed-exchange;v=b3;q=0.7'\n",
    "# headers['Host'] = 'www.oliocostadoro.com'\n",
    "\n",
    "\n"
   ]
  },
  {
   "cell_type": "code",
   "execution_count": 124,
   "metadata": {},
   "outputs": [
    {
     "name": "stderr",
     "output_type": "stream",
     "text": [
      "/var/folders/wx/91r7nlnj64q2ql80lp6d9_kr0000gn/T/ipykernel_54158/1913807472.py:12: FutureWarning: The frame.append method is deprecated and will be removed from pandas in a future version. Use pandas.concat instead.\n",
      "  result_df = result_df.append({\"column1\": 4, \"column2\": 'd', \"column3\": 9.0}, ignore_index=True)\n"
     ]
    }
   ],
   "source": [
    "import pandas as pd\n",
    "\n",
    "# 기존 DataFrame 예시\n",
    "result_df = pd.DataFrame({\n",
    "    'column1': [1, 2, 3],\n",
    "    'column2': ['a', 'b', 'c'],\n",
    "    'column3': [4.5, 6.7, 8.9]\n",
    "})\n",
    "\n",
    "# 새로운 행 추가\n",
    "\n",
    "result_df = result_df.append({\"column1\": 4, \"column2\": 'd', \"column3\": 9.0}, ignore_index=True)\n"
   ]
  },
  {
   "cell_type": "code",
   "execution_count": 132,
   "metadata": {},
   "outputs": [
    {
     "data": {
      "text/plain": [
       "False"
      ]
     },
     "execution_count": 132,
     "metadata": {},
     "output_type": "execute_result"
    }
   ],
   "source": [
    "\n",
    "\n",
    "# 예시 사용\n",
    "data_dict = {\n",
    "    'homepage': True,\n",
    "    'extract_url': True,\n",
    "    'company_name': False,\n",
    "    'mail': True,\n",
    "    'phone': True,\n",
    "    'address': True,\n",
    "    'fax': True,\n",
    "    'products': True,\n",
    "    'error': True\n",
    "}\n",
    "\n",
    "column_list = ['homepage', 'extract_url', 'company_name']\n",
    "\n",
    "check_all_columns_true = lambda data_dict, target_column_list: all(data_dict.get(column, False) for column in target_column_list)\n",
    "\n",
    "check_all_columns_true(data_dict, column_list)"
   ]
  }
 ],
 "metadata": {
  "kernelspec": {
   "display_name": "crawling",
   "language": "python",
   "name": "python3"
  },
  "language_info": {
   "codemirror_mode": {
    "name": "ipython",
    "version": 3
   },
   "file_extension": ".py",
   "mimetype": "text/x-python",
   "name": "python",
   "nbconvert_exporter": "python",
   "pygments_lexer": "ipython3",
   "version": "3.8.12"
  }
 },
 "nbformat": 4,
 "nbformat_minor": 2
}
