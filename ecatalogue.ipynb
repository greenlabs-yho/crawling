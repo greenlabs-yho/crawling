{
 "cells": [
  {
   "cell_type": "code",
   "execution_count": 28,
   "metadata": {},
   "outputs": [],
   "source": [
    "headers = {\n",
    "    \"accept\": \"application/json, text/plain, */*\",\n",
    "    \"accept-language\": \"ko-KR,ko;q=0.9,en-US;q=0.8,en;q=0.7\",\n",
    "    \"content-type\": \"application/json\",\n",
    "    \"sec-ch-ua\": \"\\\"Not A(Brand\\\";v=\\\"99\\\", \\\"Google Chrome\\\";v=\\\"121\\\", \\\"Chromium\\\";v=\\\"121\\\"\",\n",
    "    \"sec-ch-ua-mobile\": \"?0\",\n",
    "    \"sec-ch-ua-platform\": \"\\\"macOS\\\"\",\n",
    "    \"sec-fetch-dest\": \"empty\",\n",
    "    \"sec-fetch-mode\": \"cors\",\n",
    "    \"sec-fetch-site\": \"same-site\",\n",
    "    \"User-Agent\": \"Mozilla/5.0 (Macintosh; Intel Mac OS X 10_15_7) AppleWebKit/537.36 (KHTML, like Gecko) Chrome/121.0.0.0 Safari/537.36\"\n",
    "}"
   ]
  },
  {
   "cell_type": "markdown",
   "metadata": {},
   "source": [
    "### 리스트 추출 - 총 2705개여서 1000개씩 3번 수동으로 호출해서 파일 저장함"
   ]
  },
  {
   "cell_type": "code",
   "execution_count": 107,
   "metadata": {},
   "outputs": [
    {
     "data": {
      "text/plain": [
       "<Response [200]>"
      ]
     },
     "execution_count": 107,
     "metadata": {},
     "output_type": "execute_result"
    }
   ],
   "source": [
    "# 3개 리스트 추출\n",
    "import requests\n",
    "body = \"{\\\"eventName\\\":\\\"\\\",\\\"sapCode\\\":\\\"J037024\\\",\\\"eventCode\\\":\\\"\\\",\\\"searchText\\\":\\\"\\\",\\\"brand\\\":\\\"\\\",\\\"selectedHierarchicalProperties\\\":[],\\\"selectedProperties\\\":[],\\\"selectedSectors\\\":[],\\\"selectedHomeOds\\\":[],\\\"selectedCountries\\\":[],\\\"filter\\\":\\\"ONLY_EXHIBITORS\\\",\\\"searchOrder\\\":\\\"BY_RELEVANCE\\\",\\\"language\\\":\\\"en_GB\\\",\\\"maxTextLength\\\":500,\\\"selectedMultiEvents\\\":[],\\\"createCache\\\":0}\"\n",
    "response = requests.post(\"https://ecatalogueusearch-api.firabarcelona.com/v1/us/unifiedSearch?page=0&size=1000&language=en_GB\", headers=headers, data=body)\n",
    "response\n"
   ]
  },
  {
   "cell_type": "code",
   "execution_count": 108,
   "metadata": {},
   "outputs": [
    {
     "name": "stdout",
     "output_type": "stream",
     "text": [
      "1000\n"
     ]
    }
   ],
   "source": [
    "j_result = response.json()\n",
    "print(len(j_result[\"list\"]))\n",
    "\n",
    "import json\n",
    "with open('./output/ecatalogue_list_json.json', '+wt') as f:\n",
    "    json.dump(j_result, f)"
   ]
  },
  {
   "cell_type": "code",
   "execution_count": null,
   "metadata": {},
   "outputs": [],
   "source": [
    "fetch(\"https://ecatalogueusearch-api.firabarcelona.com/v1/us/unifiedSearch?page=0&size=10&language=en_GB\", {\n",
    "  \"headers\": {\n",
    "    \"accept\": \"application/json, text/plain, */*\",\n",
    "    \"accept-language\": \"ko-KR,ko;q=0.9,en-US;q=0.8,en;q=0.7\",\n",
    "    \"content-type\": \"application/json\",\n",
    "    \"sec-ch-ua\": \"\\\"Not A(Brand\\\";v=\\\"99\\\", \\\"Google Chrome\\\";v=\\\"121\\\", \\\"Chromium\\\";v=\\\"121\\\"\",\n",
    "    \"sec-ch-ua-mobile\": \"?0\",\n",
    "    \"sec-ch-ua-platform\": \"\\\"macOS\\\"\",\n",
    "    \"sec-fetch-dest\": \"empty\",\n",
    "    \"sec-fetch-mode\": \"cors\",\n",
    "    \"sec-fetch-site\": \"same-site\",\n",
    "    \"User-Agent\": \"Mozilla/5.0 (Macintosh; Intel Mac OS X 10_15_7) AppleWebKit/537.36 (KHTML, like Gecko) Chrome/121.0.0.0 Safari/537.36\"\n",
    "  },\n",
    "  \"referrer\": \"https://ecatalogue.firabarcelona.com/\",\n",
    "  \"referrerPolicy\": \"strict-origin-when-cross-origin\",\n",
    "  \"body\": \"{\\\"eventName\\\":\\\"\\\",\\\"sapCode\\\":\\\"J037024\\\",\\\"eventCode\\\":\\\"\\\",\\\"searchText\\\":\\\"\\\",\\\"brand\\\":\\\"\\\",\\\"selectedHierarchicalProperties\\\":[],\\\"selectedProperties\\\":[],\\\"selectedSectors\\\":[],\\\"selectedHomeOds\\\":[],\\\"selectedCountries\\\":[],\\\"filter\\\":\\\"ONLY_EXHIBITORS\\\",\\\"searchOrder\\\":\\\"BY_RELEVANCE\\\",\\\"language\\\":\\\"en_GB\\\",\\\"maxTextLength\\\":500,\\\"selectedMultiEvents\\\":[],\\\"createCache\\\":0}\",\n",
    "  \"method\": \"POST\",\n",
    "  \"mode\": \"cors\",\n",
    "  \"credentials\": \"omit\"\n",
    "});"
   ]
  },
  {
   "cell_type": "code",
   "execution_count": null,
   "metadata": {},
   "outputs": [],
   "source": [
    "response = requests.get(\"https://ecatalogue-api.firabarcelona.com/v1/catalogues/133/countriesInUse?language=en_GB\", headers=headers)\n",
    "print(response.status_code)\n",
    "country_json = response.json()\n",
    "country_json\n",
    "\n",
    "country_dict = {}\n",
    "for item in country_json[\"_embedded\"][\"countries\"]:\n",
    "    country_dict[item[\"id\"]] = item[\"name\"]\n",
    "\n",
    "country_dict"
   ]
  },
  {
   "cell_type": "markdown",
   "metadata": {},
   "source": [
    "### 상세 내역 호출 및 적재"
   ]
  },
  {
   "cell_type": "code",
   "execution_count": 19,
   "metadata": {},
   "outputs": [],
   "source": [
    "with open('./output/ecatalogue_list_json_001.json', 'rt') as f:\n",
    "    j_result = json.load(f)"
   ]
  },
  {
   "cell_type": "code",
   "execution_count": 109,
   "metadata": {},
   "outputs": [],
   "source": [
    "import pytz\n",
    "from datetime import datetime\n",
    "import re\n",
    "import requests\n",
    "from bs4 import BeautifulSoup\n",
    "import pandas as pd\n",
    "from requests.adapters import HTTPAdapter, Retry\n",
    "\n",
    "requests.adapters.DEFAULT_POOLSIZE = 100\n",
    "retries = Retry(total=20)\n",
    "# 세션을 생성하고 ConnectionPool 크기를 설정\n",
    "session = requests.Session()\n",
    "session.mount('https://', requests.adapters.HTTPAdapter(pool_connections=100, pool_maxsize=100, max_retries=retries))\n",
    "\n",
    "# soup = BeautifulSoup(html, 'html.parser')\n",
    "# items = soup.find_all('option')\n",
    "\n",
    "def new_session():\n",
    "    global session\n",
    "    session = requests.Session()\n",
    "    session.mount('https://', requests.adapters.HTTPAdapter(pool_connections=100, pool_maxsize=100, max_retries=retries))\n",
    "\n",
    "\n",
    "def get_base_info(entity_id):\n",
    "    response = session.get(f\"https://ecatalogue-api.firabarcelona.com/v1/exhibitors/{entity_id}?projection=detail&language=en_GB\")\n",
    "    response.raise_for_status()\n",
    "    if response.status_code != 200:\n",
    "        raise Exception(\"** not 200\")\n",
    "    j_sub = response.json()\n",
    "    return j_sub\n",
    "\n",
    "def get_category_info(entity_id):\n",
    "    response = session.get(f\"https://ecatalogue-api.firabarcelona.com/v1/catalogues/133/exhibitors/{entity_id}/hierarchicalProperties?language=en_GB\")\n",
    "    response.raise_for_status()\n",
    "    if response.status_code != 200:\n",
    "        raise Exception(\"** not 200\")\n",
    "    j_sub = response.json()\n",
    "    return j_sub\n",
    "\n",
    "def add_category(item, item_list, str_list):\n",
    "    for trans in item.get(\"translations\", []):\n",
    "        if trans[\"language\"] == \"en_GB\":\n",
    "            key = trans[\"name\"]\n",
    "\n",
    "    str_list.append(key)  \n",
    "    if item.get(\"childHierarchicalProperties\", []):\n",
    "        for sub_item in item.get(\"childHierarchicalProperties\", []):\n",
    "            add_category(sub_item, item_list, str_list.copy())\n",
    "    else:\n",
    "        item_list.append(str_list)"
   ]
  },
  {
   "cell_type": "code",
   "execution_count": 114,
   "metadata": {},
   "outputs": [
    {
     "name": "stdout",
     "output_type": "stream",
     "text": [
      "name 'new_session' is not defined\n"
     ]
    }
   ],
   "source": [
    "import pandas as pd\n",
    "import time\n",
    "fail_dict = {}\n",
    "result = []\n",
    "def run(order_id):\n",
    "    with open(f'./output/ecatalogue_list_json_00{order_id}.json', 'rt') as f:\n",
    "        j_result = json.load(f)\n",
    "\n",
    "    for index, row in enumerate(j_result['list']):\n",
    "        try:\n",
    "            id = row[\"entityId\"]\n",
    "            time.sleep(0.3)\n",
    "            try:\n",
    "                j_sub = get_base_info(id)\n",
    "            except Exception as e:\n",
    "                new_session()\n",
    "                time.sleep(5)\n",
    "                j_sub = get_base_info(id)\n",
    "            result_item = {\n",
    "                \"name\": j_sub[\"name\"],\n",
    "                \"address\": f'{j_sub[\"addressLine1\"] or \"\"} {j_sub[\"addressLine2\"] or \"\"}, {j_sub[\"zipCode\"] or \"\"}, {j_sub[\"city\"] or \"\"}, {country_dict.get(j_sub[\"countryId\"], \"\")}',\n",
    "                \"website\": j_sub[\"webSite\"],\n",
    "                \"email\": j_sub[\"email\"],\n",
    "                \"contactEmail\": j_sub[\"contactEmail\"],\n",
    "                \"contactName\": j_sub[\"contactName\"],\n",
    "                \"contactTelephone\": j_sub[\"contactTelephone\"]\n",
    "            }\n",
    "            \n",
    "            time.sleep(0.3)\n",
    "            try :\n",
    "                j_sub = get_category_info(id)\n",
    "                if isinstance(j_sub, list) and j_sub and j_sub[0].get('childHierarchicalProperties'):\n",
    "                    category_dict = {}\n",
    "\n",
    "                    for item in j_sub:\n",
    "                        item_list = []\n",
    "                        add_category(item, item_list, [])\n",
    "\n",
    "                        for tmp in item_list:\n",
    "                            key = tmp.pop(0)\n",
    "                            if \"Product category\" == key:\n",
    "                                key = f\"category - {key} - {tmp.pop(0)}\"\n",
    "                            else:\n",
    "                                key = f\"category - {key}\"\n",
    "                            category_dict.setdefault(key, [])\n",
    "                            category_dict[key].append(\" - \".join(tmp))\n",
    "                    result_item.update(category_dict)\n",
    "            except :\n",
    "                pass\n",
    "        except Exception as e:\n",
    "            print(e)\n",
    "            fail_dict[f\"{order_id}-{index}\"] = row\n",
    "\n",
    "        result.append(result_item)\n",
    "        if (index % 100) == (100 - 1):\n",
    "            with open(f'./output/ecatalogue_result_00{order_id}.json', '+wt') as fp:\n",
    "                json.dump(result, fp)\n",
    "        \n",
    "    with open(f'./output/ecatalogue_result_00{order_id}.json', '+wt') as fp:\n",
    "        json.dump(result, fp)\n",
    "\n",
    "run(1)\n",
    "run(2)\n",
    "run(3)"
   ]
  },
  {
   "cell_type": "code",
   "execution_count": 134,
   "metadata": {},
   "outputs": [
    {
     "data": {
      "text/plain": [
       "{'2-947': {'exhibitorId': None,\n",
       "  'entityId': 219444,\n",
       "  'type': 'EXHIBITOR',\n",
       "  'weight': 0,\n",
       "  'sponsoredByCategories': None,\n",
       "  'sponsoredBySector': False,\n",
       "  'sponsoredInHomePage': False,\n",
       "  'featured': False,\n",
       "  'brands': None,\n",
       "  'exhibitorName': 'OXFAM INTERMON',\n",
       "  'productTranslation': None,\n",
       "  'exhibitorDescription': [],\n",
       "  'exhibitorHierarchicalProperties': [],\n",
       "  'productHierarchicalProperties': None,\n",
       "  'properties': [],\n",
       "  'odsProperties': None,\n",
       "  'mainImage': None,\n",
       "  'novelty': None,\n",
       "  'isFavorite': None,\n",
       "  'favoriteId': None,\n",
       "  'note': None,\n",
       "  'sectorId': 1394,\n",
       "  'countryId': 209,\n",
       "  'standLocation': 'GV/P7/0/F/315',\n",
       "  'haveEmail': True,\n",
       "  'eventSapCode': 'J037024',\n",
       "  'orderId': '0001085524'}}"
      ]
     },
     "execution_count": 134,
     "metadata": {},
     "output_type": "execute_result"
    }
   ],
   "source": [
    "fail_dict"
   ]
  },
  {
   "cell_type": "code",
   "execution_count": 139,
   "metadata": {},
   "outputs": [
    {
     "ename": "HTTPError",
     "evalue": "403 Client Error:  for url: https://ecatalogue-api.firabarcelona.com/v1/exhibitors/219444?projection=detail&language=en_GB",
     "output_type": "error",
     "traceback": [
      "\u001b[0;31m---------------------------------------------------------------------------\u001b[0m",
      "\u001b[0;31mHTTPError\u001b[0m                                 Traceback (most recent call last)",
      "Cell \u001b[0;32mIn [139], line 2\u001b[0m\n\u001b[1;32m      1\u001b[0m j_result[\u001b[38;5;124m\"\u001b[39m\u001b[38;5;124mlist\u001b[39m\u001b[38;5;124m\"\u001b[39m][\u001b[38;5;241m947\u001b[39m]\n\u001b[0;32m----> 2\u001b[0m \u001b[43mget_base_info\u001b[49m\u001b[43m(\u001b[49m\u001b[38;5;241;43m219444\u001b[39;49m\u001b[43m)\u001b[49m\n",
      "Cell \u001b[0;32mIn [109], line 20\u001b[0m, in \u001b[0;36mget_base_info\u001b[0;34m(entity_id)\u001b[0m\n\u001b[1;32m     18\u001b[0m \u001b[38;5;28;01mdef\u001b[39;00m \u001b[38;5;21mget_base_info\u001b[39m(entity_id):\n\u001b[1;32m     19\u001b[0m     response \u001b[38;5;241m=\u001b[39m session\u001b[38;5;241m.\u001b[39mget(\u001b[38;5;124mf\u001b[39m\u001b[38;5;124m\"\u001b[39m\u001b[38;5;124mhttps://ecatalogue-api.firabarcelona.com/v1/exhibitors/\u001b[39m\u001b[38;5;132;01m{\u001b[39;00mentity_id\u001b[38;5;132;01m}\u001b[39;00m\u001b[38;5;124m?projection=detail&language=en_GB\u001b[39m\u001b[38;5;124m\"\u001b[39m)\n\u001b[0;32m---> 20\u001b[0m     \u001b[43mresponse\u001b[49m\u001b[38;5;241;43m.\u001b[39;49m\u001b[43mraise_for_status\u001b[49m\u001b[43m(\u001b[49m\u001b[43m)\u001b[49m\n\u001b[1;32m     21\u001b[0m     \u001b[38;5;28;01mif\u001b[39;00m response\u001b[38;5;241m.\u001b[39mstatus_code \u001b[38;5;241m!=\u001b[39m \u001b[38;5;241m200\u001b[39m:\n\u001b[1;32m     22\u001b[0m         \u001b[38;5;28;01mraise\u001b[39;00m \u001b[38;5;167;01mException\u001b[39;00m(\u001b[38;5;124m\"\u001b[39m\u001b[38;5;124m** not 200\u001b[39m\u001b[38;5;124m\"\u001b[39m)\n",
      "File \u001b[0;32m~/.pyenv/versions/3.8.12/envs/crawling/lib/python3.8/site-packages/requests/models.py:1021\u001b[0m, in \u001b[0;36mResponse.raise_for_status\u001b[0;34m(self)\u001b[0m\n\u001b[1;32m   1016\u001b[0m     http_error_msg \u001b[38;5;241m=\u001b[39m (\n\u001b[1;32m   1017\u001b[0m         \u001b[38;5;124mf\u001b[39m\u001b[38;5;124m\"\u001b[39m\u001b[38;5;132;01m{\u001b[39;00m\u001b[38;5;28mself\u001b[39m\u001b[38;5;241m.\u001b[39mstatus_code\u001b[38;5;132;01m}\u001b[39;00m\u001b[38;5;124m Server Error: \u001b[39m\u001b[38;5;132;01m{\u001b[39;00mreason\u001b[38;5;132;01m}\u001b[39;00m\u001b[38;5;124m for url: \u001b[39m\u001b[38;5;132;01m{\u001b[39;00m\u001b[38;5;28mself\u001b[39m\u001b[38;5;241m.\u001b[39murl\u001b[38;5;132;01m}\u001b[39;00m\u001b[38;5;124m\"\u001b[39m\n\u001b[1;32m   1018\u001b[0m     )\n\u001b[1;32m   1020\u001b[0m \u001b[38;5;28;01mif\u001b[39;00m http_error_msg:\n\u001b[0;32m-> 1021\u001b[0m     \u001b[38;5;28;01mraise\u001b[39;00m HTTPError(http_error_msg, response\u001b[38;5;241m=\u001b[39m\u001b[38;5;28mself\u001b[39m)\n",
      "\u001b[0;31mHTTPError\u001b[0m: 403 Client Error:  for url: https://ecatalogue-api.firabarcelona.com/v1/exhibitors/219444?projection=detail&language=en_GB"
     ]
    }
   ],
   "source": [
    "j_result[\"list\"][947]\n",
    "get_base_info(219444)"
   ]
  },
  {
   "cell_type": "code",
   "execution_count": 135,
   "metadata": {},
   "outputs": [
    {
     "name": "stdout",
     "output_type": "stream",
     "text": [
      "10\n"
     ]
    }
   ],
   "source": [
    "#result_list = []\n",
    "with open(f'./output/ecatalogue_list_json_002.json', 'rt') as f:\n",
    "    j_result = json.load(f)\n",
    "    print(len(j_result))\n",
    "#result_list.extend(j_result)"
   ]
  },
  {
   "cell_type": "code",
   "execution_count": 133,
   "metadata": {},
   "outputs": [],
   "source": [
    "df = pd.DataFrame(j_result)\n",
    "df.to_csv('./output/ecatalogue_20240227_001.csv', index=False, quoting=1)"
   ]
  },
  {
   "cell_type": "code",
   "execution_count": null,
   "metadata": {},
   "outputs": [],
   "source": [
    "fetch(\"https://ecatalogue-api.firabarcelona.com/v1/exhibitors/214747?projection=detail&language=en_GB\", {\n",
    "  \"headers\": {\n",
    "    \"accept\": \"application/json, text/plain, */*\",\n",
    "    \"accept-language\": \"ko-KR,ko;q=0.9,en-US;q=0.8,en;q=0.7\",\n",
    "    \"sec-ch-ua\": \"\\\"Not A(Brand\\\";v=\\\"99\\\", \\\"Google Chrome\\\";v=\\\"121\\\", \\\"Chromium\\\";v=\\\"121\\\"\",\n",
    "    \"sec-ch-ua-mobile\": \"?0\",\n",
    "    \"sec-ch-ua-platform\": \"\\\"macOS\\\"\",\n",
    "    \"sec-fetch-dest\": \"empty\",\n",
    "    \"sec-fetch-mode\": \"cors\",\n",
    "    \"sec-fetch-site\": \"same-site\"\n",
    "  },\n",
    "  \"referrer\": \"https://ecatalogue.firabarcelona.com/\",\n",
    "  \"referrerPolicy\": \"strict-origin-when-cross-origin\",\n",
    "  \"body\": null,\n",
    "  \"method\": \"GET\",\n",
    "  \"mode\": \"cors\",\n",
    "  \"credentials\": \"omit\"\n",
    "});"
   ]
  },
  {
   "cell_type": "code",
   "execution_count": null,
   "metadata": {},
   "outputs": [],
   "source": [
    "fetch(\"https://ecatalogue-api.firabarcelona.com/v1/catalogues/133/exhibitors/214747/hierarchicalProperties?language=en_GB\", {\n",
    "  \"headers\": {\n",
    "    \"accept\": \"application/json, text/plain, */*\",\n",
    "    \"accept-language\": \"ko-KR,ko;q=0.9,en-US;q=0.8,en;q=0.7\",\n",
    "    \"sec-ch-ua\": \"\\\"Not A(Brand\\\";v=\\\"99\\\", \\\"Google Chrome\\\";v=\\\"121\\\", \\\"Chromium\\\";v=\\\"121\\\"\",\n",
    "    \"sec-ch-ua-mobile\": \"?0\",\n",
    "    \"sec-ch-ua-platform\": \"\\\"macOS\\\"\",\n",
    "    \"sec-fetch-dest\": \"empty\",\n",
    "    \"sec-fetch-mode\": \"cors\",\n",
    "    \"sec-fetch-site\": \"same-site\"\n",
    "  },\n",
    "  \"referrer\": \"https://ecatalogue.firabarcelona.com/\",\n",
    "  \"referrerPolicy\": \"strict-origin-when-cross-origin\",\n",
    "  \"body\": null,\n",
    "  \"method\": \"GET\",\n",
    "  \"mode\": \"cors\",\n",
    "  \"credentials\": \"omit\"\n",
    "});"
   ]
  }
 ],
 "metadata": {
  "kernelspec": {
   "display_name": "crawling",
   "language": "python",
   "name": "python3"
  },
  "language_info": {
   "codemirror_mode": {
    "name": "ipython",
    "version": 3
   },
   "file_extension": ".py",
   "mimetype": "text/x-python",
   "name": "python",
   "nbconvert_exporter": "python",
   "pygments_lexer": "ipython3",
   "version": "3.8.12"
  }
 },
 "nbformat": 4,
 "nbformat_minor": 2
}
