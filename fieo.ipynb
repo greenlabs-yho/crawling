{
 "cells": [
  {
   "cell_type": "code",
   "execution_count": 4,
   "metadata": {},
   "outputs": [],
   "source": [
    "import pytz\n",
    "from datetime import datetime\n",
    "import re\n",
    "import requests\n",
    "from bs4 import BeautifulSoup\n",
    "import pandas as pd\n",
    "from requests.adapters import HTTPAdapter, Retry\n",
    "\n",
    "requests.adapters.DEFAULT_POOLSIZE = 100\n",
    "retries = Retry(total=20)\n",
    "# 세션을 생성하고 ConnectionPool 크기를 설정\n",
    "session = requests.Session()\n",
    "session.mount('https://', requests.adapters.HTTPAdapter(pool_connections=100, pool_maxsize=100, max_retries=retries))\n",
    "\n",
    "import pytz\n",
    "from datetime import datetime\n",
    "import re\n",
    "import requests\n",
    "from bs4 import BeautifulSoup\n",
    "import pandas as pd\n",
    "from requests.adapters import HTTPAdapter, Retry\n",
    "\n",
    "\n",
    "# soup = BeautifulSoup(html, 'html.parser')\n",
    "# items = soup.find_all('option')"
   ]
  },
  {
   "cell_type": "code",
   "execution_count": 38,
   "metadata": {},
   "outputs": [],
   "source": [
    "from urllib.parse import urljoin\n",
    "import re\n",
    "result_list = []\n",
    "pattern = re.compile(r\"PU\\('(.*?)'\\)\")\n",
    "for i in range(1, 21):\n",
    "    response = session.get(f'https://fieo.org/searchItcHcCode_fieo.php?stype=Like&searchStringProducts={(\"0\"+str(i))[-2:]}')\n",
    "    soup = BeautifulSoup(response.text, 'html.parser')\n",
    "\n",
    "    table_list = soup.find_all('table')\n",
    "    table = table_list[13]\n",
    "    for tr in table.find_all('tr')[1:]:\n",
    "        td_list = tr.find_all('td')\n",
    "        \n",
    "        match = pattern.search(td_list[4].find('a').get('href')).group(1)  # 첫 번째 캡처 그룹의 내용\n",
    "\n",
    "        page_response = session.get(urljoin('https://fieo.org/', match))\n",
    "        page_soup = BeautifulSoup(page_response.text, 'html.parser')\n",
    "\n",
    "        page_table_list = page_soup.find_all('table')\n",
    "        sku_list = []\n",
    "        for tr in page_table_list[6].find_all('tr')[1:]:\n",
    "            td_tags = tr.find_all('td')\n",
    "            sku_list.append(td_tags[0].text.strip())\n",
    "\n",
    "        item = {\n",
    "            'name': page_table_list[5].find('tr').find('td').text.strip(),\n",
    "            'sku': ', '.join(sku_list)\n",
    "        }\n",
    "        result_list.append(item)\n",
    "    df = pd.DataFrame(result_list)\n",
    "    df.to_csv('./output/fieo_20240213.csv', index=False, quoting=1)\n",
    "    "
   ]
  }
 ],
 "metadata": {
  "kernelspec": {
   "display_name": "crawling",
   "language": "python",
   "name": "python3"
  },
  "language_info": {
   "codemirror_mode": {
    "name": "ipython",
    "version": 3
   },
   "file_extension": ".py",
   "mimetype": "text/x-python",
   "name": "python",
   "nbconvert_exporter": "python",
   "pygments_lexer": "ipython3",
   "version": "3.8.12"
  }
 },
 "nbformat": 4,
 "nbformat_minor": 2
}
