{
 "cells": [
  {
   "cell_type": "code",
   "execution_count": 1,
   "metadata": {},
   "outputs": [],
   "source": [
    "# site url 가져오기\n",
    "# google 에서 texas Cotton Association directory 검색 후 Association directory 접근\n",
    "url = 'https://www.tca-cotton.org/index.php?option=com_mcsearchresults&view=search&uuid=aa3db278-b8a0-4aef-9086-da87a48b6f3f#!/'"
   ]
  },
  {
   "cell_type": "code",
   "execution_count": 2,
   "metadata": {},
   "outputs": [],
   "source": [
    "from selenium import webdriver\n",
    "\n",
    "# 웹드라이버 설정 (예: Chrome의 경우)\n",
    "driver = webdriver.Chrome()"
   ]
  },
  {
   "cell_type": "code",
   "execution_count": 3,
   "metadata": {},
   "outputs": [],
   "source": [
    "from selenium.webdriver.common.by import By\n",
    "\n",
    "def get_item_info(item_list):\n",
    "    result_list = []\n",
    "    # item_list에 저장된 각 div 요소를 순회\n",
    "    for item in item_list:\n",
    "        # p 태그의 텍스트 추출\n",
    "        # p 태그가 존재하지 않을 수 있으므로, 예외 처리가 필요합니다.\n",
    "        try:\n",
    "            p_text = item.find_element(By.TAG_NAME, 'p').text.strip()\n",
    "        except:\n",
    "            p_text = None  # p 태그가 없는 경우\n",
    "\n",
    "        # div class=\"ds-body\"의 텍스트 추출\n",
    "        # 이 요소는 반드시 존재한다고 가정합니다.\n",
    "        div_text = item.find_element(By.CSS_SELECTOR, 'div.ds-body').text.strip()\n",
    "        result_list.append({'organization': p_text, 'name': div_text})\n",
    "    return result_list\n",
    "\n",
    "\n"
   ]
  },
  {
   "cell_type": "code",
   "execution_count": 4,
   "metadata": {},
   "outputs": [
    {
     "name": "stdout",
     "output_type": "stream",
     "text": [
      "try\n",
      "<selenium.webdriver.remote.webelement.WebElement (session=\"40050de936bfe12bc2269183ddb850a1\", element=\"65390F866747E7816492679E40621864_element_451\")>\n",
      "try\n",
      "<selenium.webdriver.remote.webelement.WebElement (session=\"40050de936bfe12bc2269183ddb850a1\", element=\"65390F866747E7816492679E40621864_element_451\")>\n"
     ]
    },
    {
     "ename": "ElementClickInterceptedException",
     "evalue": "Message: element click intercepted: Element <a id=\"next\" ng-click=\"pageOptions.navigatePage( pageOptions.search_config.next_page_url )\" class=\"gen-button\">...</a> is not clickable at point (752, 868). Other element would receive the click: <div class=\"ng-whiteout ng-scope ng-isolate-scope client\" ng-show=\"show\" show=\"vm.show_loader\" client=\"true\"></div>\n  (Session info: chrome=121.0.6167.85)\nStacktrace:\n0   chromedriver                        0x00000001048a27dc chromedriver + 4040668\n1   chromedriver                        0x000000010489a9e0 chromedriver + 4008416\n2   chromedriver                        0x000000010450d870 chromedriver + 284784\n3   chromedriver                        0x0000000104556f60 chromedriver + 585568\n4   chromedriver                        0x00000001045553f0 chromedriver + 578544\n5   chromedriver                        0x000000010455345c chromedriver + 570460\n6   chromedriver                        0x000000010455288c chromedriver + 567436\n7   chromedriver                        0x00000001045474b8 chromedriver + 521400\n8   chromedriver                        0x0000000104546ee8 chromedriver + 519912\n9   chromedriver                        0x000000010458b048 chromedriver + 798792\n10  chromedriver                        0x000000010454574c chromedriver + 513868\n11  chromedriver                        0x0000000104546044 chromedriver + 516164\n12  chromedriver                        0x0000000104867a04 chromedriver + 3799556\n13  chromedriver                        0x000000010486bee4 chromedriver + 3817188\n14  chromedriver                        0x0000000104850260 chromedriver + 3703392\n15  chromedriver                        0x000000010486ca2c chromedriver + 3820076\n16  chromedriver                        0x000000010484301c chromedriver + 3649564\n17  chromedriver                        0x0000000104889e3c chromedriver + 3939900\n18  chromedriver                        0x0000000104889fb4 chromedriver + 3940276\n19  chromedriver                        0x000000010489a660 chromedriver + 4007520\n20  libsystem_pthread.dylib             0x0000000181101034 _pthread_start + 136\n21  libsystem_pthread.dylib             0x00000001810fbe3c thread_start + 8\n",
     "output_type": "error",
     "traceback": [
      "\u001b[0;31m---------------------------------------------------------------------------\u001b[0m",
      "\u001b[0;31mElementClickInterceptedException\u001b[0m          Traceback (most recent call last)",
      "Cell \u001b[0;32mIn [4], line 20\u001b[0m\n\u001b[1;32m     18\u001b[0m     \u001b[38;5;28mprint\u001b[39m(\u001b[38;5;124m'\u001b[39m\u001b[38;5;124mtry\u001b[39m\u001b[38;5;124m'\u001b[39m)\n\u001b[1;32m     19\u001b[0m     \u001b[38;5;28mprint\u001b[39m(\u001b[38;5;28mnext\u001b[39m)\n\u001b[0;32m---> 20\u001b[0m     \u001b[38;5;28;43mnext\u001b[39;49m\u001b[38;5;241;43m.\u001b[39;49m\u001b[43mclick\u001b[49m\u001b[43m(\u001b[49m\u001b[43m)\u001b[49m\n\u001b[1;32m     21\u001b[0m     driver\u001b[38;5;241m.\u001b[39mimplicitly_wait(\u001b[38;5;241m15\u001b[39m) \u001b[38;5;66;03m# 10초 동안 기다리겠다는 의미\u001b[39;00m\n\u001b[1;32m     22\u001b[0m \u001b[38;5;28;01melse\u001b[39;00m:\n",
      "File \u001b[0;32m~/.pyenv/versions/3.8.12/envs/crawling/lib/python3.8/site-packages/selenium/webdriver/remote/webelement.py:94\u001b[0m, in \u001b[0;36mWebElement.click\u001b[0;34m(self)\u001b[0m\n\u001b[1;32m     92\u001b[0m \u001b[38;5;28;01mdef\u001b[39;00m \u001b[38;5;21mclick\u001b[39m(\u001b[38;5;28mself\u001b[39m) \u001b[38;5;241m-\u001b[39m\u001b[38;5;241m>\u001b[39m \u001b[38;5;28;01mNone\u001b[39;00m:\n\u001b[1;32m     93\u001b[0m     \u001b[38;5;124;03m\"\"\"Clicks the element.\"\"\"\u001b[39;00m\n\u001b[0;32m---> 94\u001b[0m     \u001b[38;5;28;43mself\u001b[39;49m\u001b[38;5;241;43m.\u001b[39;49m\u001b[43m_execute\u001b[49m\u001b[43m(\u001b[49m\u001b[43mCommand\u001b[49m\u001b[38;5;241;43m.\u001b[39;49m\u001b[43mCLICK_ELEMENT\u001b[49m\u001b[43m)\u001b[49m\n",
      "File \u001b[0;32m~/.pyenv/versions/3.8.12/envs/crawling/lib/python3.8/site-packages/selenium/webdriver/remote/webelement.py:395\u001b[0m, in \u001b[0;36mWebElement._execute\u001b[0;34m(self, command, params)\u001b[0m\n\u001b[1;32m    393\u001b[0m     params \u001b[38;5;241m=\u001b[39m {}\n\u001b[1;32m    394\u001b[0m params[\u001b[38;5;124m\"\u001b[39m\u001b[38;5;124mid\u001b[39m\u001b[38;5;124m\"\u001b[39m] \u001b[38;5;241m=\u001b[39m \u001b[38;5;28mself\u001b[39m\u001b[38;5;241m.\u001b[39m_id\n\u001b[0;32m--> 395\u001b[0m \u001b[38;5;28;01mreturn\u001b[39;00m \u001b[38;5;28;43mself\u001b[39;49m\u001b[38;5;241;43m.\u001b[39;49m\u001b[43m_parent\u001b[49m\u001b[38;5;241;43m.\u001b[39;49m\u001b[43mexecute\u001b[49m\u001b[43m(\u001b[49m\u001b[43mcommand\u001b[49m\u001b[43m,\u001b[49m\u001b[43m \u001b[49m\u001b[43mparams\u001b[49m\u001b[43m)\u001b[49m\n",
      "File \u001b[0;32m~/.pyenv/versions/3.8.12/envs/crawling/lib/python3.8/site-packages/selenium/webdriver/remote/webdriver.py:348\u001b[0m, in \u001b[0;36mWebDriver.execute\u001b[0;34m(self, driver_command, params)\u001b[0m\n\u001b[1;32m    346\u001b[0m response \u001b[38;5;241m=\u001b[39m \u001b[38;5;28mself\u001b[39m\u001b[38;5;241m.\u001b[39mcommand_executor\u001b[38;5;241m.\u001b[39mexecute(driver_command, params)\n\u001b[1;32m    347\u001b[0m \u001b[38;5;28;01mif\u001b[39;00m response:\n\u001b[0;32m--> 348\u001b[0m     \u001b[38;5;28;43mself\u001b[39;49m\u001b[38;5;241;43m.\u001b[39;49m\u001b[43merror_handler\u001b[49m\u001b[38;5;241;43m.\u001b[39;49m\u001b[43mcheck_response\u001b[49m\u001b[43m(\u001b[49m\u001b[43mresponse\u001b[49m\u001b[43m)\u001b[49m\n\u001b[1;32m    349\u001b[0m     response[\u001b[38;5;124m\"\u001b[39m\u001b[38;5;124mvalue\u001b[39m\u001b[38;5;124m\"\u001b[39m] \u001b[38;5;241m=\u001b[39m \u001b[38;5;28mself\u001b[39m\u001b[38;5;241m.\u001b[39m_unwrap_value(response\u001b[38;5;241m.\u001b[39mget(\u001b[38;5;124m\"\u001b[39m\u001b[38;5;124mvalue\u001b[39m\u001b[38;5;124m\"\u001b[39m, \u001b[38;5;28;01mNone\u001b[39;00m))\n\u001b[1;32m    350\u001b[0m     \u001b[38;5;28;01mreturn\u001b[39;00m response\n",
      "File \u001b[0;32m~/.pyenv/versions/3.8.12/envs/crawling/lib/python3.8/site-packages/selenium/webdriver/remote/errorhandler.py:229\u001b[0m, in \u001b[0;36mErrorHandler.check_response\u001b[0;34m(self, response)\u001b[0m\n\u001b[1;32m    227\u001b[0m         alert_text \u001b[38;5;241m=\u001b[39m value[\u001b[38;5;124m\"\u001b[39m\u001b[38;5;124malert\u001b[39m\u001b[38;5;124m\"\u001b[39m]\u001b[38;5;241m.\u001b[39mget(\u001b[38;5;124m\"\u001b[39m\u001b[38;5;124mtext\u001b[39m\u001b[38;5;124m\"\u001b[39m)\n\u001b[1;32m    228\u001b[0m     \u001b[38;5;28;01mraise\u001b[39;00m exception_class(message, screen, stacktrace, alert_text)  \u001b[38;5;66;03m# type: ignore[call-arg]  # mypy is not smart enough here\u001b[39;00m\n\u001b[0;32m--> 229\u001b[0m \u001b[38;5;28;01mraise\u001b[39;00m exception_class(message, screen, stacktrace)\n",
      "\u001b[0;31mElementClickInterceptedException\u001b[0m: Message: element click intercepted: Element <a id=\"next\" ng-click=\"pageOptions.navigatePage( pageOptions.search_config.next_page_url )\" class=\"gen-button\">...</a> is not clickable at point (752, 868). Other element would receive the click: <div class=\"ng-whiteout ng-scope ng-isolate-scope client\" ng-show=\"show\" show=\"vm.show_loader\" client=\"true\"></div>\n  (Session info: chrome=121.0.6167.85)\nStacktrace:\n0   chromedriver                        0x00000001048a27dc chromedriver + 4040668\n1   chromedriver                        0x000000010489a9e0 chromedriver + 4008416\n2   chromedriver                        0x000000010450d870 chromedriver + 284784\n3   chromedriver                        0x0000000104556f60 chromedriver + 585568\n4   chromedriver                        0x00000001045553f0 chromedriver + 578544\n5   chromedriver                        0x000000010455345c chromedriver + 570460\n6   chromedriver                        0x000000010455288c chromedriver + 567436\n7   chromedriver                        0x00000001045474b8 chromedriver + 521400\n8   chromedriver                        0x0000000104546ee8 chromedriver + 519912\n9   chromedriver                        0x000000010458b048 chromedriver + 798792\n10  chromedriver                        0x000000010454574c chromedriver + 513868\n11  chromedriver                        0x0000000104546044 chromedriver + 516164\n12  chromedriver                        0x0000000104867a04 chromedriver + 3799556\n13  chromedriver                        0x000000010486bee4 chromedriver + 3817188\n14  chromedriver                        0x0000000104850260 chromedriver + 3703392\n15  chromedriver                        0x000000010486ca2c chromedriver + 3820076\n16  chromedriver                        0x000000010484301c chromedriver + 3649564\n17  chromedriver                        0x0000000104889e3c chromedriver + 3939900\n18  chromedriver                        0x0000000104889fb4 chromedriver + 3940276\n19  chromedriver                        0x000000010489a660 chromedriver + 4007520\n20  libsystem_pthread.dylib             0x0000000181101034 _pthread_start + 136\n21  libsystem_pthread.dylib             0x00000001810fbe3c thread_start + 8\n"
     ]
    }
   ],
   "source": [
    "from selenium.webdriver.common.by import By\n",
    "from selenium.webdriver.support.ui import WebDriverWait\n",
    "from selenium.webdriver.support import expected_conditions as EC\n",
    "\n",
    "\n",
    "result_list = []\n",
    "driver.get(url)\n",
    "driver.implicitly_wait(15) # 10초 동안 기다리겠다는 의미\n",
    "\n",
    "page = 1\n",
    "\n",
    "while(True):\n",
    "    wait = WebDriverWait(driver, 10)\n",
    "    next_button = wait.until(EC.element_to_be_clickable((By.ID, 'next')))\n",
    "\n",
    "    item_list = driver.find_elements(By.CSS_SELECTOR, \".search-profile.ng-scope\")\n",
    "    sub_result = get_item_info(item_list)\n",
    "    result_list.extend(sub_result)\n",
    "\n",
    "    page += 1\n",
    "    if page <= 20:\n",
    "        next = driver.find_element(By.ID, \"next\")\n",
    "        print('try')\n",
    "        print(next)\n",
    "        next.click()\n",
    "        driver.implicitly_wait(15) # 10초 동안 기다리겠다는 의미\n",
    "    else:\n",
    "        break\n",
    "\n"
   ]
  },
  {
   "cell_type": "code",
   "execution_count": null,
   "metadata": {},
   "outputs": [],
   "source": [
    "next = driver.find_element(By.ID, \"next\")\n",
    "next.click()"
   ]
  },
  {
   "cell_type": "code",
   "execution_count": null,
   "metadata": {},
   "outputs": [],
   "source": [
    "# 웹드라이버 종료\n",
    "driver.quit()"
   ]
  }
 ],
 "metadata": {
  "kernelspec": {
   "display_name": "crawling",
   "language": "python",
   "name": "python3"
  },
  "language_info": {
   "codemirror_mode": {
    "name": "ipython",
    "version": 3
   },
   "file_extension": ".py",
   "mimetype": "text/x-python",
   "name": "python",
   "nbconvert_exporter": "python",
   "pygments_lexer": "ipython3",
   "version": "3.8.12"
  }
 },
 "nbformat": 4,
 "nbformat_minor": 2
}
