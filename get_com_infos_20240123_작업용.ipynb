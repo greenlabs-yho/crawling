{
 "cells": [
  {
   "cell_type": "code",
   "execution_count": 17,
   "metadata": {},
   "outputs": [],
   "source": [
    "file_path = \"/Users/yoonhae/Downloads/crawling_processed_(데이터팀 검토) 그레인스캐너 패커 크롤링 정리 - Gulfood_정리포맷_20240123_134035.csv\"\n",
    "import pandas as pd\n",
    "\n",
    "df = pd.read_csv(file_path)"
   ]
  },
  {
   "cell_type": "code",
   "execution_count": 2,
   "metadata": {},
   "outputs": [],
   "source": [
    "import vertexai\n",
    "from google.cloud import aiplatform\n",
    "from langchain.llms.vertexai import VertexAI\n",
    "\n",
    "PROJECT_ID = \"grainscanner\"  # @param {type:\"string\"}\n",
    "REGION = \"asia-northeast3\"  # @param {type:\"string\"}\n",
    "\n",
    "# Initialize Vertex AI SDK\n",
    "vertexai.init(project=PROJECT_ID, location=REGION)\n",
    "\n",
    "# Text model instance integrated with langChain\n",
    "llm = VertexAI(\n",
    "    model_name=\"text-bison\", #\"gemini-pro\",#\"text-bison\",\n",
    "    max_output_tokens=1024,\n",
    "    temperature=0.4,\n",
    "    top_p=0.8,\n",
    "    top_k=40,\n",
    "    verbose=True,\n",
    "    location=REGION\n",
    ")\n",
    "\n",
    "target_column_list = ['homepage', 'extract_url', 'company_name', 'mail', 'phone', 'address', 'fax', 'products', 'error']"
   ]
  },
  {
   "cell_type": "code",
   "execution_count": 14,
   "metadata": {},
   "outputs": [],
   "source": [
    "from langchain.chains import LLMChain, SimpleSequentialChain\n",
    "from langchain.prompts import PromptTemplate\n",
    "from langchain.output_parsers.json import SimpleJsonOutputParser\n",
    "from langchain.text_splitter import RecursiveCharacterTextSplitter\n",
    "import json\n",
    "import time\n",
    "\n",
    "RETRY_COUNT = 3\n",
    "\n",
    "def get_string_item(dict_item, key):\n",
    "    if isinstance(dict_item, dict):\n",
    "        value = dict_item.get(key, '')\n",
    "        if not value:\n",
    "            return \"\"\n",
    "        \n",
    "        while isinstance(value, list) and value:\n",
    "            value = value[0]\n",
    "        return value\n",
    "    \n",
    "    return \"\"\n",
    "\n",
    "def get_list_item(dict_item, key):\n",
    "    if isinstance(dict_item, dict):\n",
    "        value = dict_item.get(key, [])\n",
    "        return value\n",
    "    elif isinstance(dict_item, list):\n",
    "        return dict_item\n",
    "    \n",
    "    return []\n",
    "\n",
    "\n",
    "def get_url_list_with_llm(llm, a_tag_list):\n",
    "    json_parser = SimpleJsonOutputParser()\n",
    "\n",
    "    filter_template = \"\"\"\n",
    "        당신은 유능하고 경험 많은 웹 제작자입니다.\n",
    "        다음 global 회사 홈페이지에 태그된  a태그 리스트를 보고 \n",
    "        회사에 contact 할 수 있는 정보를 담은 a태그와 \n",
    "        취급 product를 설명하는 a태그만 골라서 href attribute를 추출해주세요.\n",
    "        판단은 엄격하게 진행해주세요.\n",
    "\n",
    "        Format instructions:\n",
    "        [\"href attribute\", \"href attribute\"]\n",
    "\n",
    "        -----------------------\n",
    "        content :\n",
    "        {a_tag_list}\n",
    "    \"\"\"\n",
    "\n",
    "    filter_prompt_template = PromptTemplate(\n",
    "        input_variables=[\"a_tag_list\"], \n",
    "        template=filter_template, \n",
    "        output_parser=json_parser,\n",
    "        partial_variables={\n",
    "            \"format_instructions\": json_parser.get_format_instructions()\n",
    "        }\n",
    "    )\n",
    "\n",
    "    chain = filter_prompt_template|llm|json_parser\n",
    "\n",
    "    retry_count = 0\n",
    "    last_error = None\n",
    "    result_additional_filter_json = None\n",
    "    while retry_count < RETRY_COUNT:\n",
    "        try:\n",
    "            result_additional_filter_json = chain.invoke({\"a_tag_list\": a_tag_list})\n",
    "            break\n",
    "        except Exception as e:\n",
    "            print(f'    ** retry[{retry_count+1}] - ', e)\n",
    "            last_error = str(e)\n",
    "            time.sleep(1)\n",
    "        retry_count += 1\n",
    "\n",
    "    if result_additional_filter_json:\n",
    "        print('   ', result_additional_filter_json)\n",
    "        return result_additional_filter_json\n",
    "    else:\n",
    "        return {'error': last_error}\n",
    "\n",
    "# 더불어 취급 products가 있다면 핵심 물품만 keyword list로 추출해주세요.\n",
    "def get_firm_info_with_llm(llm, page_text):\n",
    "    json_parser = SimpleJsonOutputParser()\n",
    "    html_template = \"\"\"\n",
    "        당신은 유능한 global html parsor 입니다. \n",
    "        주어진 html 은 global 회사의 웹페이지입니다. \n",
    "        회사에 contact 할 수 있는 email, phone, fax, address 을 추출해주세요. \n",
    "        \n",
    "        Format instructions:\n",
    "        {format_instructions}\n",
    "\n",
    "        ------------\n",
    "        content:\n",
    "        {page_text}\n",
    "    \"\"\"\n",
    "\n",
    "    html_prompt_template = PromptTemplate(\n",
    "        input_variables=[\"page_text\"], \n",
    "        template=html_template, \n",
    "        output_parser=json_parser,\n",
    "        partial_variables={\n",
    "            \"format_instructions\": json_parser.get_format_instructions()# + \"\\n\" + \"json key are (email, phone, address, items)\"\n",
    "        }\n",
    "    )\n",
    "\n",
    "    html_chain = html_prompt_template | llm | json_parser\n",
    "    retry_count = 0\n",
    "    result_html_json = None\n",
    "    last_error = None\n",
    "    while retry_count < RETRY_COUNT:\n",
    "        try :\n",
    "            result_html_json = html_chain.invoke({\"page_text\": page_text})\n",
    "            break\n",
    "        except Exception as e:\n",
    "            print(f'    ** retry[{retry_count+1}] - ', e)\n",
    "            last_error = str(e)\n",
    "            time.sleep(1)\n",
    "        retry_count += 1\n",
    "\n",
    "    if result_html_json:\n",
    "        print('   ', '\\n    '.join(json.dumps(result_html_json, indent=4).split('\\n')))\n",
    "        return result_html_json\n",
    "    else:\n",
    "        return {'error': last_error}"
   ]
  },
  {
   "cell_type": "code",
   "execution_count": 18,
   "metadata": {},
   "outputs": [],
   "source": [
    "import requests\n",
    "from bs4 import BeautifulSoup\n",
    "from google.cloud import aiplatform\n",
    "import time\n",
    "\n",
    "from requests.adapters import HTTPAdapter, Retry\n",
    "\n",
    "requests.adapters.DEFAULT_POOLSIZE = 100\n",
    "retries = Retry(total=20)\n",
    "# 세션을 생성하고 ConnectionPool 크기를 설정\n",
    "session = requests.Session()\n",
    "session.mount('https://', requests.adapters.HTTPAdapter(pool_connections=100, pool_maxsize=100, max_retries=retries))\n",
    "\n",
    "from urllib.parse import urlparse\n",
    "\n",
    "get_domain = lambda url: urlparse(url).netloc.replace('www.', '')\n",
    "\n",
    "def change_protocol(url):\n",
    "    # URL 파싱\n",
    "    parsed_url = urlparse(url)\n",
    "    # 프로토콜 추출\n",
    "    protocol = parsed_url.scheme\n",
    "    if protocol == 'http':\n",
    "        return parsed_url._replace(scheme='https').geturl()\n",
    "    elif protocol == 'https':\n",
    "        return parsed_url._replace(scheme='http').geturl()\n",
    "\n",
    "    return url\n",
    "\n",
    "headers = {\n",
    "    'User-Agent': 'Mozilla/5.0 (Windows NT 10.0; Win64; x64) AppleWebKit/537.36 (KHTML, like Gecko) Chrome/58.0.3029.110 Safari/537.3'\n",
    "}\n",
    "\n",
    "def extract_content(url, is_recursive=False):\n",
    "    # 페이지 콘텐츠를 가져옵니다.\n",
    "\n",
    "    try :\n",
    "        time.sleep(0.5)\n",
    "        response = requests.get(url, headers=headers, timeout=10)\n",
    "        if response.status_code == 200:\n",
    "            soup = BeautifulSoup(response.content, 'html.parser')\n",
    "            return response.status_code, soup\n",
    "        elif response.status_code == 403:\n",
    "            if not is_recursive:\n",
    "                print(f'    ** page 조회 - retry')\n",
    "                return extract_content(change_protocol(url), is_recursive=True)\n",
    "            \n",
    "        return response.status_code, None\n",
    "    except Exception as e:\n",
    "        return 500, str(e)\n",
    "\n",
    "\n",
    "import pandas as pd\n",
    "\n",
    "def to_dataframe(json_data):\n",
    "    normalized_df = pd.json_normalize(json_data)\n",
    "    total_column_list = list(normalized_df.columns)\n",
    "\n",
    "    merged_df = pd.DataFrame(columns=target_column_list)\n",
    "\n",
    "    for target_col in target_column_list:\n",
    "        related_cols = [col for col in total_column_list if target_col in col]\n",
    "\n",
    "        def merge_row(row):\n",
    "            merged_data = []\n",
    "            for item in row.dropna():\n",
    "                if isinstance(item, dict):\n",
    "                    merged_data.append(json.dumps(item, ensure_ascii=False))\n",
    "                elif isinstance(item, list):\n",
    "                    merged_data.extend([str(x) for x in item])\n",
    "                elif not pd.isnull(item):\n",
    "                    merged_data.append(item)\n",
    "            if merged_data:\n",
    "                return ';\\n'.join(merged_data)\n",
    "            else:\n",
    "                return ''\n",
    "\n",
    "        if related_cols:\n",
    "            merged_df[target_col] = normalized_df[related_cols].apply(merge_row, axis=1)\n",
    "\n",
    "    return merged_df\n",
    "\n",
    "\n",
    "def is_string_not_none_nan(value):\n",
    "    if pd.notna(value) and isinstance(value, str) and value:\n",
    "        return True\n",
    "    return False\n",
    "\n",
    "\n",
    "def run(main_url):\n",
    "    print(f'** [main page] 조회 - {main_url}')\n",
    "    status, soup = extract_content(main_url)\n",
    "\n",
    "    exists_email = False\n",
    "    exists_phone = False\n",
    "\n",
    "    result_df = pd.DataFrame(columns=target_column_list)\n",
    "    if status == 200:\n",
    "        print(f'  ** [llm] contact 정보 & products 추출')\n",
    "        firm_info = {'homepage': main_url,\n",
    "                     'extract_url': main_url}\n",
    "        try :\n",
    "            info = get_firm_info_with_llm(llm, soup.get_text().replace('\\n\\n\\n', ''))\n",
    "            if info:\n",
    "                firm_info.update(info)\n",
    "                sub_df = to_dataframe(firm_info)\n",
    "                result_df = result_df.append(sub_df, ignore_index=True)\n",
    "                exists_email = sub_df['mail'].apply(is_string_not_none_nan).any()\n",
    "                exists_phone = sub_df['phone'].apply(is_string_not_none_nan).any()\n",
    "\n",
    "                if exists_email and exists_phone:\n",
    "                    return result_df\n",
    "        except Exception as e:\n",
    "            firm_info['error'] = str(e)\n",
    "\n",
    "        print(f'  ** a tag 추출')\n",
    "        a_list = soup.find_all('a', href=True)\n",
    "        \n",
    "        main_domain = get_domain(main_url)\n",
    "        distinct_a_list = {}\n",
    "        for link in a_list:\n",
    "            if get_domain(link.get('href')).startswith(main_domain):\n",
    "                distinct_a_list[link.get('href').strip('/')] = link\n",
    "        \n",
    "        if distinct_a_list:\n",
    "            print(f'  ** [llm] 회사 정보와 관련있는 a tag 선별')\n",
    "            page_list = get_url_list_with_llm(llm, [distinct_a_list.values()])\n",
    "        \n",
    "            for sub_url in page_list:\n",
    "                print(f'  ** [sub page] 조회 - {sub_url}')\n",
    "                sub_status, sub_soup = extract_content(sub_url)\n",
    "                if sub_status == 200:\n",
    "                    print(f'  ** [llm] contact 정보 & products 추출')\n",
    "                    sub_firm_info = {'homepage': main_url,\n",
    "                                    'extract_url': sub_url}\n",
    "                    try :\n",
    "                        info = get_firm_info_with_llm(llm, sub_soup.get_text().replace('\\n\\n\\n', ''))\n",
    "                        if info:\n",
    "                            sub_firm_info.update(info)\n",
    "                    except Exception as e:\n",
    "                        sub_firm_info['error'] = str(e)\n",
    "                    sub_df = to_dataframe(sub_firm_info)\n",
    "                    result_df = result_df.append(sub_df, ignore_index=True)\n",
    "\n",
    "                    exists_email = exists_email or sub_df['mail'].apply(is_string_not_none_nan).any()\n",
    "                    exists_phone = exists_phone or sub_df['phone'].apply(is_string_not_none_nan).any()\n",
    "\n",
    "                    if exists_email and exists_phone:\n",
    "                        return result_df\n",
    "                else:\n",
    "                    print(f'    [{sub_status}] : 조회 실패')\n",
    "        else:\n",
    "            print(f'    [empty]')\n",
    "    else:\n",
    "        print(f'    [{status}] : 조회 실패')\n",
    "\n",
    "    return result_df\n"
   ]
  },
  {
   "cell_type": "code",
   "execution_count": 23,
   "metadata": {},
   "outputs": [
    {
     "name": "stdout",
     "output_type": "stream",
     "text": [
      "** [main page] 조회 - https://deoleo.com/\n",
      "  ** [llm] contact 정보 & products 추출\n",
      "    {\n",
      "        \"contact\": {\n",
      "            \"email\": null,\n",
      "            \"phone\": \"0034 91 558 95 05\",\n",
      "            \"fax\": null,\n",
      "            \"address\": \"C/ Marie Curie 7\\n4\\u00ba plta.,\\n28521 Rivas Vaciamadrid,\\nMadrid (Espa\\u00f1a).\"\n",
      "        }\n",
      "    }\n",
      "  ** a tag 추출\n",
      "  ** [llm] 회사 정보와 관련있는 a tag 선별\n"
     ]
    },
    {
     "name": "stderr",
     "output_type": "stream",
     "text": [
      "/var/folders/wx/91r7nlnj64q2ql80lp6d9_kr0000gn/T/ipykernel_27402/424998281.py:108: FutureWarning: The frame.append method is deprecated and will be removed from pandas in a future version. Use pandas.concat instead.\n",
      "  result_df = result_df.append(sub_df, ignore_index=True)\n"
     ]
    },
    {
     "name": "stdout",
     "output_type": "stream",
     "text": [
      "    ['https://deoleo.com/contacto/', 'https://deoleo.com/productos/']\n",
      "  ** [sub page] 조회 - https://deoleo.com/contacto/\n",
      "  ** [llm] contact 정보 & products 추출\n",
      "    {\n",
      "        \"contact\": {\n",
      "            \"email\": null,\n",
      "            \"phone\": \"0034 91 558 95 05\",\n",
      "            \"fax\": null,\n",
      "            \"address\": \"C/ Marie Curie 7\\n4\\u00ba plta.,\\n28521 Rivas Vaciamadrid,\\nMadrid (Espa\\u00f1a).\"\n",
      "        }\n",
      "    }\n",
      "  ** [sub page] 조회 - https://deoleo.com/productos/\n"
     ]
    },
    {
     "name": "stderr",
     "output_type": "stream",
     "text": [
      "/var/folders/wx/91r7nlnj64q2ql80lp6d9_kr0000gn/T/ipykernel_27402/424998281.py:144: FutureWarning: The frame.append method is deprecated and will be removed from pandas in a future version. Use pandas.concat instead.\n",
      "  result_df = result_df.append(sub_df, ignore_index=True)\n"
     ]
    },
    {
     "name": "stdout",
     "output_type": "stream",
     "text": [
      "    [404] : 조회 실패\n",
      "** [main page] 조회 - http://wingsagro.com\n"
     ]
    },
    {
     "name": "stderr",
     "output_type": "stream",
     "text": [
      "/var/folders/wx/91r7nlnj64q2ql80lp6d9_kr0000gn/T/ipykernel_27402/1293433820.py:16: FutureWarning: The frame.append method is deprecated and will be removed from pandas in a future version. Use pandas.concat instead.\n",
      "  result_total_df = result_total_df.append(sub_result, ignore_index=True)\n"
     ]
    },
    {
     "name": "stdout",
     "output_type": "stream",
     "text": [
      "  ** [llm] contact 정보 & products 추출\n",
      "    {\n",
      "        \"email\": null,\n",
      "        \"phone\": null,\n",
      "        \"fax\": null,\n",
      "        \"address\": null\n",
      "    }\n",
      "  ** a tag 추출\n",
      "    [empty]\n",
      "** [main page] 조회 - https://www.rkgghee.io/\n"
     ]
    },
    {
     "name": "stderr",
     "output_type": "stream",
     "text": [
      "/var/folders/wx/91r7nlnj64q2ql80lp6d9_kr0000gn/T/ipykernel_27402/424998281.py:108: FutureWarning: The frame.append method is deprecated and will be removed from pandas in a future version. Use pandas.concat instead.\n",
      "  result_df = result_df.append(sub_df, ignore_index=True)\n",
      "/var/folders/wx/91r7nlnj64q2ql80lp6d9_kr0000gn/T/ipykernel_27402/1293433820.py:16: FutureWarning: The frame.append method is deprecated and will be removed from pandas in a future version. Use pandas.concat instead.\n",
      "  result_total_df = result_total_df.append(sub_result, ignore_index=True)\n"
     ]
    },
    {
     "name": "stdout",
     "output_type": "stream",
     "text": [
      "  ** [llm] contact 정보 & products 추출\n",
      "    {\n",
      "        \"contact\": {\n",
      "            \"email\": null,\n",
      "            \"phone\": \"+91 944 264 0228\",\n",
      "            \"fax\": null,\n",
      "            \"address\": null\n",
      "        }\n",
      "    }\n",
      "  ** a tag 추출\n",
      "    [empty]\n",
      "** [main page] 조회 - https://www.ak.goldenesia.com/\n"
     ]
    },
    {
     "name": "stderr",
     "output_type": "stream",
     "text": [
      "/var/folders/wx/91r7nlnj64q2ql80lp6d9_kr0000gn/T/ipykernel_27402/424998281.py:108: FutureWarning: The frame.append method is deprecated and will be removed from pandas in a future version. Use pandas.concat instead.\n",
      "  result_df = result_df.append(sub_df, ignore_index=True)\n",
      "/var/folders/wx/91r7nlnj64q2ql80lp6d9_kr0000gn/T/ipykernel_27402/1293433820.py:16: FutureWarning: The frame.append method is deprecated and will be removed from pandas in a future version. Use pandas.concat instead.\n",
      "  result_total_df = result_total_df.append(sub_result, ignore_index=True)\n"
     ]
    },
    {
     "name": "stdout",
     "output_type": "stream",
     "text": [
      "    [500] : 조회 실패\n",
      "** [main page] 조회 - https://kayalfoods.in/\n",
      "  ** [llm] contact 정보 & products 추출\n",
      "    {\n",
      "        \"contact\": {\n",
      "            \"email\": \"info@kayalfoods.in\",\n",
      "            \"phone\": [\n",
      "                \"+91 93837 88000\",\n",
      "                \"+91 93847 88000\"\n",
      "            ],\n",
      "            \"fax\": null,\n",
      "            \"address\": [\n",
      "                \"KRK Building, 14-A, Pudur Vandi Pathai, PTR Nagar, Jawaharpuram, K.Pudur,Madurai - 625007. Tamil Nadu. India.\",\n",
      "                \"110/1, Pallapanaikenpatti, Kovilpatti Post, Natham TK, Dindigul (Dt)-624401.\"\n",
      "            ]\n",
      "        }\n",
      "    }\n",
      "** [main page] 조회 - https://www.oliocostadoro.com/en/\n"
     ]
    },
    {
     "name": "stderr",
     "output_type": "stream",
     "text": [
      "/var/folders/wx/91r7nlnj64q2ql80lp6d9_kr0000gn/T/ipykernel_27402/424998281.py:108: FutureWarning: The frame.append method is deprecated and will be removed from pandas in a future version. Use pandas.concat instead.\n",
      "  result_df = result_df.append(sub_df, ignore_index=True)\n",
      "/var/folders/wx/91r7nlnj64q2ql80lp6d9_kr0000gn/T/ipykernel_27402/1293433820.py:16: FutureWarning: The frame.append method is deprecated and will be removed from pandas in a future version. Use pandas.concat instead.\n",
      "  result_total_df = result_total_df.append(sub_result, ignore_index=True)\n"
     ]
    },
    {
     "name": "stdout",
     "output_type": "stream",
     "text": [
      "    [500] : 조회 실패\n",
      "** [main page] 조회 - http://www.agro19bhd.com\n",
      "  ** [llm] contact 정보 & products 추출\n",
      "    {\n",
      "        \"contact\": {\n",
      "            \"email\": [\n",
      "                \"info@agro19bhd.com\",\n",
      "                \"Sales@agro19bhd.com\"\n",
      "            ],\n",
      "            \"phone\": [\n",
      "                \"+603 6274 7026\",\n",
      "                \"+6012 3781 540\",\n",
      "                \"+6010 8906 806\",\n",
      "                \"+6011 2346 5165\"\n",
      "            ],\n",
      "            \"fax\": [],\n",
      "            \"address\": [\n",
      "                \"No 3, Jalan Helang Hindik, Kepong Baru Industrial Estate,  52100 Kuala Lumpur, Malaysia.\",\n",
      "                \"No 25, Lorong Sungai Puloh 7/KU6, Kawasan Perindustrian Sungai Puloh,  42100 Klang, Malaysia.\"\n",
      "            ]\n",
      "        }\n",
      "    }\n",
      "** [main page] 조회 - https://www.wellpowerenergy.com/\n"
     ]
    },
    {
     "name": "stderr",
     "output_type": "stream",
     "text": [
      "/var/folders/wx/91r7nlnj64q2ql80lp6d9_kr0000gn/T/ipykernel_27402/424998281.py:108: FutureWarning: The frame.append method is deprecated and will be removed from pandas in a future version. Use pandas.concat instead.\n",
      "  result_df = result_df.append(sub_df, ignore_index=True)\n",
      "/var/folders/wx/91r7nlnj64q2ql80lp6d9_kr0000gn/T/ipykernel_27402/1293433820.py:16: FutureWarning: The frame.append method is deprecated and will be removed from pandas in a future version. Use pandas.concat instead.\n",
      "  result_total_df = result_total_df.append(sub_result, ignore_index=True)\n"
     ]
    },
    {
     "name": "stdout",
     "output_type": "stream",
     "text": [
      "    [500] : 조회 실패\n",
      "** [main page] 조회 - https://www.monini.com/it/\n",
      "  ** [llm] contact 정보 & products 추출\n",
      "    {\n",
      "        \"contact\": {\n",
      "            \"email\": null,\n",
      "            \"phone\": null,\n",
      "            \"fax\": null,\n",
      "            \"address\": null\n",
      "        }\n",
      "    }\n",
      "  ** a tag 추출\n",
      "  ** [llm] 회사 정보와 관련있는 a tag 선별\n"
     ]
    },
    {
     "name": "stderr",
     "output_type": "stream",
     "text": [
      "/var/folders/wx/91r7nlnj64q2ql80lp6d9_kr0000gn/T/ipykernel_27402/424998281.py:108: FutureWarning: The frame.append method is deprecated and will be removed from pandas in a future version. Use pandas.concat instead.\n",
      "  result_df = result_df.append(sub_df, ignore_index=True)\n"
     ]
    },
    {
     "name": "stdout",
     "output_type": "stream",
     "text": [
      "    ['https://www.monini.com/content/wp-content/uploads/2023/07/BilancioMonini2022_DEF-lo.pdf', 'https://www.monini.com/content/wp-content/uploads/2024/01/BrochurePrecisolivo.pdf']\n",
      "  ** [sub page] 조회 - https://www.monini.com/content/wp-content/uploads/2023/07/BilancioMonini2022_DEF-lo.pdf\n"
     ]
    },
    {
     "name": "stderr",
     "output_type": "stream",
     "text": [
      "Some characters could not be decoded, and were replaced with REPLACEMENT CHARACTER.\n"
     ]
    },
    {
     "name": "stdout",
     "output_type": "stream",
     "text": [
      "  ** [llm] contact 정보 & products 추출\n",
      "    ** retry[1] -  400 The request cannot be processed. The most likely reason is that the provided input exceeded the model's input token limit.\n",
      "    ** retry[2] -  400 The request cannot be processed. The most likely reason is that the provided input exceeded the model's input token limit.\n",
      "    ** retry[3] -  400 The request cannot be processed. The most likely reason is that the provided input exceeded the model's input token limit.\n"
     ]
    },
    {
     "name": "stderr",
     "output_type": "stream",
     "text": [
      "/var/folders/wx/91r7nlnj64q2ql80lp6d9_kr0000gn/T/ipykernel_27402/424998281.py:144: FutureWarning: The frame.append method is deprecated and will be removed from pandas in a future version. Use pandas.concat instead.\n",
      "  result_df = result_df.append(sub_df, ignore_index=True)\n"
     ]
    },
    {
     "name": "stdout",
     "output_type": "stream",
     "text": [
      "  ** [sub page] 조회 - https://www.monini.com/content/wp-content/uploads/2024/01/BrochurePrecisolivo.pdf\n",
      "    [404] : 조회 실패\n",
      "** [main page] 조회 - https://forazeytin.com.tr/\n"
     ]
    },
    {
     "name": "stderr",
     "output_type": "stream",
     "text": [
      "/var/folders/wx/91r7nlnj64q2ql80lp6d9_kr0000gn/T/ipykernel_27402/1293433820.py:16: FutureWarning: The frame.append method is deprecated and will be removed from pandas in a future version. Use pandas.concat instead.\n",
      "  result_total_df = result_total_df.append(sub_result, ignore_index=True)\n"
     ]
    },
    {
     "name": "stdout",
     "output_type": "stream",
     "text": [
      "  ** [llm] contact 정보 & products 추출\n",
      "    {\n",
      "        \"contact\": {\n",
      "            \"email\": null,\n",
      "            \"phone\": [\n",
      "                \"+90 266 432 51 20\",\n",
      "                \"+90 212 216 41 00\"\n",
      "            ],\n",
      "            \"fax\": [\n",
      "                \"+90 266 432 27 37\",\n",
      "                \"+90 212 216 41 61\"\n",
      "            ],\n",
      "            \"address\": [\n",
      "                \"Mescit Mahallesi, Edremit-Bal\\u0131kesir Yolu Caddesi,\\nFora Zeytin, No:274\\nHavran/Bal\\u0131kesir\",\n",
      "                \"Barbaros Bulvar\\u0131 No:155/B\\n34349 Balmumcu\\nBe\\u015fikta\\u015f / \\u0130stanbul - T\\u00dcRK\\u0130YE\"\n",
      "            ]\n",
      "        }\n",
      "    }\n",
      "  ** a tag 추출\n",
      "    [empty]\n",
      "** [main page] 조회 - https://www.naturzgroup.com/\n"
     ]
    },
    {
     "name": "stderr",
     "output_type": "stream",
     "text": [
      "/var/folders/wx/91r7nlnj64q2ql80lp6d9_kr0000gn/T/ipykernel_27402/424998281.py:108: FutureWarning: The frame.append method is deprecated and will be removed from pandas in a future version. Use pandas.concat instead.\n",
      "  result_df = result_df.append(sub_df, ignore_index=True)\n",
      "/var/folders/wx/91r7nlnj64q2ql80lp6d9_kr0000gn/T/ipykernel_27402/1293433820.py:16: FutureWarning: The frame.append method is deprecated and will be removed from pandas in a future version. Use pandas.concat instead.\n",
      "  result_total_df = result_total_df.append(sub_result, ignore_index=True)\n"
     ]
    },
    {
     "name": "stdout",
     "output_type": "stream",
     "text": [
      "  ** [llm] contact 정보 & products 추출\n",
      "    {\n",
      "        \"contact\": {\n",
      "            \"email\": \"username@example.com\",\n",
      "            \"phone\": \"0123456789\",\n",
      "            \"fax\": \"0123456789\",\n",
      "            \"address\": \"123 Main Street, Anytown, CA 12345\"\n",
      "        }\n",
      "    }\n",
      "** [main page] 조회 - https://gltraders.com\n"
     ]
    },
    {
     "name": "stderr",
     "output_type": "stream",
     "text": [
      "/var/folders/wx/91r7nlnj64q2ql80lp6d9_kr0000gn/T/ipykernel_27402/424998281.py:108: FutureWarning: The frame.append method is deprecated and will be removed from pandas in a future version. Use pandas.concat instead.\n",
      "  result_df = result_df.append(sub_df, ignore_index=True)\n",
      "/var/folders/wx/91r7nlnj64q2ql80lp6d9_kr0000gn/T/ipykernel_27402/1293433820.py:16: FutureWarning: The frame.append method is deprecated and will be removed from pandas in a future version. Use pandas.concat instead.\n",
      "  result_total_df = result_total_df.append(sub_result, ignore_index=True)\n"
     ]
    },
    {
     "name": "stdout",
     "output_type": "stream",
     "text": [
      "    [500] : 조회 실패\n",
      "** [main page] 조회 - http://www.Tesorodelrio.com / http://www.fas.com.tn\n",
      "    [500] : 조회 실패\n",
      "** [main page] 조회 - http://www.poyrazolive.com\n",
      "    [500] : 조회 실패\n",
      "** [main page] 조회 - https://www.torresyribelles.com/home2\n",
      "  ** [llm] contact 정보 & products 추출\n",
      "    {\n",
      "        \"email\": \"Info@torresyribelles.com\",\n",
      "        \"phone\": \"(+34) 955 679 010\",\n",
      "        \"fax\": \"(+34) 955 679 047\",\n",
      "        \"address\": \"C/Virgen de la Esperanza, N 3 - CP 41703\\nDos Hermanas (Sevilla) SPAIN\"\n",
      "    }\n",
      "** [main page] 조회 - https://www.goldenagri.com.sg\n"
     ]
    },
    {
     "name": "stderr",
     "output_type": "stream",
     "text": [
      "/var/folders/wx/91r7nlnj64q2ql80lp6d9_kr0000gn/T/ipykernel_27402/424998281.py:108: FutureWarning: The frame.append method is deprecated and will be removed from pandas in a future version. Use pandas.concat instead.\n",
      "  result_df = result_df.append(sub_df, ignore_index=True)\n",
      "/var/folders/wx/91r7nlnj64q2ql80lp6d9_kr0000gn/T/ipykernel_27402/1293433820.py:16: FutureWarning: The frame.append method is deprecated and will be removed from pandas in a future version. Use pandas.concat instead.\n",
      "  result_total_df = result_total_df.append(sub_result, ignore_index=True)\n"
     ]
    },
    {
     "name": "stdout",
     "output_type": "stream",
     "text": [
      "    [520] : 조회 실패\n",
      "** [main page] 조회 - https://www.marsa.com.tr/en\n",
      "  ** [llm] contact 정보 & products 추출\n",
      "    {\n",
      "        \"contact\": {\n",
      "            \"email\": null,\n",
      "            \"phone\": null,\n",
      "            \"fax\": null,\n",
      "            \"address\": null\n",
      "        }\n",
      "    }\n",
      "  ** a tag 추출\n",
      "    [empty]\n",
      "** [main page] 조회 - https://exportpackers.com/\n"
     ]
    },
    {
     "name": "stderr",
     "output_type": "stream",
     "text": [
      "/var/folders/wx/91r7nlnj64q2ql80lp6d9_kr0000gn/T/ipykernel_27402/424998281.py:108: FutureWarning: The frame.append method is deprecated and will be removed from pandas in a future version. Use pandas.concat instead.\n",
      "  result_df = result_df.append(sub_df, ignore_index=True)\n",
      "/var/folders/wx/91r7nlnj64q2ql80lp6d9_kr0000gn/T/ipykernel_27402/1293433820.py:16: FutureWarning: The frame.append method is deprecated and will be removed from pandas in a future version. Use pandas.concat instead.\n",
      "  result_total_df = result_total_df.append(sub_result, ignore_index=True)\n"
     ]
    },
    {
     "name": "stdout",
     "output_type": "stream",
     "text": [
      "  ** [llm] contact 정보 & products 추출\n",
      "    {\n",
      "        \"contact\": {\n",
      "            \"email\": null,\n",
      "            \"phone\": null,\n",
      "            \"fax\": null,\n",
      "            \"address\": null\n",
      "        }\n",
      "    }\n",
      "  ** a tag 추출\n",
      "  ** [llm] 회사 정보와 관련있는 a tag 선별\n"
     ]
    },
    {
     "name": "stderr",
     "output_type": "stream",
     "text": [
      "/var/folders/wx/91r7nlnj64q2ql80lp6d9_kr0000gn/T/ipykernel_27402/424998281.py:108: FutureWarning: The frame.append method is deprecated and will be removed from pandas in a future version. Use pandas.concat instead.\n",
      "  result_df = result_df.append(sub_df, ignore_index=True)\n"
     ]
    },
    {
     "name": "stdout",
     "output_type": "stream",
     "text": [
      "    ['https://exportpackers.com/contact/', 'https://exportpackers.com/international-trading/', 'https://exportpackers.com/retail/', 'https://exportpackers.com/foodservice/', 'https://exportpackers.com/foodservice-2/']\n",
      "  ** [sub page] 조회 - https://exportpackers.com/contact/\n",
      "  ** [llm] contact 정보 & products 추출\n",
      "    {\n",
      "        \"email\": null,\n",
      "        \"phone\": \"+1 (905) 792-9700\",\n",
      "        \"fax\": \"(905) 792-3569\",\n",
      "        \"address\": \"107 Walker Drive, Brampton,Ontario, Canada, L6T 5K5\"\n",
      "    }\n",
      "  ** [sub page] 조회 - https://exportpackers.com/international-trading/\n"
     ]
    },
    {
     "name": "stderr",
     "output_type": "stream",
     "text": [
      "/var/folders/wx/91r7nlnj64q2ql80lp6d9_kr0000gn/T/ipykernel_27402/424998281.py:144: FutureWarning: The frame.append method is deprecated and will be removed from pandas in a future version. Use pandas.concat instead.\n",
      "  result_df = result_df.append(sub_df, ignore_index=True)\n"
     ]
    },
    {
     "name": "stdout",
     "output_type": "stream",
     "text": [
      "  ** [llm] contact 정보 & products 추출\n",
      "    {\n",
      "        \"contact\": {\n",
      "            \"email\": null,\n",
      "            \"phone\": \"905-792-9700\",\n",
      "            \"fax\": null,\n",
      "            \"address\": null\n",
      "        }\n",
      "    }\n",
      "  ** [sub page] 조회 - https://exportpackers.com/retail/\n"
     ]
    },
    {
     "name": "stderr",
     "output_type": "stream",
     "text": [
      "/var/folders/wx/91r7nlnj64q2ql80lp6d9_kr0000gn/T/ipykernel_27402/424998281.py:144: FutureWarning: The frame.append method is deprecated and will be removed from pandas in a future version. Use pandas.concat instead.\n",
      "  result_df = result_df.append(sub_df, ignore_index=True)\n"
     ]
    },
    {
     "name": "stdout",
     "output_type": "stream",
     "text": [
      "  ** [llm] contact 정보 & products 추출\n",
      "    {\n",
      "        \"contact\": {\n",
      "            \"email\": null,\n",
      "            \"phone\": \"905-792-9700\",\n",
      "            \"fax\": null,\n",
      "            \"address\": null\n",
      "        }\n",
      "    }\n",
      "  ** [sub page] 조회 - https://exportpackers.com/foodservice/\n"
     ]
    },
    {
     "name": "stderr",
     "output_type": "stream",
     "text": [
      "/var/folders/wx/91r7nlnj64q2ql80lp6d9_kr0000gn/T/ipykernel_27402/424998281.py:144: FutureWarning: The frame.append method is deprecated and will be removed from pandas in a future version. Use pandas.concat instead.\n",
      "  result_df = result_df.append(sub_df, ignore_index=True)\n"
     ]
    },
    {
     "name": "stdout",
     "output_type": "stream",
     "text": [
      "  ** [llm] contact 정보 & products 추출\n",
      "    {\n",
      "        \"contact\": {\n",
      "            \"email\": null,\n",
      "            \"phone\": \"905-792-9700\",\n",
      "            \"fax\": null,\n",
      "            \"address\": null\n",
      "        }\n",
      "    }\n",
      "  ** [sub page] 조회 - https://exportpackers.com/foodservice-2/\n"
     ]
    },
    {
     "name": "stderr",
     "output_type": "stream",
     "text": [
      "/var/folders/wx/91r7nlnj64q2ql80lp6d9_kr0000gn/T/ipykernel_27402/424998281.py:144: FutureWarning: The frame.append method is deprecated and will be removed from pandas in a future version. Use pandas.concat instead.\n",
      "  result_df = result_df.append(sub_df, ignore_index=True)\n"
     ]
    },
    {
     "name": "stdout",
     "output_type": "stream",
     "text": [
      "  ** [llm] contact 정보 & products 추출\n",
      "    {\n",
      "        \"contact\": {\n",
      "            \"email\": null,\n",
      "            \"phone\": \"905-792-9700\",\n",
      "            \"fax\": null,\n",
      "            \"address\": null\n",
      "        }\n",
      "    }\n",
      "** [main page] 조회 - http://www.grand-oils.com\n"
     ]
    },
    {
     "name": "stderr",
     "output_type": "stream",
     "text": [
      "/var/folders/wx/91r7nlnj64q2ql80lp6d9_kr0000gn/T/ipykernel_27402/424998281.py:144: FutureWarning: The frame.append method is deprecated and will be removed from pandas in a future version. Use pandas.concat instead.\n",
      "  result_df = result_df.append(sub_df, ignore_index=True)\n",
      "/var/folders/wx/91r7nlnj64q2ql80lp6d9_kr0000gn/T/ipykernel_27402/1293433820.py:16: FutureWarning: The frame.append method is deprecated and will be removed from pandas in a future version. Use pandas.concat instead.\n",
      "  result_total_df = result_total_df.append(sub_result, ignore_index=True)\n"
     ]
    },
    {
     "name": "stdout",
     "output_type": "stream",
     "text": [
      "    [500] : 조회 실패\n",
      "** [main page] 조회 - https://rajdularbrothers.com/\n",
      "  ** [llm] contact 정보 & products 추출\n",
      "    {\n",
      "        \"contact\": {\n",
      "            \"email\": null,\n",
      "            \"phone\": \"+62 751 483 401\",\n",
      "            \"fax\": null,\n",
      "            \"address\": null\n",
      "        }\n",
      "    }\n",
      "  ** a tag 추출\n",
      "  ** [llm] 회사 정보와 관련있는 a tag 선별\n"
     ]
    },
    {
     "name": "stderr",
     "output_type": "stream",
     "text": [
      "/var/folders/wx/91r7nlnj64q2ql80lp6d9_kr0000gn/T/ipykernel_27402/424998281.py:108: FutureWarning: The frame.append method is deprecated and will be removed from pandas in a future version. Use pandas.concat instead.\n",
      "  result_df = result_df.append(sub_df, ignore_index=True)\n"
     ]
    },
    {
     "name": "stdout",
     "output_type": "stream",
     "text": [
      "    ['https://rajdularbrothers.com/contact/', 'https://rajdularbrothers.com/beans/', 'https://rajdularbrothers.com/beans/cocoa-bean/', 'https://rajdularbrothers.com/beans/coffee-beans/', 'https://rajdularbrothers.com/beans/vanilla-beans/', 'https://rajdularbrothers.com/gums/', 'https://rajdularbrothers.com/gums/gambier/', 'https://rajdularbrothers.com/gums/gum-benzamin/', 'https://rajdularbrothers.com/gums/gum-copal/', 'https://rajdularbrothers.com/gums/gum-damar/', 'https://rajdularbrothers.com/gums/gum-rosin/', 'https://rajdularbrothers.com/nuts/', 'https://rajdularbrothers.com/nuts/betel-nut/', 'https://rajdularbrothers.com/cashew-nut-kernel/', 'https://rajdularbrothers.com/nuts/desiccated-coconut/', 'https://rajdularbrothers.com/nuts/nutmeg/', 'https://rajdularbrothers.com/nuts/raw-cashew-nut/', 'https://rajdularbrothers.com/spices/', 'https://rajdularbrothers.com/spices/black-pepper/', 'https://rajdularbrothers.com/spices/cardamond/', 'https://rajdularbrothers.com/spices/cassia-vera/', 'https://rajdularbrothers.com/spices/clove/', 'https://rajdularbrothers.com/spices/clove-stem/', 'https://rajdularbrothers.com/spices/cubeb/', 'https://rajdularbrothers.com/damar-batu/', 'https://rajdularbrothers.com/spices/dried-sliced-turmeric/', 'https://rajdularbrothers.com/spices/dried-ginger/', 'https://rajdularbrothers.com/spices/galangal/', 'https://rajdularbrothers.com/spices/long-pepper/', 'https://rajdularbrothers.com/spices/mace/', 'https://rajdularbrothers.com/spices/patchouli-leaves/', 'https://rajdularbrothers.com/spices/tamarind/', 'https://rajdularbrothers.com/velvet-tamarind/', 'https://rajdularbrothers.com/spices/white-pepper/']\n",
      "  ** [sub page] 조회 - https://rajdularbrothers.com/contact/\n",
      "  ** [llm] contact 정보 & products 추출\n",
      "    {\n",
      "        \"contact\": {\n",
      "            \"email\": null,\n",
      "            \"phone\": \"+62 751 483 401\",\n",
      "            \"fax\": null,\n",
      "            \"address\": \"Jln. Garuda Muaro Kasang, Korong Sungai Pinang, Nagari Kasang,\\nKec. Batang Anai, Kab. Padang Pariaman \\u2013 25586,\\nSumatera Barat, Indonesia\"\n",
      "        }\n",
      "    }\n",
      "  ** [sub page] 조회 - https://rajdularbrothers.com/beans/\n"
     ]
    },
    {
     "name": "stderr",
     "output_type": "stream",
     "text": [
      "/var/folders/wx/91r7nlnj64q2ql80lp6d9_kr0000gn/T/ipykernel_27402/424998281.py:144: FutureWarning: The frame.append method is deprecated and will be removed from pandas in a future version. Use pandas.concat instead.\n",
      "  result_df = result_df.append(sub_df, ignore_index=True)\n"
     ]
    },
    {
     "name": "stdout",
     "output_type": "stream",
     "text": [
      "  ** [llm] contact 정보 & products 추출\n",
      "    {\n",
      "        \"email\": null,\n",
      "        \"phone\": \"+62 751 483 401\",\n",
      "        \"fax\": null,\n",
      "        \"address\": null\n",
      "    }\n",
      "  ** [sub page] 조회 - https://rajdularbrothers.com/beans/cocoa-bean/\n"
     ]
    },
    {
     "name": "stderr",
     "output_type": "stream",
     "text": [
      "/var/folders/wx/91r7nlnj64q2ql80lp6d9_kr0000gn/T/ipykernel_27402/424998281.py:144: FutureWarning: The frame.append method is deprecated and will be removed from pandas in a future version. Use pandas.concat instead.\n",
      "  result_df = result_df.append(sub_df, ignore_index=True)\n"
     ]
    },
    {
     "name": "stdout",
     "output_type": "stream",
     "text": [
      "  ** [llm] contact 정보 & products 추출\n",
      "    {\n",
      "        \"contact\": {\n",
      "            \"email\": null,\n",
      "            \"phone\": \"+62 751 483 401\",\n",
      "            \"fax\": null,\n",
      "            \"address\": null\n",
      "        }\n",
      "    }\n",
      "  ** [sub page] 조회 - https://rajdularbrothers.com/beans/coffee-beans/\n"
     ]
    },
    {
     "name": "stderr",
     "output_type": "stream",
     "text": [
      "/var/folders/wx/91r7nlnj64q2ql80lp6d9_kr0000gn/T/ipykernel_27402/424998281.py:144: FutureWarning: The frame.append method is deprecated and will be removed from pandas in a future version. Use pandas.concat instead.\n",
      "  result_df = result_df.append(sub_df, ignore_index=True)\n"
     ]
    },
    {
     "name": "stdout",
     "output_type": "stream",
     "text": [
      "  ** [llm] contact 정보 & products 추출\n",
      "    {\n",
      "        \"contact\": {\n",
      "            \"email\": null,\n",
      "            \"phone\": \"+62 751 483 401\",\n",
      "            \"fax\": null,\n",
      "            \"address\": null\n",
      "        }\n",
      "    }\n",
      "  ** [sub page] 조회 - https://rajdularbrothers.com/beans/vanilla-beans/\n"
     ]
    },
    {
     "name": "stderr",
     "output_type": "stream",
     "text": [
      "/var/folders/wx/91r7nlnj64q2ql80lp6d9_kr0000gn/T/ipykernel_27402/424998281.py:144: FutureWarning: The frame.append method is deprecated and will be removed from pandas in a future version. Use pandas.concat instead.\n",
      "  result_df = result_df.append(sub_df, ignore_index=True)\n"
     ]
    },
    {
     "name": "stdout",
     "output_type": "stream",
     "text": [
      "  ** [llm] contact 정보 & products 추출\n",
      "    {\n",
      "        \"contact\": {\n",
      "            \"email\": null,\n",
      "            \"phone\": \"+62 751 483 401\",\n",
      "            \"fax\": null,\n",
      "            \"address\": null\n",
      "        }\n",
      "    }\n",
      "  ** [sub page] 조회 - https://rajdularbrothers.com/gums/\n"
     ]
    },
    {
     "name": "stderr",
     "output_type": "stream",
     "text": [
      "/var/folders/wx/91r7nlnj64q2ql80lp6d9_kr0000gn/T/ipykernel_27402/424998281.py:144: FutureWarning: The frame.append method is deprecated and will be removed from pandas in a future version. Use pandas.concat instead.\n",
      "  result_df = result_df.append(sub_df, ignore_index=True)\n"
     ]
    },
    {
     "name": "stdout",
     "output_type": "stream",
     "text": [
      "  ** [llm] contact 정보 & products 추출\n",
      "    {\n",
      "        \"email\": null,\n",
      "        \"phone\": \"+62 751 483 401\",\n",
      "        \"fax\": null,\n",
      "        \"address\": null\n",
      "    }\n",
      "  ** [sub page] 조회 - https://rajdularbrothers.com/gums/gambier/\n"
     ]
    },
    {
     "name": "stderr",
     "output_type": "stream",
     "text": [
      "/var/folders/wx/91r7nlnj64q2ql80lp6d9_kr0000gn/T/ipykernel_27402/424998281.py:144: FutureWarning: The frame.append method is deprecated and will be removed from pandas in a future version. Use pandas.concat instead.\n",
      "  result_df = result_df.append(sub_df, ignore_index=True)\n"
     ]
    },
    {
     "name": "stdout",
     "output_type": "stream",
     "text": [
      "  ** [llm] contact 정보 & products 추출\n",
      "    {\n",
      "        \"contact\": {\n",
      "            \"email\": null,\n",
      "            \"phone\": \"+62 751 483 401\",\n",
      "            \"fax\": null,\n",
      "            \"address\": null\n",
      "        }\n",
      "    }\n",
      "  ** [sub page] 조회 - https://rajdularbrothers.com/gums/gum-benzamin/\n"
     ]
    },
    {
     "name": "stderr",
     "output_type": "stream",
     "text": [
      "/var/folders/wx/91r7nlnj64q2ql80lp6d9_kr0000gn/T/ipykernel_27402/424998281.py:144: FutureWarning: The frame.append method is deprecated and will be removed from pandas in a future version. Use pandas.concat instead.\n",
      "  result_df = result_df.append(sub_df, ignore_index=True)\n"
     ]
    },
    {
     "name": "stdout",
     "output_type": "stream",
     "text": [
      "  ** [llm] contact 정보 & products 추출\n",
      "    {\n",
      "        \"contact\": {\n",
      "            \"email\": null,\n",
      "            \"phone\": \"+62 751 483 401\",\n",
      "            \"fax\": null,\n",
      "            \"address\": null\n",
      "        }\n",
      "    }\n",
      "  ** [sub page] 조회 - https://rajdularbrothers.com/gums/gum-copal/\n"
     ]
    },
    {
     "name": "stderr",
     "output_type": "stream",
     "text": [
      "/var/folders/wx/91r7nlnj64q2ql80lp6d9_kr0000gn/T/ipykernel_27402/424998281.py:144: FutureWarning: The frame.append method is deprecated and will be removed from pandas in a future version. Use pandas.concat instead.\n",
      "  result_df = result_df.append(sub_df, ignore_index=True)\n"
     ]
    },
    {
     "name": "stdout",
     "output_type": "stream",
     "text": [
      "  ** [llm] contact 정보 & products 추출\n",
      "    {\n",
      "        \"contact\": {\n",
      "            \"email\": null,\n",
      "            \"phone\": \"+62 751 483 401\",\n",
      "            \"fax\": null,\n",
      "            \"address\": null\n",
      "        }\n",
      "    }\n",
      "  ** [sub page] 조회 - https://rajdularbrothers.com/gums/gum-damar/\n"
     ]
    },
    {
     "name": "stderr",
     "output_type": "stream",
     "text": [
      "/var/folders/wx/91r7nlnj64q2ql80lp6d9_kr0000gn/T/ipykernel_27402/424998281.py:144: FutureWarning: The frame.append method is deprecated and will be removed from pandas in a future version. Use pandas.concat instead.\n",
      "  result_df = result_df.append(sub_df, ignore_index=True)\n"
     ]
    },
    {
     "name": "stdout",
     "output_type": "stream",
     "text": [
      "  ** [llm] contact 정보 & products 추출\n",
      "    {\n",
      "        \"contact\": {\n",
      "            \"email\": null,\n",
      "            \"phone\": \"+62 751 483 401\",\n",
      "            \"fax\": null,\n",
      "            \"address\": null\n",
      "        }\n",
      "    }\n",
      "  ** [sub page] 조회 - https://rajdularbrothers.com/gums/gum-rosin/\n"
     ]
    },
    {
     "name": "stderr",
     "output_type": "stream",
     "text": [
      "/var/folders/wx/91r7nlnj64q2ql80lp6d9_kr0000gn/T/ipykernel_27402/424998281.py:144: FutureWarning: The frame.append method is deprecated and will be removed from pandas in a future version. Use pandas.concat instead.\n",
      "  result_df = result_df.append(sub_df, ignore_index=True)\n"
     ]
    },
    {
     "name": "stdout",
     "output_type": "stream",
     "text": [
      "  ** [llm] contact 정보 & products 추출\n",
      "    {\n",
      "        \"contact\": {\n",
      "            \"email\": null,\n",
      "            \"phone\": \"+62 751 483 401\",\n",
      "            \"fax\": null,\n",
      "            \"address\": null\n",
      "        }\n",
      "    }\n",
      "  ** [sub page] 조회 - https://rajdularbrothers.com/nuts/\n"
     ]
    },
    {
     "name": "stderr",
     "output_type": "stream",
     "text": [
      "/var/folders/wx/91r7nlnj64q2ql80lp6d9_kr0000gn/T/ipykernel_27402/424998281.py:144: FutureWarning: The frame.append method is deprecated and will be removed from pandas in a future version. Use pandas.concat instead.\n",
      "  result_df = result_df.append(sub_df, ignore_index=True)\n"
     ]
    },
    {
     "name": "stdout",
     "output_type": "stream",
     "text": [
      "  ** [llm] contact 정보 & products 추출\n",
      "    {\n",
      "        \"email\": null,\n",
      "        \"phone\": \"+62 751 483 401\",\n",
      "        \"fax\": null,\n",
      "        \"address\": null\n",
      "    }\n",
      "  ** [sub page] 조회 - https://rajdularbrothers.com/nuts/betel-nut/\n"
     ]
    },
    {
     "name": "stderr",
     "output_type": "stream",
     "text": [
      "/var/folders/wx/91r7nlnj64q2ql80lp6d9_kr0000gn/T/ipykernel_27402/424998281.py:144: FutureWarning: The frame.append method is deprecated and will be removed from pandas in a future version. Use pandas.concat instead.\n",
      "  result_df = result_df.append(sub_df, ignore_index=True)\n"
     ]
    },
    {
     "name": "stdout",
     "output_type": "stream",
     "text": [
      "  ** [llm] contact 정보 & products 추출\n",
      "    {\n",
      "        \"contact\": {\n",
      "            \"email\": null,\n",
      "            \"phone\": \"+62 751 483 401\",\n",
      "            \"fax\": null,\n",
      "            \"address\": null\n",
      "        }\n",
      "    }\n",
      "  ** [sub page] 조회 - https://rajdularbrothers.com/cashew-nut-kernel/\n"
     ]
    },
    {
     "name": "stderr",
     "output_type": "stream",
     "text": [
      "/var/folders/wx/91r7nlnj64q2ql80lp6d9_kr0000gn/T/ipykernel_27402/424998281.py:144: FutureWarning: The frame.append method is deprecated and will be removed from pandas in a future version. Use pandas.concat instead.\n",
      "  result_df = result_df.append(sub_df, ignore_index=True)\n"
     ]
    },
    {
     "name": "stdout",
     "output_type": "stream",
     "text": [
      "  ** [llm] contact 정보 & products 추출\n",
      "    {\n",
      "        \"email\": null,\n",
      "        \"phone\": \"+62 751 483 401\",\n",
      "        \"fax\": null,\n",
      "        \"address\": null\n",
      "    }\n",
      "  ** [sub page] 조회 - https://rajdularbrothers.com/nuts/desiccated-coconut/\n"
     ]
    },
    {
     "name": "stderr",
     "output_type": "stream",
     "text": [
      "/var/folders/wx/91r7nlnj64q2ql80lp6d9_kr0000gn/T/ipykernel_27402/424998281.py:144: FutureWarning: The frame.append method is deprecated and will be removed from pandas in a future version. Use pandas.concat instead.\n",
      "  result_df = result_df.append(sub_df, ignore_index=True)\n"
     ]
    },
    {
     "name": "stdout",
     "output_type": "stream",
     "text": [
      "  ** [llm] contact 정보 & products 추출\n",
      "    {\n",
      "        \"contact\": {\n",
      "            \"email\": null,\n",
      "            \"phone\": \"+62 751 483 401\",\n",
      "            \"fax\": null,\n",
      "            \"address\": null\n",
      "        }\n",
      "    }\n",
      "  ** [sub page] 조회 - https://rajdularbrothers.com/nuts/nutmeg/\n"
     ]
    },
    {
     "name": "stderr",
     "output_type": "stream",
     "text": [
      "/var/folders/wx/91r7nlnj64q2ql80lp6d9_kr0000gn/T/ipykernel_27402/424998281.py:144: FutureWarning: The frame.append method is deprecated and will be removed from pandas in a future version. Use pandas.concat instead.\n",
      "  result_df = result_df.append(sub_df, ignore_index=True)\n"
     ]
    },
    {
     "name": "stdout",
     "output_type": "stream",
     "text": [
      "  ** [llm] contact 정보 & products 추출\n",
      "    {\n",
      "        \"contact\": {\n",
      "            \"email\": null,\n",
      "            \"phone\": \"+62 751 483 401\",\n",
      "            \"fax\": null,\n",
      "            \"address\": null\n",
      "        }\n",
      "    }\n",
      "  ** [sub page] 조회 - https://rajdularbrothers.com/nuts/raw-cashew-nut/\n"
     ]
    },
    {
     "name": "stderr",
     "output_type": "stream",
     "text": [
      "/var/folders/wx/91r7nlnj64q2ql80lp6d9_kr0000gn/T/ipykernel_27402/424998281.py:144: FutureWarning: The frame.append method is deprecated and will be removed from pandas in a future version. Use pandas.concat instead.\n",
      "  result_df = result_df.append(sub_df, ignore_index=True)\n"
     ]
    },
    {
     "name": "stdout",
     "output_type": "stream",
     "text": [
      "  ** [llm] contact 정보 & products 추출\n",
      "    {\n",
      "        \"contact\": {\n",
      "            \"email\": null,\n",
      "            \"phone\": \"+62 751 483 401\",\n",
      "            \"fax\": null,\n",
      "            \"address\": null\n",
      "        }\n",
      "    }\n",
      "  ** [sub page] 조회 - https://rajdularbrothers.com/spices/\n"
     ]
    },
    {
     "name": "stderr",
     "output_type": "stream",
     "text": [
      "/var/folders/wx/91r7nlnj64q2ql80lp6d9_kr0000gn/T/ipykernel_27402/424998281.py:144: FutureWarning: The frame.append method is deprecated and will be removed from pandas in a future version. Use pandas.concat instead.\n",
      "  result_df = result_df.append(sub_df, ignore_index=True)\n"
     ]
    },
    {
     "name": "stdout",
     "output_type": "stream",
     "text": [
      "  ** [llm] contact 정보 & products 추출\n",
      "    {\n",
      "        \"email\": null,\n",
      "        \"phone\": \"+62 751 483 401\",\n",
      "        \"fax\": null,\n",
      "        \"address\": null\n",
      "    }\n",
      "  ** [sub page] 조회 - https://rajdularbrothers.com/spices/black-pepper/\n"
     ]
    },
    {
     "name": "stderr",
     "output_type": "stream",
     "text": [
      "/var/folders/wx/91r7nlnj64q2ql80lp6d9_kr0000gn/T/ipykernel_27402/424998281.py:144: FutureWarning: The frame.append method is deprecated and will be removed from pandas in a future version. Use pandas.concat instead.\n",
      "  result_df = result_df.append(sub_df, ignore_index=True)\n"
     ]
    },
    {
     "name": "stdout",
     "output_type": "stream",
     "text": [
      "  ** [llm] contact 정보 & products 추출\n",
      "    {\n",
      "        \"contact\": {\n",
      "            \"email\": null,\n",
      "            \"phone\": \"+62 751 483 401\",\n",
      "            \"fax\": null,\n",
      "            \"address\": null\n",
      "        }\n",
      "    }\n",
      "  ** [sub page] 조회 - https://rajdularbrothers.com/spices/cardamond/\n"
     ]
    },
    {
     "name": "stderr",
     "output_type": "stream",
     "text": [
      "/var/folders/wx/91r7nlnj64q2ql80lp6d9_kr0000gn/T/ipykernel_27402/424998281.py:144: FutureWarning: The frame.append method is deprecated and will be removed from pandas in a future version. Use pandas.concat instead.\n",
      "  result_df = result_df.append(sub_df, ignore_index=True)\n"
     ]
    },
    {
     "name": "stdout",
     "output_type": "stream",
     "text": [
      "  ** [llm] contact 정보 & products 추출\n",
      "    {\n",
      "        \"contact\": {\n",
      "            \"email\": null,\n",
      "            \"phone\": \"+62 751 483 401\",\n",
      "            \"fax\": null,\n",
      "            \"address\": null\n",
      "        }\n",
      "    }\n",
      "  ** [sub page] 조회 - https://rajdularbrothers.com/spices/cassia-vera/\n"
     ]
    },
    {
     "name": "stderr",
     "output_type": "stream",
     "text": [
      "/var/folders/wx/91r7nlnj64q2ql80lp6d9_kr0000gn/T/ipykernel_27402/424998281.py:144: FutureWarning: The frame.append method is deprecated and will be removed from pandas in a future version. Use pandas.concat instead.\n",
      "  result_df = result_df.append(sub_df, ignore_index=True)\n"
     ]
    },
    {
     "name": "stdout",
     "output_type": "stream",
     "text": [
      "  ** [llm] contact 정보 & products 추출\n",
      "    {\n",
      "        \"contact\": {\n",
      "            \"email\": null,\n",
      "            \"phone\": \"+62 751 483 401\",\n",
      "            \"fax\": null,\n",
      "            \"address\": null\n",
      "        }\n",
      "    }\n",
      "  ** [sub page] 조회 - https://rajdularbrothers.com/spices/clove/\n"
     ]
    },
    {
     "name": "stderr",
     "output_type": "stream",
     "text": [
      "/var/folders/wx/91r7nlnj64q2ql80lp6d9_kr0000gn/T/ipykernel_27402/424998281.py:144: FutureWarning: The frame.append method is deprecated and will be removed from pandas in a future version. Use pandas.concat instead.\n",
      "  result_df = result_df.append(sub_df, ignore_index=True)\n"
     ]
    },
    {
     "name": "stdout",
     "output_type": "stream",
     "text": [
      "  ** [llm] contact 정보 & products 추출\n",
      "    {\n",
      "        \"contact\": {\n",
      "            \"email\": null,\n",
      "            \"phone\": \"+62 751 483 401\",\n",
      "            \"fax\": null,\n",
      "            \"address\": null\n",
      "        }\n",
      "    }\n",
      "  ** [sub page] 조회 - https://rajdularbrothers.com/spices/clove-stem/\n"
     ]
    },
    {
     "name": "stderr",
     "output_type": "stream",
     "text": [
      "/var/folders/wx/91r7nlnj64q2ql80lp6d9_kr0000gn/T/ipykernel_27402/424998281.py:144: FutureWarning: The frame.append method is deprecated and will be removed from pandas in a future version. Use pandas.concat instead.\n",
      "  result_df = result_df.append(sub_df, ignore_index=True)\n"
     ]
    },
    {
     "name": "stdout",
     "output_type": "stream",
     "text": [
      "  ** [llm] contact 정보 & products 추출\n",
      "    {\n",
      "        \"contact\": {\n",
      "            \"email\": null,\n",
      "            \"phone\": \"+62 751 483 401\",\n",
      "            \"fax\": null,\n",
      "            \"address\": null\n",
      "        }\n",
      "    }\n",
      "  ** [sub page] 조회 - https://rajdularbrothers.com/spices/cubeb/\n"
     ]
    },
    {
     "name": "stderr",
     "output_type": "stream",
     "text": [
      "/var/folders/wx/91r7nlnj64q2ql80lp6d9_kr0000gn/T/ipykernel_27402/424998281.py:144: FutureWarning: The frame.append method is deprecated and will be removed from pandas in a future version. Use pandas.concat instead.\n",
      "  result_df = result_df.append(sub_df, ignore_index=True)\n"
     ]
    },
    {
     "name": "stdout",
     "output_type": "stream",
     "text": [
      "  ** [llm] contact 정보 & products 추출\n",
      "    {\n",
      "        \"contact\": {\n",
      "            \"email\": null,\n",
      "            \"phone\": \"+62 751 483 401\",\n",
      "            \"fax\": null,\n",
      "            \"address\": null\n",
      "        }\n",
      "    }\n",
      "  ** [sub page] 조회 - https://rajdularbrothers.com/damar-batu/\n"
     ]
    },
    {
     "name": "stderr",
     "output_type": "stream",
     "text": [
      "/var/folders/wx/91r7nlnj64q2ql80lp6d9_kr0000gn/T/ipykernel_27402/424998281.py:144: FutureWarning: The frame.append method is deprecated and will be removed from pandas in a future version. Use pandas.concat instead.\n",
      "  result_df = result_df.append(sub_df, ignore_index=True)\n"
     ]
    },
    {
     "name": "stdout",
     "output_type": "stream",
     "text": [
      "  ** [llm] contact 정보 & products 추출\n",
      "    {\n",
      "        \"email\": null,\n",
      "        \"phone\": \"+62 751 483 401\",\n",
      "        \"fax\": null,\n",
      "        \"address\": null\n",
      "    }\n",
      "  ** [sub page] 조회 - https://rajdularbrothers.com/spices/dried-sliced-turmeric/\n"
     ]
    },
    {
     "name": "stderr",
     "output_type": "stream",
     "text": [
      "/var/folders/wx/91r7nlnj64q2ql80lp6d9_kr0000gn/T/ipykernel_27402/424998281.py:144: FutureWarning: The frame.append method is deprecated and will be removed from pandas in a future version. Use pandas.concat instead.\n",
      "  result_df = result_df.append(sub_df, ignore_index=True)\n"
     ]
    },
    {
     "name": "stdout",
     "output_type": "stream",
     "text": [
      "  ** [llm] contact 정보 & products 추출\n",
      "    {\n",
      "        \"contact\": {\n",
      "            \"email\": null,\n",
      "            \"phone\": \"+62 751 483 401\",\n",
      "            \"fax\": null,\n",
      "            \"address\": null\n",
      "        }\n",
      "    }\n",
      "  ** [sub page] 조회 - https://rajdularbrothers.com/spices/dried-ginger/\n"
     ]
    },
    {
     "name": "stderr",
     "output_type": "stream",
     "text": [
      "/var/folders/wx/91r7nlnj64q2ql80lp6d9_kr0000gn/T/ipykernel_27402/424998281.py:144: FutureWarning: The frame.append method is deprecated and will be removed from pandas in a future version. Use pandas.concat instead.\n",
      "  result_df = result_df.append(sub_df, ignore_index=True)\n"
     ]
    },
    {
     "name": "stdout",
     "output_type": "stream",
     "text": [
      "  ** [llm] contact 정보 & products 추출\n",
      "    {\n",
      "        \"contact\": {\n",
      "            \"email\": null,\n",
      "            \"phone\": \"+62 751 483 401\",\n",
      "            \"fax\": null,\n",
      "            \"address\": null\n",
      "        }\n",
      "    }\n",
      "  ** [sub page] 조회 - https://rajdularbrothers.com/spices/galangal/\n"
     ]
    },
    {
     "name": "stderr",
     "output_type": "stream",
     "text": [
      "/var/folders/wx/91r7nlnj64q2ql80lp6d9_kr0000gn/T/ipykernel_27402/424998281.py:144: FutureWarning: The frame.append method is deprecated and will be removed from pandas in a future version. Use pandas.concat instead.\n",
      "  result_df = result_df.append(sub_df, ignore_index=True)\n"
     ]
    },
    {
     "name": "stdout",
     "output_type": "stream",
     "text": [
      "  ** [llm] contact 정보 & products 추출\n",
      "    {\n",
      "        \"contact\": {\n",
      "            \"email\": null,\n",
      "            \"phone\": \"+62 751 483 401\",\n",
      "            \"fax\": null,\n",
      "            \"address\": null\n",
      "        }\n",
      "    }\n",
      "  ** [sub page] 조회 - https://rajdularbrothers.com/spices/long-pepper/\n"
     ]
    },
    {
     "name": "stderr",
     "output_type": "stream",
     "text": [
      "/var/folders/wx/91r7nlnj64q2ql80lp6d9_kr0000gn/T/ipykernel_27402/424998281.py:144: FutureWarning: The frame.append method is deprecated and will be removed from pandas in a future version. Use pandas.concat instead.\n",
      "  result_df = result_df.append(sub_df, ignore_index=True)\n"
     ]
    },
    {
     "name": "stdout",
     "output_type": "stream",
     "text": [
      "  ** [llm] contact 정보 & products 추출\n",
      "    {\n",
      "        \"contact\": {\n",
      "            \"email\": null,\n",
      "            \"phone\": \"+62 751 483 401\",\n",
      "            \"fax\": null,\n",
      "            \"address\": null\n",
      "        }\n",
      "    }\n",
      "  ** [sub page] 조회 - https://rajdularbrothers.com/spices/mace/\n"
     ]
    },
    {
     "name": "stderr",
     "output_type": "stream",
     "text": [
      "/var/folders/wx/91r7nlnj64q2ql80lp6d9_kr0000gn/T/ipykernel_27402/424998281.py:144: FutureWarning: The frame.append method is deprecated and will be removed from pandas in a future version. Use pandas.concat instead.\n",
      "  result_df = result_df.append(sub_df, ignore_index=True)\n"
     ]
    },
    {
     "name": "stdout",
     "output_type": "stream",
     "text": [
      "  ** [llm] contact 정보 & products 추출\n",
      "    {\n",
      "        \"contact\": {\n",
      "            \"email\": null,\n",
      "            \"phone\": \"+62 751 483 401\",\n",
      "            \"fax\": null,\n",
      "            \"address\": null\n",
      "        }\n",
      "    }\n",
      "  ** [sub page] 조회 - https://rajdularbrothers.com/spices/patchouli-leaves/\n"
     ]
    },
    {
     "name": "stderr",
     "output_type": "stream",
     "text": [
      "/var/folders/wx/91r7nlnj64q2ql80lp6d9_kr0000gn/T/ipykernel_27402/424998281.py:144: FutureWarning: The frame.append method is deprecated and will be removed from pandas in a future version. Use pandas.concat instead.\n",
      "  result_df = result_df.append(sub_df, ignore_index=True)\n"
     ]
    },
    {
     "name": "stdout",
     "output_type": "stream",
     "text": [
      "  ** [llm] contact 정보 & products 추출\n",
      "    {\n",
      "        \"contact\": {\n",
      "            \"email\": null,\n",
      "            \"phone\": \"+62 751 483 401\",\n",
      "            \"fax\": null,\n",
      "            \"address\": null\n",
      "        }\n",
      "    }\n",
      "  ** [sub page] 조회 - https://rajdularbrothers.com/spices/tamarind/\n"
     ]
    },
    {
     "name": "stderr",
     "output_type": "stream",
     "text": [
      "/var/folders/wx/91r7nlnj64q2ql80lp6d9_kr0000gn/T/ipykernel_27402/424998281.py:144: FutureWarning: The frame.append method is deprecated and will be removed from pandas in a future version. Use pandas.concat instead.\n",
      "  result_df = result_df.append(sub_df, ignore_index=True)\n"
     ]
    },
    {
     "name": "stdout",
     "output_type": "stream",
     "text": [
      "  ** [llm] contact 정보 & products 추출\n",
      "    {\n",
      "        \"contact\": {\n",
      "            \"email\": null,\n",
      "            \"phone\": \"+62 751 483 401\",\n",
      "            \"fax\": null,\n",
      "            \"address\": null\n",
      "        }\n",
      "    }\n",
      "  ** [sub page] 조회 - https://rajdularbrothers.com/velvet-tamarind/\n"
     ]
    },
    {
     "name": "stderr",
     "output_type": "stream",
     "text": [
      "/var/folders/wx/91r7nlnj64q2ql80lp6d9_kr0000gn/T/ipykernel_27402/424998281.py:144: FutureWarning: The frame.append method is deprecated and will be removed from pandas in a future version. Use pandas.concat instead.\n",
      "  result_df = result_df.append(sub_df, ignore_index=True)\n"
     ]
    },
    {
     "name": "stdout",
     "output_type": "stream",
     "text": [
      "  ** [llm] contact 정보 & products 추출\n",
      "    {\n",
      "        \"contact\": {\n",
      "            \"email\": null,\n",
      "            \"phone\": \"+62 751 483 401\",\n",
      "            \"fax\": null,\n",
      "            \"address\": null\n",
      "        }\n",
      "    }\n",
      "  ** [sub page] 조회 - https://rajdularbrothers.com/spices/white-pepper/\n"
     ]
    },
    {
     "name": "stderr",
     "output_type": "stream",
     "text": [
      "/var/folders/wx/91r7nlnj64q2ql80lp6d9_kr0000gn/T/ipykernel_27402/424998281.py:144: FutureWarning: The frame.append method is deprecated and will be removed from pandas in a future version. Use pandas.concat instead.\n",
      "  result_df = result_df.append(sub_df, ignore_index=True)\n"
     ]
    },
    {
     "name": "stdout",
     "output_type": "stream",
     "text": [
      "  ** [llm] contact 정보 & products 추출\n",
      "    {\n",
      "        \"contact\": {\n",
      "            \"email\": null,\n",
      "            \"phone\": \"+62 751 483 401\",\n",
      "            \"fax\": null,\n",
      "            \"address\": null\n",
      "        }\n",
      "    }\n",
      "** [main page] 조회 - https://sprayleggero.it/en/\n"
     ]
    },
    {
     "name": "stderr",
     "output_type": "stream",
     "text": [
      "/var/folders/wx/91r7nlnj64q2ql80lp6d9_kr0000gn/T/ipykernel_27402/424998281.py:144: FutureWarning: The frame.append method is deprecated and will be removed from pandas in a future version. Use pandas.concat instead.\n",
      "  result_df = result_df.append(sub_df, ignore_index=True)\n",
      "/var/folders/wx/91r7nlnj64q2ql80lp6d9_kr0000gn/T/ipykernel_27402/1293433820.py:16: FutureWarning: The frame.append method is deprecated and will be removed from pandas in a future version. Use pandas.concat instead.\n",
      "  result_total_df = result_total_df.append(sub_result, ignore_index=True)\n"
     ]
    },
    {
     "name": "stdout",
     "output_type": "stream",
     "text": [
      "  ** [llm] contact 정보 & products 추출\n",
      "    {\n",
      "        \"contact\": {\n",
      "            \"email\": null,\n",
      "            \"phone\": null,\n",
      "            \"fax\": null,\n",
      "            \"address\": null\n",
      "        }\n",
      "    }\n",
      "  ** a tag 추출\n",
      "  ** [llm] 회사 정보와 관련있는 a tag 선별\n"
     ]
    },
    {
     "name": "stderr",
     "output_type": "stream",
     "text": [
      "/var/folders/wx/91r7nlnj64q2ql80lp6d9_kr0000gn/T/ipykernel_27402/424998281.py:108: FutureWarning: The frame.append method is deprecated and will be removed from pandas in a future version. Use pandas.concat instead.\n",
      "  result_df = result_df.append(sub_df, ignore_index=True)\n"
     ]
    },
    {
     "name": "stdout",
     "output_type": "stream",
     "text": [
      "    ['https://sprayleggero.it/en/contact-us', 'https://sprayleggero.it/en/the-flavoured-oils/1-108-black-truffle-spray-in-extra-virgin-olive-oil-8006830991114.html#/27-size-250_ml', 'https://sprayleggero.it/en/the-flavoured-oils/13-112-garlic-spray-in-extra-virgin-olive-oil-8006830991312.html#/27-size-250_ml', 'https://sprayleggero.it/en/the-flavoured-oils/14-116-chilli-pepper-spray-in-extra-virgin-olive-oil-800683099121.html#/27-size-250_ml', 'https://sprayleggero.it/en/the-flavoured-oils/15-120-lemon-spray-in-extra-virgin-olive-oil-800683099069.html#/27-size-250_ml', 'https://sprayleggero.it/en/the-extra-virgin-olive-oil/16-124-100-italian-extra-virgin-olive-oil-800683099009.html#/27-size-250_ml', 'https://sprayleggero.it/en/the-nutraceuticals/21-146-avocado-oil-spray-800683099506.html#/26-size-200_ml', 'https://sprayleggero.it/en/the-nutraceuticals/22-147-flaxseed-oil-spray-800683099516.html#/26-size-200_ml', 'https://sprayleggero.it/en/the-nutraceuticals/23-148-grape-seed-oil-spray-800683099526.html#/26-size-200_ml']\n",
      "  ** [sub page] 조회 - https://sprayleggero.it/en/contact-us\n",
      "  ** [llm] contact 정보 & products 추출\n",
      "    {\n",
      "        \"email\": null,\n",
      "        \"phone\": null,\n",
      "        \"fax\": null,\n",
      "        \"address\": null\n",
      "    }\n",
      "  ** [sub page] 조회 - https://sprayleggero.it/en/the-flavoured-oils/1-108-black-truffle-spray-in-extra-virgin-olive-oil-8006830991114.html#/27-size-250_ml\n"
     ]
    },
    {
     "name": "stderr",
     "output_type": "stream",
     "text": [
      "/var/folders/wx/91r7nlnj64q2ql80lp6d9_kr0000gn/T/ipykernel_27402/424998281.py:144: FutureWarning: The frame.append method is deprecated and will be removed from pandas in a future version. Use pandas.concat instead.\n",
      "  result_df = result_df.append(sub_df, ignore_index=True)\n"
     ]
    },
    {
     "name": "stdout",
     "output_type": "stream",
     "text": [
      "  ** [llm] contact 정보 & products 추출\n",
      "    {\n",
      "        \"contact\": {\n",
      "            \"email\": null,\n",
      "            \"phone\": null,\n",
      "            \"fax\": null,\n",
      "            \"address\": null\n",
      "        }\n",
      "    }\n",
      "  ** [sub page] 조회 - https://sprayleggero.it/en/the-flavoured-oils/13-112-garlic-spray-in-extra-virgin-olive-oil-8006830991312.html#/27-size-250_ml\n"
     ]
    },
    {
     "name": "stderr",
     "output_type": "stream",
     "text": [
      "/var/folders/wx/91r7nlnj64q2ql80lp6d9_kr0000gn/T/ipykernel_27402/424998281.py:144: FutureWarning: The frame.append method is deprecated and will be removed from pandas in a future version. Use pandas.concat instead.\n",
      "  result_df = result_df.append(sub_df, ignore_index=True)\n"
     ]
    },
    {
     "name": "stdout",
     "output_type": "stream",
     "text": [
      "  ** [llm] contact 정보 & products 추출\n",
      "    {\n",
      "        \"contact\": {\n",
      "            \"email\": null,\n",
      "            \"phone\": null,\n",
      "            \"fax\": null,\n",
      "            \"address\": null\n",
      "        }\n",
      "    }\n",
      "  ** [sub page] 조회 - https://sprayleggero.it/en/the-flavoured-oils/14-116-chilli-pepper-spray-in-extra-virgin-olive-oil-800683099121.html#/27-size-250_ml\n"
     ]
    },
    {
     "name": "stderr",
     "output_type": "stream",
     "text": [
      "/var/folders/wx/91r7nlnj64q2ql80lp6d9_kr0000gn/T/ipykernel_27402/424998281.py:144: FutureWarning: The frame.append method is deprecated and will be removed from pandas in a future version. Use pandas.concat instead.\n",
      "  result_df = result_df.append(sub_df, ignore_index=True)\n"
     ]
    },
    {
     "name": "stdout",
     "output_type": "stream",
     "text": [
      "  ** [llm] contact 정보 & products 추출\n",
      "    {\n",
      "        \"contact\": {\n",
      "            \"email\": null,\n",
      "            \"phone\": null,\n",
      "            \"fax\": null,\n",
      "            \"address\": null\n",
      "        }\n",
      "    }\n",
      "  ** [sub page] 조회 - https://sprayleggero.it/en/the-flavoured-oils/15-120-lemon-spray-in-extra-virgin-olive-oil-800683099069.html#/27-size-250_ml\n"
     ]
    },
    {
     "name": "stderr",
     "output_type": "stream",
     "text": [
      "/var/folders/wx/91r7nlnj64q2ql80lp6d9_kr0000gn/T/ipykernel_27402/424998281.py:144: FutureWarning: The frame.append method is deprecated and will be removed from pandas in a future version. Use pandas.concat instead.\n",
      "  result_df = result_df.append(sub_df, ignore_index=True)\n"
     ]
    },
    {
     "name": "stdout",
     "output_type": "stream",
     "text": [
      "  ** [llm] contact 정보 & products 추출\n",
      "    {\n",
      "        \"contact\": {\n",
      "            \"email\": null,\n",
      "            \"phone\": null,\n",
      "            \"fax\": null,\n",
      "            \"address\": null\n",
      "        }\n",
      "    }\n",
      "  ** [sub page] 조회 - https://sprayleggero.it/en/the-extra-virgin-olive-oil/16-124-100-italian-extra-virgin-olive-oil-800683099009.html#/27-size-250_ml\n"
     ]
    },
    {
     "name": "stderr",
     "output_type": "stream",
     "text": [
      "/var/folders/wx/91r7nlnj64q2ql80lp6d9_kr0000gn/T/ipykernel_27402/424998281.py:144: FutureWarning: The frame.append method is deprecated and will be removed from pandas in a future version. Use pandas.concat instead.\n",
      "  result_df = result_df.append(sub_df, ignore_index=True)\n"
     ]
    },
    {
     "name": "stdout",
     "output_type": "stream",
     "text": [
      "  ** [llm] contact 정보 & products 추출\n",
      "    {\n",
      "        \"contact\": {\n",
      "            \"email\": null,\n",
      "            \"phone\": null,\n",
      "            \"fax\": null,\n",
      "            \"address\": null\n",
      "        }\n",
      "    }\n",
      "  ** [sub page] 조회 - https://sprayleggero.it/en/the-nutraceuticals/21-146-avocado-oil-spray-800683099506.html#/26-size-200_ml\n"
     ]
    },
    {
     "name": "stderr",
     "output_type": "stream",
     "text": [
      "/var/folders/wx/91r7nlnj64q2ql80lp6d9_kr0000gn/T/ipykernel_27402/424998281.py:144: FutureWarning: The frame.append method is deprecated and will be removed from pandas in a future version. Use pandas.concat instead.\n",
      "  result_df = result_df.append(sub_df, ignore_index=True)\n"
     ]
    },
    {
     "name": "stdout",
     "output_type": "stream",
     "text": [
      "  ** [llm] contact 정보 & products 추출\n",
      "    {\n",
      "        \"contact\": {\n",
      "            \"email\": null,\n",
      "            \"phone\": null,\n",
      "            \"fax\": null,\n",
      "            \"address\": null\n",
      "        }\n",
      "    }\n",
      "  ** [sub page] 조회 - https://sprayleggero.it/en/the-nutraceuticals/22-147-flaxseed-oil-spray-800683099516.html#/26-size-200_ml\n"
     ]
    },
    {
     "name": "stderr",
     "output_type": "stream",
     "text": [
      "/var/folders/wx/91r7nlnj64q2ql80lp6d9_kr0000gn/T/ipykernel_27402/424998281.py:144: FutureWarning: The frame.append method is deprecated and will be removed from pandas in a future version. Use pandas.concat instead.\n",
      "  result_df = result_df.append(sub_df, ignore_index=True)\n"
     ]
    },
    {
     "name": "stdout",
     "output_type": "stream",
     "text": [
      "  ** [llm] contact 정보 & products 추출\n",
      "    {\n",
      "        \"contact\": {\n",
      "            \"email\": null,\n",
      "            \"phone\": null,\n",
      "            \"fax\": null,\n",
      "            \"address\": null\n",
      "        }\n",
      "    }\n",
      "  ** [sub page] 조회 - https://sprayleggero.it/en/the-nutraceuticals/23-148-grape-seed-oil-spray-800683099526.html#/26-size-200_ml\n"
     ]
    },
    {
     "name": "stderr",
     "output_type": "stream",
     "text": [
      "/var/folders/wx/91r7nlnj64q2ql80lp6d9_kr0000gn/T/ipykernel_27402/424998281.py:144: FutureWarning: The frame.append method is deprecated and will be removed from pandas in a future version. Use pandas.concat instead.\n",
      "  result_df = result_df.append(sub_df, ignore_index=True)\n"
     ]
    },
    {
     "name": "stdout",
     "output_type": "stream",
     "text": [
      "  ** [llm] contact 정보 & products 추출\n",
      "    {\n",
      "        \"contact\": {\n",
      "            \"email\": null,\n",
      "            \"phone\": null,\n",
      "            \"fax\": null,\n",
      "            \"address\": null\n",
      "        }\n",
      "    }\n",
      "** [main page] 조회 - https://www.belkisyag.com/\n"
     ]
    },
    {
     "name": "stderr",
     "output_type": "stream",
     "text": [
      "/var/folders/wx/91r7nlnj64q2ql80lp6d9_kr0000gn/T/ipykernel_27402/424998281.py:144: FutureWarning: The frame.append method is deprecated and will be removed from pandas in a future version. Use pandas.concat instead.\n",
      "  result_df = result_df.append(sub_df, ignore_index=True)\n",
      "/var/folders/wx/91r7nlnj64q2ql80lp6d9_kr0000gn/T/ipykernel_27402/1293433820.py:16: FutureWarning: The frame.append method is deprecated and will be removed from pandas in a future version. Use pandas.concat instead.\n",
      "  result_total_df = result_total_df.append(sub_result, ignore_index=True)\n"
     ]
    },
    {
     "name": "stdout",
     "output_type": "stream",
     "text": [
      "  ** [llm] contact 정보 & products 추출\n",
      "    {\n",
      "        \"contact\": {\n",
      "            \"email\": null,\n",
      "            \"phone\": null,\n",
      "            \"fax\": null,\n",
      "            \"address\": null\n",
      "        }\n",
      "    }\n",
      "  ** a tag 추출\n",
      "    [empty]\n",
      "** [main page] 조회 - https://www.marbil.com.tr\n"
     ]
    },
    {
     "name": "stderr",
     "output_type": "stream",
     "text": [
      "/var/folders/wx/91r7nlnj64q2ql80lp6d9_kr0000gn/T/ipykernel_27402/424998281.py:108: FutureWarning: The frame.append method is deprecated and will be removed from pandas in a future version. Use pandas.concat instead.\n",
      "  result_df = result_df.append(sub_df, ignore_index=True)\n",
      "/var/folders/wx/91r7nlnj64q2ql80lp6d9_kr0000gn/T/ipykernel_27402/1293433820.py:16: FutureWarning: The frame.append method is deprecated and will be removed from pandas in a future version. Use pandas.concat instead.\n",
      "  result_total_df = result_total_df.append(sub_result, ignore_index=True)\n"
     ]
    },
    {
     "name": "stdout",
     "output_type": "stream",
     "text": [
      "    [500] : 조회 실패\n",
      "** [main page] 조회 - https://agriculture.canada.ca/en\n",
      "  ** [llm] contact 정보 & products 추출\n",
      "    {\n",
      "        \"contact\": {\n",
      "            \"email\": null,\n",
      "            \"phone\": null,\n",
      "            \"fax\": null,\n",
      "            \"address\": null\n",
      "        }\n",
      "    }\n",
      "  ** a tag 추출\n",
      "  ** [llm] 회사 정보와 관련있는 a tag 선별\n"
     ]
    },
    {
     "name": "stderr",
     "output_type": "stream",
     "text": [
      "/var/folders/wx/91r7nlnj64q2ql80lp6d9_kr0000gn/T/ipykernel_27402/424998281.py:108: FutureWarning: The frame.append method is deprecated and will be removed from pandas in a future version. Use pandas.concat instead.\n",
      "  result_df = result_df.append(sub_df, ignore_index=True)\n"
     ]
    },
    {
     "name": "stdout",
     "output_type": "stream",
     "text": [
      "    ['https://agriculture.canada.ca/en/canadas-agriculture-sectors/canadian-food-system/taste-commitment-campaign?utm_source=int_web&amp;utm_medium=web&amp;utm_campaign=TTC&amp;utm_content=2023-02-10_0090']\n",
      "  ** [sub page] 조회 - https://agriculture.canada.ca/en/canadas-agriculture-sectors/canadian-food-system/taste-commitment-campaign?utm_source=int_web&amp;utm_medium=web&amp;utm_campaign=TTC&amp;utm_content=2023-02-10_0090\n",
      "  ** [llm] contact 정보 & products 추출\n",
      "    {\n",
      "        \"contact\": {\n",
      "            \"email\": null,\n",
      "            \"phone\": null,\n",
      "            \"fax\": null,\n",
      "            \"address\": null\n",
      "        }\n",
      "    }\n",
      "** [main page] 조회 - http://agrozan.com\n"
     ]
    },
    {
     "name": "stderr",
     "output_type": "stream",
     "text": [
      "/var/folders/wx/91r7nlnj64q2ql80lp6d9_kr0000gn/T/ipykernel_27402/424998281.py:144: FutureWarning: The frame.append method is deprecated and will be removed from pandas in a future version. Use pandas.concat instead.\n",
      "  result_df = result_df.append(sub_df, ignore_index=True)\n",
      "/var/folders/wx/91r7nlnj64q2ql80lp6d9_kr0000gn/T/ipykernel_27402/1293433820.py:16: FutureWarning: The frame.append method is deprecated and will be removed from pandas in a future version. Use pandas.concat instead.\n",
      "  result_total_df = result_total_df.append(sub_result, ignore_index=True)\n"
     ]
    },
    {
     "name": "stdout",
     "output_type": "stream",
     "text": [
      "  ** [llm] contact 정보 & products 추출\n",
      "    {\n",
      "        \"contact\": {\n",
      "            \"email\": null,\n",
      "            \"phone\": null,\n",
      "            \"fax\": null,\n",
      "            \"address\": null\n",
      "        }\n",
      "    }\n",
      "  ** a tag 추출\n",
      "  ** [llm] 회사 정보와 관련있는 a tag 선별\n"
     ]
    },
    {
     "name": "stderr",
     "output_type": "stream",
     "text": [
      "/var/folders/wx/91r7nlnj64q2ql80lp6d9_kr0000gn/T/ipykernel_27402/424998281.py:108: FutureWarning: The frame.append method is deprecated and will be removed from pandas in a future version. Use pandas.concat instead.\n",
      "  result_df = result_df.append(sub_df, ignore_index=True)\n"
     ]
    },
    {
     "name": "stdout",
     "output_type": "stream",
     "text": [
      "    ['http://agrozan.com', 'http://www.agrozan.com']\n",
      "  ** [sub page] 조회 - http://agrozan.com\n",
      "  ** [llm] contact 정보 & products 추출\n",
      "    {\n",
      "        \"contact\": {\n",
      "            \"email\": null,\n",
      "            \"phone\": null,\n",
      "            \"fax\": null,\n",
      "            \"address\": null\n",
      "        }\n",
      "    }\n",
      "  ** [sub page] 조회 - http://www.agrozan.com\n"
     ]
    },
    {
     "name": "stderr",
     "output_type": "stream",
     "text": [
      "/var/folders/wx/91r7nlnj64q2ql80lp6d9_kr0000gn/T/ipykernel_27402/424998281.py:144: FutureWarning: The frame.append method is deprecated and will be removed from pandas in a future version. Use pandas.concat instead.\n",
      "  result_df = result_df.append(sub_df, ignore_index=True)\n"
     ]
    },
    {
     "name": "stdout",
     "output_type": "stream",
     "text": [
      "  ** [llm] contact 정보 & products 추출\n",
      "    {\n",
      "        \"contact\": {\n",
      "            \"email\": null,\n",
      "            \"phone\": null,\n",
      "            \"fax\": null,\n",
      "            \"address\": null\n",
      "        }\n",
      "    }\n",
      "** [main page] 조회 - https://www.tunasbarulampung.com/\n"
     ]
    },
    {
     "name": "stderr",
     "output_type": "stream",
     "text": [
      "/var/folders/wx/91r7nlnj64q2ql80lp6d9_kr0000gn/T/ipykernel_27402/424998281.py:144: FutureWarning: The frame.append method is deprecated and will be removed from pandas in a future version. Use pandas.concat instead.\n",
      "  result_df = result_df.append(sub_df, ignore_index=True)\n",
      "/var/folders/wx/91r7nlnj64q2ql80lp6d9_kr0000gn/T/ipykernel_27402/1293433820.py:16: FutureWarning: The frame.append method is deprecated and will be removed from pandas in a future version. Use pandas.concat instead.\n",
      "  result_total_df = result_total_df.append(sub_result, ignore_index=True)\n"
     ]
    },
    {
     "name": "stdout",
     "output_type": "stream",
     "text": [
      "  ** [llm] contact 정보 & products 추출\n",
      "    {\n",
      "        \"contact\": {\n",
      "            \"email\": null,\n",
      "            \"phone\": \"+62-21-5213383\",\n",
      "            \"fax\": \"+62-21-5213332 / 92\",\n",
      "            \"address\": \"Floor 8-9, Wisma Budi H.R. Rasuna Said Rd. Lot C-6\\nJakarta, 12940 \\u2013 Indonesia\"\n",
      "        }\n",
      "    }\n",
      "  ** a tag 추출\n",
      "  ** [llm] 회사 정보와 관련있는 a tag 선별\n"
     ]
    },
    {
     "name": "stderr",
     "output_type": "stream",
     "text": [
      "/var/folders/wx/91r7nlnj64q2ql80lp6d9_kr0000gn/T/ipykernel_27402/424998281.py:108: FutureWarning: The frame.append method is deprecated and will be removed from pandas in a future version. Use pandas.concat instead.\n",
      "  result_df = result_df.append(sub_df, ignore_index=True)\n"
     ]
    },
    {
     "name": "stdout",
     "output_type": "stream",
     "text": [
      "    ['https://www.tunasbarulampung.com/contact/', 'https://www.tunasbarulampung.com/product-review/', 'https://www.tunasbarulampung.com/product-mix/', 'https://www.tunasbarulampung.com/plantation-profile/', 'https://www.tunasbarulampung.com/production-capacities/']\n",
      "  ** [sub page] 조회 - https://www.tunasbarulampung.com/contact/\n",
      "  ** [llm] contact 정보 & products 추출\n",
      "    {\n",
      "        \"contact\": {\n",
      "            \"email\": null,\n",
      "            \"phone\": \"+62-21-5213383\",\n",
      "            \"fax\": \"+62-21-5213332 / 92\",\n",
      "            \"address\": \"Floor 8-9, Wisma Budi H.R. Rasuna Said Rd. Lot C-6\\nJakarta, 12940 \\u2013 Indonesia\"\n",
      "        }\n",
      "    }\n",
      "  ** [sub page] 조회 - https://www.tunasbarulampung.com/product-review/\n"
     ]
    },
    {
     "name": "stderr",
     "output_type": "stream",
     "text": [
      "/var/folders/wx/91r7nlnj64q2ql80lp6d9_kr0000gn/T/ipykernel_27402/424998281.py:144: FutureWarning: The frame.append method is deprecated and will be removed from pandas in a future version. Use pandas.concat instead.\n",
      "  result_df = result_df.append(sub_df, ignore_index=True)\n"
     ]
    },
    {
     "name": "stdout",
     "output_type": "stream",
     "text": [
      "  ** [llm] contact 정보 & products 추출\n",
      "    {\n",
      "        \"contact\": {\n",
      "            \"email\": null,\n",
      "            \"phone\": \"+62-21-5213383\",\n",
      "            \"fax\": \"+62-21-5213332 / 92\",\n",
      "            \"address\": \"Floor 8-9, Wisma Budi H.R. Rasuna Said Rd. Lot C-6\\nJakarta, 12940 \\u2013 Indonesia\"\n",
      "        }\n",
      "    }\n",
      "  ** [sub page] 조회 - https://www.tunasbarulampung.com/product-mix/\n"
     ]
    },
    {
     "name": "stderr",
     "output_type": "stream",
     "text": [
      "/var/folders/wx/91r7nlnj64q2ql80lp6d9_kr0000gn/T/ipykernel_27402/424998281.py:144: FutureWarning: The frame.append method is deprecated and will be removed from pandas in a future version. Use pandas.concat instead.\n",
      "  result_df = result_df.append(sub_df, ignore_index=True)\n"
     ]
    },
    {
     "name": "stdout",
     "output_type": "stream",
     "text": [
      "  ** [llm] contact 정보 & products 추출\n",
      "    {\n",
      "        \"contact\": {\n",
      "            \"email\": null,\n",
      "            \"phone\": \"+62-21-5213383\",\n",
      "            \"fax\": \"+62-21-5213332 / 92\",\n",
      "            \"address\": \"Floor 8-9, Wisma Budi H.R. Rasuna Said Rd. Lot C-6\\nJakarta, 12940 \\u2013 Indonesia\"\n",
      "        }\n",
      "    }\n",
      "  ** [sub page] 조회 - https://www.tunasbarulampung.com/plantation-profile/\n"
     ]
    },
    {
     "name": "stderr",
     "output_type": "stream",
     "text": [
      "/var/folders/wx/91r7nlnj64q2ql80lp6d9_kr0000gn/T/ipykernel_27402/424998281.py:144: FutureWarning: The frame.append method is deprecated and will be removed from pandas in a future version. Use pandas.concat instead.\n",
      "  result_df = result_df.append(sub_df, ignore_index=True)\n"
     ]
    },
    {
     "name": "stdout",
     "output_type": "stream",
     "text": [
      "  ** [llm] contact 정보 & products 추출\n",
      "    {\n",
      "        \"email\": null,\n",
      "        \"phone\": \"+62-21-5213383\",\n",
      "        \"fax\": \"+62-21-5213332 / 92\",\n",
      "        \"address\": \"Floor 8-9, Wisma Budi H.R. Rasuna Said Rd. Lot C-6\\nJakarta, 12940 \\u2013 Indonesia\"\n",
      "    }\n",
      "  ** [sub page] 조회 - https://www.tunasbarulampung.com/production-capacities/\n"
     ]
    },
    {
     "name": "stderr",
     "output_type": "stream",
     "text": [
      "/var/folders/wx/91r7nlnj64q2ql80lp6d9_kr0000gn/T/ipykernel_27402/424998281.py:144: FutureWarning: The frame.append method is deprecated and will be removed from pandas in a future version. Use pandas.concat instead.\n",
      "  result_df = result_df.append(sub_df, ignore_index=True)\n"
     ]
    },
    {
     "name": "stdout",
     "output_type": "stream",
     "text": [
      "  ** [llm] contact 정보 & products 추출\n",
      "    {\n",
      "        \"contact\": {\n",
      "            \"email\": null,\n",
      "            \"phone\": \"+62-21-5213383\",\n",
      "            \"fax\": \"+62-21-5213332 / 92\",\n",
      "            \"address\": \"Floor 8-9, Wisma Budi H.R. Rasuna Said Rd. Lot C-6\\nJakarta, 12940 \\u2013 Indonesia\"\n",
      "        }\n",
      "    }\n",
      "** [main page] 조회 - http://www.nazligida.com.tr/en\n"
     ]
    },
    {
     "name": "stderr",
     "output_type": "stream",
     "text": [
      "/var/folders/wx/91r7nlnj64q2ql80lp6d9_kr0000gn/T/ipykernel_27402/424998281.py:144: FutureWarning: The frame.append method is deprecated and will be removed from pandas in a future version. Use pandas.concat instead.\n",
      "  result_df = result_df.append(sub_df, ignore_index=True)\n",
      "/var/folders/wx/91r7nlnj64q2ql80lp6d9_kr0000gn/T/ipykernel_27402/1293433820.py:16: FutureWarning: The frame.append method is deprecated and will be removed from pandas in a future version. Use pandas.concat instead.\n",
      "  result_total_df = result_total_df.append(sub_result, ignore_index=True)\n"
     ]
    },
    {
     "name": "stdout",
     "output_type": "stream",
     "text": [
      "    [404] : 조회 실패\n",
      "** [main page] 조회 - https://viterra.ca/\n",
      "  ** [llm] contact 정보 & products 추출\n",
      "    {\n",
      "        \"contact\": {\n",
      "            \"email\": null,\n",
      "            \"phone\": null,\n",
      "            \"fax\": null,\n",
      "            \"address\": null\n",
      "        }\n",
      "    }\n",
      "  ** a tag 추출\n",
      "  ** [llm] 회사 정보와 관련있는 a tag 선별\n"
     ]
    },
    {
     "name": "stderr",
     "output_type": "stream",
     "text": [
      "/var/folders/wx/91r7nlnj64q2ql80lp6d9_kr0000gn/T/ipykernel_27402/424998281.py:108: FutureWarning: The frame.append method is deprecated and will be removed from pandas in a future version. Use pandas.concat instead.\n",
      "  result_df = result_df.append(sub_df, ignore_index=True)\n"
     ]
    },
    {
     "name": "stdout",
     "output_type": "stream",
     "text": [
      "    ['https://www.viterra.ca', 'https://viterra.ca/myViterra-registration']\n",
      "  ** [sub page] 조회 - https://www.viterra.ca\n",
      "  ** [llm] contact 정보 & products 추출\n",
      "    {\n",
      "        \"contact\": {\n",
      "            \"email\": null,\n",
      "            \"phone\": null,\n",
      "            \"fax\": null,\n",
      "            \"address\": null\n",
      "        }\n",
      "    }\n",
      "  ** [sub page] 조회 - https://viterra.ca/myViterra-registration\n"
     ]
    },
    {
     "name": "stderr",
     "output_type": "stream",
     "text": [
      "/var/folders/wx/91r7nlnj64q2ql80lp6d9_kr0000gn/T/ipykernel_27402/424998281.py:144: FutureWarning: The frame.append method is deprecated and will be removed from pandas in a future version. Use pandas.concat instead.\n",
      "  result_df = result_df.append(sub_df, ignore_index=True)\n"
     ]
    },
    {
     "name": "stdout",
     "output_type": "stream",
     "text": [
      "  ** [llm] contact 정보 & products 추출\n",
      "    {\n",
      "        \"email\": null,\n",
      "        \"phone\": null,\n",
      "        \"fax\": null,\n",
      "        \"address\": null\n",
      "    }\n",
      "** [main page] 조회 - https://alicommercialcorp.com\n"
     ]
    },
    {
     "name": "stderr",
     "output_type": "stream",
     "text": [
      "/var/folders/wx/91r7nlnj64q2ql80lp6d9_kr0000gn/T/ipykernel_27402/424998281.py:144: FutureWarning: The frame.append method is deprecated and will be removed from pandas in a future version. Use pandas.concat instead.\n",
      "  result_df = result_df.append(sub_df, ignore_index=True)\n",
      "/var/folders/wx/91r7nlnj64q2ql80lp6d9_kr0000gn/T/ipykernel_27402/1293433820.py:16: FutureWarning: The frame.append method is deprecated and will be removed from pandas in a future version. Use pandas.concat instead.\n",
      "  result_total_df = result_total_df.append(sub_result, ignore_index=True)\n"
     ]
    },
    {
     "name": "stdout",
     "output_type": "stream",
     "text": [
      "  ** [llm] contact 정보 & products 추출\n",
      "    {\n",
      "        \"email\": null,\n",
      "        \"phone\": [\n",
      "            \"0092 42 35858171-2\",\n",
      "            \"0092 321 7861119\",\n",
      "            \"0092 300 8491745\"\n",
      "        ],\n",
      "        \"fax\": [\n",
      "            \"0092\\u00a042\\u00a035861521\"\n",
      "        ],\n",
      "        \"address\": [\n",
      "            \"69-A, New Muslim Town, Lahore Pakistan\",\n",
      "            \"2-Km off G.T Road, Kala Shah KakuOpp. Ravi Rayon,\\u00a0Pakistan\"\n",
      "        ]\n",
      "    }\n",
      "  ** a tag 추출\n",
      "  ** [llm] 회사 정보와 관련있는 a tag 선별\n"
     ]
    },
    {
     "name": "stderr",
     "output_type": "stream",
     "text": [
      "/var/folders/wx/91r7nlnj64q2ql80lp6d9_kr0000gn/T/ipykernel_27402/424998281.py:108: FutureWarning: The frame.append method is deprecated and will be removed from pandas in a future version. Use pandas.concat instead.\n",
      "  result_df = result_df.append(sub_df, ignore_index=True)\n"
     ]
    },
    {
     "name": "stdout",
     "output_type": "stream",
     "text": [
      "    ['https://alicommercialcorp.com/?page_id=74', 'https://alicommercialcorp.com/?page_id=72']\n",
      "  ** [sub page] 조회 - https://alicommercialcorp.com/?page_id=74\n",
      "  ** [llm] contact 정보 & products 추출\n",
      "    {\n",
      "        \"email\": null,\n",
      "        \"phone\": [\n",
      "            \"0092 42 35858171-2\",\n",
      "            \"0092 321 7861119\",\n",
      "            \"0092 300 8491745\"\n",
      "        ],\n",
      "        \"fax\": [\n",
      "            \"0092\\u00a042\\u00a035861521\"\n",
      "        ],\n",
      "        \"address\": [\n",
      "            \"69-A, New Muslim Town, Lahore Pakistan\",\n",
      "            \"2-Km off G.T Road, Kala Shah KakuOpp. Ravi Rayon,\\u00a0Pakistan\"\n",
      "        ]\n",
      "    }\n",
      "  ** [sub page] 조회 - https://alicommercialcorp.com/?page_id=72\n"
     ]
    },
    {
     "name": "stderr",
     "output_type": "stream",
     "text": [
      "/var/folders/wx/91r7nlnj64q2ql80lp6d9_kr0000gn/T/ipykernel_27402/424998281.py:144: FutureWarning: The frame.append method is deprecated and will be removed from pandas in a future version. Use pandas.concat instead.\n",
      "  result_df = result_df.append(sub_df, ignore_index=True)\n"
     ]
    },
    {
     "name": "stdout",
     "output_type": "stream",
     "text": [
      "  ** [llm] contact 정보 & products 추출\n",
      "    {\n",
      "        \"email\": null,\n",
      "        \"phone\": [\n",
      "            \"0092 42 35858171-2\",\n",
      "            \"0092 321 7861119\",\n",
      "            \"0092 300 8491745\"\n",
      "        ],\n",
      "        \"fax\": [\n",
      "            \"0092\\u00a042\\u00a035861521\"\n",
      "        ],\n",
      "        \"address\": [\n",
      "            \"69-A, New Muslim Town, Lahore Pakistan\",\n",
      "            \"2-Km off G.T Road, Kala Shah KakuOpp. Ravi Rayon,\\u00a0Pakistan\"\n",
      "        ]\n",
      "    }\n",
      "** [main page] 조회 - https://www.instagram.com/isofoodco/?hl=en\n"
     ]
    },
    {
     "name": "stderr",
     "output_type": "stream",
     "text": [
      "/var/folders/wx/91r7nlnj64q2ql80lp6d9_kr0000gn/T/ipykernel_27402/424998281.py:144: FutureWarning: The frame.append method is deprecated and will be removed from pandas in a future version. Use pandas.concat instead.\n",
      "  result_df = result_df.append(sub_df, ignore_index=True)\n",
      "/var/folders/wx/91r7nlnj64q2ql80lp6d9_kr0000gn/T/ipykernel_27402/1293433820.py:16: FutureWarning: The frame.append method is deprecated and will be removed from pandas in a future version. Use pandas.concat instead.\n",
      "  result_total_df = result_total_df.append(sub_result, ignore_index=True)\n"
     ]
    },
    {
     "name": "stdout",
     "output_type": "stream",
     "text": [
      "  ** [llm] contact 정보 & products 추출\n",
      "    {\n",
      "        \"email\": null,\n",
      "        \"phone\": null,\n",
      "        \"fax\": null,\n",
      "        \"address\": null\n",
      "    }\n",
      "  ** a tag 추출\n",
      "    [empty]\n",
      "** [main page] 조회 - https://kcof.trustpass.alibaba.com/\n"
     ]
    },
    {
     "name": "stderr",
     "output_type": "stream",
     "text": [
      "/var/folders/wx/91r7nlnj64q2ql80lp6d9_kr0000gn/T/ipykernel_27402/424998281.py:108: FutureWarning: The frame.append method is deprecated and will be removed from pandas in a future version. Use pandas.concat instead.\n",
      "  result_df = result_df.append(sub_df, ignore_index=True)\n",
      "/var/folders/wx/91r7nlnj64q2ql80lp6d9_kr0000gn/T/ipykernel_27402/1293433820.py:16: FutureWarning: The frame.append method is deprecated and will be removed from pandas in a future version. Use pandas.concat instead.\n",
      "  result_total_df = result_total_df.append(sub_result, ignore_index=True)\n"
     ]
    },
    {
     "name": "stdout",
     "output_type": "stream",
     "text": [
      "  ** [llm] contact 정보 & products 추출\n",
      "    {\n",
      "        \"contact\": {\n",
      "            \"email\": null,\n",
      "            \"phone\": null,\n",
      "            \"fax\": null,\n",
      "            \"address\": null\n",
      "        }\n",
      "    }\n",
      "  ** a tag 추출\n",
      "    [empty]\n",
      "** [main page] 조회 - https://acmonterreal.com/en/\n"
     ]
    },
    {
     "name": "stderr",
     "output_type": "stream",
     "text": [
      "/var/folders/wx/91r7nlnj64q2ql80lp6d9_kr0000gn/T/ipykernel_27402/424998281.py:108: FutureWarning: The frame.append method is deprecated and will be removed from pandas in a future version. Use pandas.concat instead.\n",
      "  result_df = result_df.append(sub_df, ignore_index=True)\n",
      "/var/folders/wx/91r7nlnj64q2ql80lp6d9_kr0000gn/T/ipykernel_27402/1293433820.py:16: FutureWarning: The frame.append method is deprecated and will be removed from pandas in a future version. Use pandas.concat instead.\n",
      "  result_total_df = result_total_df.append(sub_result, ignore_index=True)\n"
     ]
    },
    {
     "name": "stdout",
     "output_type": "stream",
     "text": [
      "  ** [llm] contact 정보 & products 추출\n",
      "    {\n",
      "        \"contact\": {\n",
      "            \"email\": null,\n",
      "            \"phone\": null,\n",
      "            \"fax\": null,\n",
      "            \"address\": null\n",
      "        }\n",
      "    }\n",
      "  ** a tag 추출\n",
      "  ** [llm] 회사 정보와 관련있는 a tag 선별\n"
     ]
    },
    {
     "name": "stderr",
     "output_type": "stream",
     "text": [
      "/var/folders/wx/91r7nlnj64q2ql80lp6d9_kr0000gn/T/ipykernel_27402/424998281.py:108: FutureWarning: The frame.append method is deprecated and will be removed from pandas in a future version. Use pandas.concat instead.\n",
      "  result_df = result_df.append(sub_df, ignore_index=True)\n"
     ]
    },
    {
     "name": "stdout",
     "output_type": "stream",
     "text": [
      "    ['https://acmonterreal.com/en/contact/', 'https://acmonterreal.com/en/marca/monterreal-en/', 'https://acmonterreal.com/en/marca/ebest-en/', 'https://acmonterreal.com/en/marca/mundial-en/', 'https://acmonterreal.com/en/marca/private-label/', 'https://acmonterreal.com/en/legal-warning/', 'https://acmonterreal.com/en/politica-de-cookies-ue-en/', 'https://acmonterreal.com/en/privacy-policy/']\n",
      "  ** [sub page] 조회 - https://acmonterreal.com/en/contact/\n",
      "  ** [llm] contact 정보 & products 추출\n",
      "    {\n",
      "        \"contact\": {\n",
      "            \"email\": null,\n",
      "            \"phone\": \"957 17 60 00\",\n",
      "            \"fax\": null,\n",
      "            \"address\": \"Av. de Rafael Castro, 14640 Villa del R\\u00edo, C\\u00f3rdoba\"\n",
      "        }\n",
      "    }\n",
      "  ** [sub page] 조회 - https://acmonterreal.com/en/marca/monterreal-en/\n"
     ]
    },
    {
     "name": "stderr",
     "output_type": "stream",
     "text": [
      "/var/folders/wx/91r7nlnj64q2ql80lp6d9_kr0000gn/T/ipykernel_27402/424998281.py:144: FutureWarning: The frame.append method is deprecated and will be removed from pandas in a future version. Use pandas.concat instead.\n",
      "  result_df = result_df.append(sub_df, ignore_index=True)\n"
     ]
    },
    {
     "name": "stdout",
     "output_type": "stream",
     "text": [
      "  ** [llm] contact 정보 & products 추출\n",
      "    {\n",
      "        \"contact\": {\n",
      "            \"email\": null,\n",
      "            \"phone\": null,\n",
      "            \"fax\": null,\n",
      "            \"address\": null\n",
      "        }\n",
      "    }\n",
      "  ** [sub page] 조회 - https://acmonterreal.com/en/marca/ebest-en/\n"
     ]
    },
    {
     "name": "stderr",
     "output_type": "stream",
     "text": [
      "/var/folders/wx/91r7nlnj64q2ql80lp6d9_kr0000gn/T/ipykernel_27402/424998281.py:144: FutureWarning: The frame.append method is deprecated and will be removed from pandas in a future version. Use pandas.concat instead.\n",
      "  result_df = result_df.append(sub_df, ignore_index=True)\n"
     ]
    },
    {
     "name": "stdout",
     "output_type": "stream",
     "text": [
      "  ** [llm] contact 정보 & products 추출\n",
      "    {\n",
      "        \"contact\": {\n",
      "            \"email\": null,\n",
      "            \"phone\": null,\n",
      "            \"fax\": null,\n",
      "            \"address\": null\n",
      "        }\n",
      "    }\n",
      "  ** [sub page] 조회 - https://acmonterreal.com/en/marca/mundial-en/\n"
     ]
    },
    {
     "name": "stderr",
     "output_type": "stream",
     "text": [
      "/var/folders/wx/91r7nlnj64q2ql80lp6d9_kr0000gn/T/ipykernel_27402/424998281.py:144: FutureWarning: The frame.append method is deprecated and will be removed from pandas in a future version. Use pandas.concat instead.\n",
      "  result_df = result_df.append(sub_df, ignore_index=True)\n"
     ]
    },
    {
     "name": "stdout",
     "output_type": "stream",
     "text": [
      "  ** [llm] contact 정보 & products 추출\n",
      "    {\n",
      "        \"contact\": {\n",
      "            \"email\": null,\n",
      "            \"phone\": null,\n",
      "            \"fax\": null,\n",
      "            \"address\": null\n",
      "        }\n",
      "    }\n",
      "  ** [sub page] 조회 - https://acmonterreal.com/en/marca/private-label/\n"
     ]
    },
    {
     "name": "stderr",
     "output_type": "stream",
     "text": [
      "/var/folders/wx/91r7nlnj64q2ql80lp6d9_kr0000gn/T/ipykernel_27402/424998281.py:144: FutureWarning: The frame.append method is deprecated and will be removed from pandas in a future version. Use pandas.concat instead.\n",
      "  result_df = result_df.append(sub_df, ignore_index=True)\n"
     ]
    },
    {
     "name": "stdout",
     "output_type": "stream",
     "text": [
      "  ** [llm] contact 정보 & products 추출\n",
      "    {\n",
      "        \"contact\": {\n",
      "            \"email\": null,\n",
      "            \"phone\": null,\n",
      "            \"fax\": null,\n",
      "            \"address\": null\n",
      "        }\n",
      "    }\n",
      "  ** [sub page] 조회 - https://acmonterreal.com/en/legal-warning/\n"
     ]
    },
    {
     "name": "stderr",
     "output_type": "stream",
     "text": [
      "/var/folders/wx/91r7nlnj64q2ql80lp6d9_kr0000gn/T/ipykernel_27402/424998281.py:144: FutureWarning: The frame.append method is deprecated and will be removed from pandas in a future version. Use pandas.concat instead.\n",
      "  result_df = result_df.append(sub_df, ignore_index=True)\n"
     ]
    },
    {
     "name": "stdout",
     "output_type": "stream",
     "text": [
      "  ** [llm] contact 정보 & products 추출\n",
      "    {\n",
      "        \"contact\": {\n",
      "            \"email\": \"ecoba@oleomonterreal.es\",\n",
      "            \"phone\": \"+34 957 17 60 00\",\n",
      "            \"fax\": null,\n",
      "            \"address\": \"Avd. Rafael Castro S/N 14640 Villa del R\\u00edo, C\\u00f3rdoba (Spain)\"\n",
      "        }\n",
      "    }\n",
      "** [main page] 조회 - https://www.arkof.id\n"
     ]
    },
    {
     "name": "stderr",
     "output_type": "stream",
     "text": [
      "/var/folders/wx/91r7nlnj64q2ql80lp6d9_kr0000gn/T/ipykernel_27402/424998281.py:144: FutureWarning: The frame.append method is deprecated and will be removed from pandas in a future version. Use pandas.concat instead.\n",
      "  result_df = result_df.append(sub_df, ignore_index=True)\n",
      "/var/folders/wx/91r7nlnj64q2ql80lp6d9_kr0000gn/T/ipykernel_27402/1293433820.py:16: FutureWarning: The frame.append method is deprecated and will be removed from pandas in a future version. Use pandas.concat instead.\n",
      "  result_total_df = result_total_df.append(sub_result, ignore_index=True)\n"
     ]
    },
    {
     "name": "stdout",
     "output_type": "stream",
     "text": [
      "  ** [llm] contact 정보 & products 추출\n",
      "    {\n",
      "        \"contact\": {\n",
      "            \"email\": null,\n",
      "            \"phone\": null,\n",
      "            \"fax\": null,\n",
      "            \"address\": null\n",
      "        }\n",
      "    }\n",
      "  ** a tag 추출\n",
      "  ** [llm] 회사 정보와 관련있는 a tag 선별\n"
     ]
    },
    {
     "name": "stderr",
     "output_type": "stream",
     "text": [
      "/var/folders/wx/91r7nlnj64q2ql80lp6d9_kr0000gn/T/ipykernel_27402/424998281.py:108: FutureWarning: The frame.append method is deprecated and will be removed from pandas in a future version. Use pandas.concat instead.\n",
      "  result_df = result_df.append(sub_df, ignore_index=True)\n"
     ]
    },
    {
     "name": "stdout",
     "output_type": "stream",
     "text": [
      "    ['https://www.arkof.id/contact-us/', 'https://www.arkof.id/products/arcrema/', 'https://www.arkof.id/products/arfoamer/', 'https://www.arkof.id/products/arkoffie/']\n",
      "  ** [sub page] 조회 - https://www.arkof.id/contact-us/\n",
      "  ** [llm] contact 정보 & products 추출\n",
      "    {\n",
      "        \"email\": \"info@arkof.id\",\n",
      "        \"phone\": \"+62.24.76450088\",\n",
      "        \"fax\": null,\n",
      "        \"address\": \"Jl. Raya Semarang-Demak KM 12, Sayung,\\nDemak 59563\\nCentral Java, INDONESIA\"\n",
      "    }\n",
      "** [main page] 조회 - https://abaliyag.com/en\n"
     ]
    },
    {
     "name": "stderr",
     "output_type": "stream",
     "text": [
      "/var/folders/wx/91r7nlnj64q2ql80lp6d9_kr0000gn/T/ipykernel_27402/424998281.py:144: FutureWarning: The frame.append method is deprecated and will be removed from pandas in a future version. Use pandas.concat instead.\n",
      "  result_df = result_df.append(sub_df, ignore_index=True)\n",
      "/var/folders/wx/91r7nlnj64q2ql80lp6d9_kr0000gn/T/ipykernel_27402/1293433820.py:16: FutureWarning: The frame.append method is deprecated and will be removed from pandas in a future version. Use pandas.concat instead.\n",
      "  result_total_df = result_total_df.append(sub_result, ignore_index=True)\n"
     ]
    },
    {
     "name": "stdout",
     "output_type": "stream",
     "text": [
      "  ** [llm] contact 정보 & products 추출\n",
      "    {\n",
      "        \"contact\": {\n",
      "            \"email\": \"username@example.com\",\n",
      "            \"phone\": \"0123456789\",\n",
      "            \"fax\": \"0123456789\",\n",
      "            \"address\": \"123 Main Street, Anytown, CA 12345\"\n",
      "        }\n",
      "    }\n",
      "** [main page] 조회 - https://ybarra.es/\n"
     ]
    },
    {
     "name": "stderr",
     "output_type": "stream",
     "text": [
      "/var/folders/wx/91r7nlnj64q2ql80lp6d9_kr0000gn/T/ipykernel_27402/424998281.py:108: FutureWarning: The frame.append method is deprecated and will be removed from pandas in a future version. Use pandas.concat instead.\n",
      "  result_df = result_df.append(sub_df, ignore_index=True)\n",
      "/var/folders/wx/91r7nlnj64q2ql80lp6d9_kr0000gn/T/ipykernel_27402/1293433820.py:16: FutureWarning: The frame.append method is deprecated and will be removed from pandas in a future version. Use pandas.concat instead.\n",
      "  result_total_df = result_total_df.append(sub_result, ignore_index=True)\n"
     ]
    },
    {
     "name": "stdout",
     "output_type": "stream",
     "text": [
      "  ** [llm] contact 정보 & products 추출\n",
      "    {\n",
      "        \"contact\": {\n",
      "            \"email\": null,\n",
      "            \"phone\": null,\n",
      "            \"fax\": null,\n",
      "            \"address\": null\n",
      "        }\n",
      "    }\n",
      "  ** a tag 추출\n",
      "  ** [llm] 회사 정보와 관련있는 a tag 선별\n"
     ]
    },
    {
     "name": "stderr",
     "output_type": "stream",
     "text": [
      "/var/folders/wx/91r7nlnj64q2ql80lp6d9_kr0000gn/T/ipykernel_27402/424998281.py:108: FutureWarning: The frame.append method is deprecated and will be removed from pandas in a future version. Use pandas.concat instead.\n",
      "  result_df = result_df.append(sub_df, ignore_index=True)\n"
     ]
    },
    {
     "name": "stdout",
     "output_type": "stream",
     "text": [
      "    ['https://ybarra.es/atencion-al-consumidor/', 'https://ybarra.es/politica-de-privacidad/']\n",
      "  ** [sub page] 조회 - https://ybarra.es/atencion-al-consumidor/\n",
      "  ** [llm] contact 정보 & products 추출\n",
      "    {\n",
      "        \"contact\": {\n",
      "            \"email\": null,\n",
      "            \"phone\": [\n",
      "                \"900 905 342\",\n",
      "                \"955 675 060\"\n",
      "            ],\n",
      "            \"fax\": null,\n",
      "            \"address\": null\n",
      "        }\n",
      "    }\n",
      "  ** [sub page] 조회 - https://ybarra.es/politica-de-privacidad/\n"
     ]
    },
    {
     "name": "stderr",
     "output_type": "stream",
     "text": [
      "/var/folders/wx/91r7nlnj64q2ql80lp6d9_kr0000gn/T/ipykernel_27402/424998281.py:144: FutureWarning: The frame.append method is deprecated and will be removed from pandas in a future version. Use pandas.concat instead.\n",
      "  result_df = result_df.append(sub_df, ignore_index=True)\n"
     ]
    },
    {
     "name": "stdout",
     "output_type": "stream",
     "text": [
      "  ** [llm] contact 정보 & products 추출\n",
      "    {\n",
      "        \"contact\": {\n",
      "            \"email\": \"lopd@ybarra.es\",\n",
      "            \"phone\": null,\n",
      "            \"fax\": null,\n",
      "            \"address\": \"Avenida Rafael Ybarra, 1, 41703, Dos Hermanas, Sevilla (Espa\\u00f1a)\"\n",
      "        }\n",
      "    }\n",
      "** [main page] 조회 - http://aegangroup.com https://aegangroup.com\n"
     ]
    },
    {
     "name": "stderr",
     "output_type": "stream",
     "text": [
      "/var/folders/wx/91r7nlnj64q2ql80lp6d9_kr0000gn/T/ipykernel_27402/424998281.py:144: FutureWarning: The frame.append method is deprecated and will be removed from pandas in a future version. Use pandas.concat instead.\n",
      "  result_df = result_df.append(sub_df, ignore_index=True)\n",
      "/var/folders/wx/91r7nlnj64q2ql80lp6d9_kr0000gn/T/ipykernel_27402/1293433820.py:16: FutureWarning: The frame.append method is deprecated and will be removed from pandas in a future version. Use pandas.concat instead.\n",
      "  result_total_df = result_total_df.append(sub_result, ignore_index=True)\n"
     ]
    },
    {
     "name": "stdout",
     "output_type": "stream",
     "text": [
      "    [500] : 조회 실패\n",
      "** [main page] 조회 - https://aceitesabril.com/\n",
      "  ** [llm] contact 정보 & products 추출\n",
      "    {\n",
      "        \"contact\": {\n",
      "            \"email\": null,\n",
      "            \"phone\": null,\n",
      "            \"fax\": null,\n",
      "            \"address\": null\n",
      "        }\n",
      "    }\n",
      "  ** a tag 추출\n",
      "  ** [llm] 회사 정보와 관련있는 a tag 선별\n"
     ]
    },
    {
     "name": "stderr",
     "output_type": "stream",
     "text": [
      "/var/folders/wx/91r7nlnj64q2ql80lp6d9_kr0000gn/T/ipykernel_27402/424998281.py:108: FutureWarning: The frame.append method is deprecated and will be removed from pandas in a future version. Use pandas.concat instead.\n",
      "  result_df = result_df.append(sub_df, ignore_index=True)\n"
     ]
    },
    {
     "name": "stdout",
     "output_type": "stream",
     "text": [
      "    ['https://aceitesabril.com/contacto/', 'https://aceitesabril.com/base-de-oro/', 'https://aceitesabril.com/colleita-propia/', 'https://aceitesabril.com/cultura-formacion-aceite/', 'https://aceitesabril.com/aceites-del-dia-a-dia/', 'https://aceitesabril.com/aceite-aovex/', 'https://aceitesabril.com/aceite-gourmet/']\n",
      "  ** [sub page] 조회 - https://aceitesabril.com/contacto/\n",
      "    [404] : 조회 실패\n",
      "  ** [sub page] 조회 - https://aceitesabril.com/base-de-oro/\n",
      "  ** [llm] contact 정보 & products 추출\n",
      "    {\n",
      "        \"contact\": {\n",
      "            \"email\": null,\n",
      "            \"phone\": null,\n",
      "            \"fax\": null,\n",
      "            \"address\": null\n",
      "        }\n",
      "    }\n",
      "  ** [sub page] 조회 - https://aceitesabril.com/colleita-propia/\n"
     ]
    },
    {
     "name": "stderr",
     "output_type": "stream",
     "text": [
      "/var/folders/wx/91r7nlnj64q2ql80lp6d9_kr0000gn/T/ipykernel_27402/424998281.py:144: FutureWarning: The frame.append method is deprecated and will be removed from pandas in a future version. Use pandas.concat instead.\n",
      "  result_df = result_df.append(sub_df, ignore_index=True)\n"
     ]
    },
    {
     "name": "stdout",
     "output_type": "stream",
     "text": [
      "  ** [llm] contact 정보 & products 추출\n",
      "    {\n",
      "        \"contact\": {\n",
      "            \"email\": null,\n",
      "            \"phone\": null,\n",
      "            \"fax\": null,\n",
      "            \"address\": null\n",
      "        }\n",
      "    }\n",
      "  ** [sub page] 조회 - https://aceitesabril.com/cultura-formacion-aceite/\n"
     ]
    },
    {
     "name": "stderr",
     "output_type": "stream",
     "text": [
      "/var/folders/wx/91r7nlnj64q2ql80lp6d9_kr0000gn/T/ipykernel_27402/424998281.py:144: FutureWarning: The frame.append method is deprecated and will be removed from pandas in a future version. Use pandas.concat instead.\n",
      "  result_df = result_df.append(sub_df, ignore_index=True)\n"
     ]
    },
    {
     "name": "stdout",
     "output_type": "stream",
     "text": [
      "  ** [llm] contact 정보 & products 추출\n",
      "    {\n",
      "        \"contact\": {\n",
      "            \"email\": null,\n",
      "            \"phone\": null,\n",
      "            \"fax\": null,\n",
      "            \"address\": null\n",
      "        }\n",
      "    }\n",
      "  ** [sub page] 조회 - https://aceitesabril.com/aceites-del-dia-a-dia/\n"
     ]
    },
    {
     "name": "stderr",
     "output_type": "stream",
     "text": [
      "/var/folders/wx/91r7nlnj64q2ql80lp6d9_kr0000gn/T/ipykernel_27402/424998281.py:144: FutureWarning: The frame.append method is deprecated and will be removed from pandas in a future version. Use pandas.concat instead.\n",
      "  result_df = result_df.append(sub_df, ignore_index=True)\n"
     ]
    },
    {
     "name": "stdout",
     "output_type": "stream",
     "text": [
      "  ** [llm] contact 정보 & products 추출\n",
      "    {\n",
      "        \"contact\": {\n",
      "            \"email\": null,\n",
      "            \"phone\": null,\n",
      "            \"fax\": null,\n",
      "            \"address\": null\n",
      "        }\n",
      "    }\n",
      "  ** [sub page] 조회 - https://aceitesabril.com/aceite-aovex/\n"
     ]
    },
    {
     "name": "stderr",
     "output_type": "stream",
     "text": [
      "/var/folders/wx/91r7nlnj64q2ql80lp6d9_kr0000gn/T/ipykernel_27402/424998281.py:144: FutureWarning: The frame.append method is deprecated and will be removed from pandas in a future version. Use pandas.concat instead.\n",
      "  result_df = result_df.append(sub_df, ignore_index=True)\n"
     ]
    },
    {
     "name": "stdout",
     "output_type": "stream",
     "text": [
      "  ** [llm] contact 정보 & products 추출\n",
      "    {\n",
      "        \"contact\": {\n",
      "            \"email\": null,\n",
      "            \"phone\": null,\n",
      "            \"fax\": null,\n",
      "            \"address\": null\n",
      "        }\n",
      "    }\n",
      "  ** [sub page] 조회 - https://aceitesabril.com/aceite-gourmet/\n"
     ]
    },
    {
     "name": "stderr",
     "output_type": "stream",
     "text": [
      "/var/folders/wx/91r7nlnj64q2ql80lp6d9_kr0000gn/T/ipykernel_27402/424998281.py:144: FutureWarning: The frame.append method is deprecated and will be removed from pandas in a future version. Use pandas.concat instead.\n",
      "  result_df = result_df.append(sub_df, ignore_index=True)\n"
     ]
    },
    {
     "name": "stdout",
     "output_type": "stream",
     "text": [
      "  ** [llm] contact 정보 & products 추출\n",
      "    {\n",
      "        \"contact\": {\n",
      "            \"email\": null,\n",
      "            \"phone\": null,\n",
      "            \"fax\": null,\n",
      "            \"address\": null\n",
      "        }\n",
      "    }\n",
      "** [main page] 조회 - https://arabindia.com/\n"
     ]
    },
    {
     "name": "stderr",
     "output_type": "stream",
     "text": [
      "/var/folders/wx/91r7nlnj64q2ql80lp6d9_kr0000gn/T/ipykernel_27402/424998281.py:144: FutureWarning: The frame.append method is deprecated and will be removed from pandas in a future version. Use pandas.concat instead.\n",
      "  result_df = result_df.append(sub_df, ignore_index=True)\n",
      "/var/folders/wx/91r7nlnj64q2ql80lp6d9_kr0000gn/T/ipykernel_27402/1293433820.py:16: FutureWarning: The frame.append method is deprecated and will be removed from pandas in a future version. Use pandas.concat instead.\n",
      "  result_total_df = result_total_df.append(sub_result, ignore_index=True)\n"
     ]
    },
    {
     "name": "stdout",
     "output_type": "stream",
     "text": [
      "    [500] : 조회 실패\n",
      "** [main page] 조회 - https://www.medoil.com.tn/en\n",
      "    [500] : 조회 실패\n",
      "** [main page] 조회 - https://www.icex.es\n",
      "  ** [llm] contact 정보 & products 추출\n",
      "    {\n",
      "        \"contact\": {\n",
      "            \"email\": null,\n",
      "            \"phone\": \"(+34) 913 497 100\",\n",
      "            \"fax\": null,\n",
      "            \"address\": null\n",
      "        }\n",
      "    }\n",
      "  ** a tag 추출\n",
      "  ** [llm] 회사 정보와 관련있는 a tag 선별\n"
     ]
    },
    {
     "name": "stderr",
     "output_type": "stream",
     "text": [
      "/var/folders/wx/91r7nlnj64q2ql80lp6d9_kr0000gn/T/ipykernel_27402/424998281.py:108: FutureWarning: The frame.append method is deprecated and will be removed from pandas in a future version. Use pandas.concat instead.\n",
      "  result_df = result_df.append(sub_df, ignore_index=True)\n"
     ]
    },
    {
     "name": "stdout",
     "output_type": "stream",
     "text": [
      "    ['https://www.icex.es/es/quienes-somos/sala-de-prensa/sala-de-prensa/detalle.AniversarioODS.news000202309', 'https://www.icex.es/es/quienes-somos/sala-de-prensa/sala-de-prensa']\n",
      "  ** [sub page] 조회 - https://www.icex.es/es/quienes-somos/sala-de-prensa/sala-de-prensa/detalle.AniversarioODS.news000202309\n",
      "  ** [llm] contact 정보 & products 추출\n",
      "    {\n",
      "        \"contact\": {\n",
      "            \"email\": null,\n",
      "            \"phone\": \"(+34) 913 497 100\",\n",
      "            \"fax\": null,\n",
      "            \"address\": null\n",
      "        }\n",
      "    }\n",
      "  ** [sub page] 조회 - https://www.icex.es/es/quienes-somos/sala-de-prensa/sala-de-prensa\n"
     ]
    },
    {
     "name": "stderr",
     "output_type": "stream",
     "text": [
      "/var/folders/wx/91r7nlnj64q2ql80lp6d9_kr0000gn/T/ipykernel_27402/424998281.py:144: FutureWarning: The frame.append method is deprecated and will be removed from pandas in a future version. Use pandas.concat instead.\n",
      "  result_df = result_df.append(sub_df, ignore_index=True)\n"
     ]
    },
    {
     "name": "stdout",
     "output_type": "stream",
     "text": [
      "  ** [llm] contact 정보 & products 추출\n",
      "    {\n",
      "        \"contact\": {\n",
      "            \"email\": null,\n",
      "            \"phone\": \"(+34) 913 497 100\",\n",
      "            \"fax\": null,\n",
      "            \"address\": null\n",
      "        }\n",
      "    }\n",
      "** [main page] 조회 - https://bunge.com\n"
     ]
    },
    {
     "name": "stderr",
     "output_type": "stream",
     "text": [
      "/var/folders/wx/91r7nlnj64q2ql80lp6d9_kr0000gn/T/ipykernel_27402/424998281.py:144: FutureWarning: The frame.append method is deprecated and will be removed from pandas in a future version. Use pandas.concat instead.\n",
      "  result_df = result_df.append(sub_df, ignore_index=True)\n",
      "/var/folders/wx/91r7nlnj64q2ql80lp6d9_kr0000gn/T/ipykernel_27402/1293433820.py:16: FutureWarning: The frame.append method is deprecated and will be removed from pandas in a future version. Use pandas.concat instead.\n",
      "  result_total_df = result_total_df.append(sub_result, ignore_index=True)\n"
     ]
    },
    {
     "name": "stdout",
     "output_type": "stream",
     "text": [
      "    ** page 조회 - retry\n",
      "    [403] : 조회 실패\n",
      "** [main page] 조회 - https://www.altas.com.tr/\n",
      "  ** [llm] contact 정보 & products 추출\n",
      "    {\n",
      "        \"email\": null,\n",
      "        \"phone\": null,\n",
      "        \"fax\": null,\n",
      "        \"address\": null\n",
      "    }\n",
      "  ** a tag 추출\n",
      "  ** [llm] 회사 정보와 관련있는 a tag 선별\n"
     ]
    },
    {
     "name": "stderr",
     "output_type": "stream",
     "text": [
      "/var/folders/wx/91r7nlnj64q2ql80lp6d9_kr0000gn/T/ipykernel_27402/424998281.py:108: FutureWarning: The frame.append method is deprecated and will be removed from pandas in a future version. Use pandas.concat instead.\n",
      "  result_df = result_df.append(sub_df, ignore_index=True)\n"
     ]
    },
    {
     "name": "stdout",
     "output_type": "stream",
     "text": [
      "    ['https://www.altas.com.tr/iletisim', 'https://www.altas.com.tr/yatirim/altas-yag', 'https://www.altas.com.tr/yatirim/altas-insaat', 'https://www.altas.com.tr/yatirim/altas-otomotiv', 'https://www.altas.com.tr/yatirim/altas-egitim', 'https://www.altas.com.tr/yatirim/altas-medya', 'https://www.altas.com.tr/yatirim/altas-balik']\n",
      "  ** [sub page] 조회 - https://www.altas.com.tr/iletisim\n",
      "  ** [llm] contact 정보 & products 추출\n",
      "    {\n",
      "        \"email\": \"info@altas.com.tr\",\n",
      "        \"phone\": \"0452 777 1 777\",\n",
      "        \"fax\": \"0452 777 1 777\",\n",
      "        \"address\": \"Durug\\u00f6l Mh. Soya Cd. No:150 Merkez / Ordu - T\\u00dcRK\\u0130YE\"\n",
      "    }\n",
      "** [main page] 조회 - https://moicommodities.com/\n"
     ]
    },
    {
     "name": "stderr",
     "output_type": "stream",
     "text": [
      "/var/folders/wx/91r7nlnj64q2ql80lp6d9_kr0000gn/T/ipykernel_27402/424998281.py:144: FutureWarning: The frame.append method is deprecated and will be removed from pandas in a future version. Use pandas.concat instead.\n",
      "  result_df = result_df.append(sub_df, ignore_index=True)\n",
      "/var/folders/wx/91r7nlnj64q2ql80lp6d9_kr0000gn/T/ipykernel_27402/1293433820.py:16: FutureWarning: The frame.append method is deprecated and will be removed from pandas in a future version. Use pandas.concat instead.\n",
      "  result_total_df = result_total_df.append(sub_result, ignore_index=True)\n"
     ]
    },
    {
     "name": "stdout",
     "output_type": "stream",
     "text": [
      "  ** [llm] contact 정보 & products 추출\n",
      "    {\n",
      "        \"contact\": {\n",
      "            \"email\": null,\n",
      "            \"phone\": null,\n",
      "            \"fax\": null,\n",
      "            \"address\": null\n",
      "        }\n",
      "    }\n",
      "  ** a tag 추출\n",
      "  ** [llm] 회사 정보와 관련있는 a tag 선별\n"
     ]
    },
    {
     "name": "stderr",
     "output_type": "stream",
     "text": [
      "/var/folders/wx/91r7nlnj64q2ql80lp6d9_kr0000gn/T/ipykernel_27402/424998281.py:108: FutureWarning: The frame.append method is deprecated and will be removed from pandas in a future version. Use pandas.concat instead.\n",
      "  result_df = result_df.append(sub_df, ignore_index=True)\n"
     ]
    },
    {
     "name": "stdout",
     "output_type": "stream",
     "text": [
      "    ['https://moicommodities.com/moi-commodities', 'https://moicommodities.com/mewah-group']\n",
      "  ** [sub page] 조회 - https://moicommodities.com/moi-commodities\n",
      "  ** [llm] contact 정보 & products 추출\n",
      "    {\n",
      "        \"contact\": {\n",
      "            \"email\": null,\n",
      "            \"phone\": null,\n",
      "            \"fax\": null,\n",
      "            \"address\": null\n",
      "        }\n",
      "    }\n",
      "  ** [sub page] 조회 - https://moicommodities.com/mewah-group\n"
     ]
    },
    {
     "name": "stderr",
     "output_type": "stream",
     "text": [
      "/var/folders/wx/91r7nlnj64q2ql80lp6d9_kr0000gn/T/ipykernel_27402/424998281.py:144: FutureWarning: The frame.append method is deprecated and will be removed from pandas in a future version. Use pandas.concat instead.\n",
      "  result_df = result_df.append(sub_df, ignore_index=True)\n"
     ]
    },
    {
     "name": "stdout",
     "output_type": "stream",
     "text": [
      "  ** [llm] contact 정보 & products 추출\n",
      "    {\n",
      "        \"contact\": {\n",
      "            \"email\": null,\n",
      "            \"phone\": null,\n",
      "            \"fax\": null,\n",
      "            \"address\": null\n",
      "        }\n",
      "    }\n",
      "** [main page] 조회 - https://www.ajinomoto.com.tr/\n"
     ]
    },
    {
     "name": "stderr",
     "output_type": "stream",
     "text": [
      "/var/folders/wx/91r7nlnj64q2ql80lp6d9_kr0000gn/T/ipykernel_27402/424998281.py:144: FutureWarning: The frame.append method is deprecated and will be removed from pandas in a future version. Use pandas.concat instead.\n",
      "  result_df = result_df.append(sub_df, ignore_index=True)\n",
      "/var/folders/wx/91r7nlnj64q2ql80lp6d9_kr0000gn/T/ipykernel_27402/1293433820.py:16: FutureWarning: The frame.append method is deprecated and will be removed from pandas in a future version. Use pandas.concat instead.\n",
      "  result_total_df = result_total_df.append(sub_result, ignore_index=True)\n"
     ]
    },
    {
     "name": "stdout",
     "output_type": "stream",
     "text": [
      "  ** [llm] contact 정보 & products 추출\n",
      "    {\n",
      "        \"email\": null,\n",
      "        \"phone\": null,\n",
      "        \"fax\": null,\n",
      "        \"address\": null\n",
      "    }\n",
      "  ** a tag 추출\n",
      "  ** [llm] 회사 정보와 관련있는 a tag 선별\n"
     ]
    },
    {
     "name": "stderr",
     "output_type": "stream",
     "text": [
      "/var/folders/wx/91r7nlnj64q2ql80lp6d9_kr0000gn/T/ipykernel_27402/424998281.py:108: FutureWarning: The frame.append method is deprecated and will be removed from pandas in a future version. Use pandas.concat instead.\n",
      "  result_df = result_df.append(sub_df, ignore_index=True)\n"
     ]
    },
    {
     "name": "stdout",
     "output_type": "stream",
     "text": [
      "    ['https://www.ajinomoto.com.tr/iletisim/', 'https://www.ajinomoto.com.tr/amino-asitlerin-sirri/', 'https://www.ajinomoto.com.tr/amino-asitlerin-gucu/']\n",
      "  ** [sub page] 조회 - https://www.ajinomoto.com.tr/iletisim/\n",
      "  ** [llm] contact 정보 & products 추출\n",
      "    {\n",
      "        \"email\": null,\n",
      "        \"phone\": [\n",
      "            \"+90 (232) 236 76 00\",\n",
      "            \"+90 (222) 413 22 83\"\n",
      "        ],\n",
      "        \"fax\": [\n",
      "            \"+90 232 236 73 50\",\n",
      "            \"+90 (222) 413 22 87\"\n",
      "        ],\n",
      "        \"address\": [\n",
      "            \"Maslak Mahallesi, AOS 55. Sokak, 42 Maslak B Blok sit. No:4 / 585 Sar\\u0131yer \\u2013 \\u0130stanbul\",\n",
      "            \"\\u00c7aml\\u0131 Mah. Seferihisar Cad. No:171 PK 35310 G\\u00dcZELBAH\\u00c7E / \\u0130ZM\\u0130R\",\n",
      "            \"K\\u00fctahya Yolu, 17. km Y\\u00f6r\\u00fck, Ak\\u00e7ay\\u0131r / ESK\\u0130\\u015eEH\\u0130R\"\n",
      "        ]\n",
      "    }\n",
      "  ** [sub page] 조회 - https://www.ajinomoto.com.tr/amino-asitlerin-sirri/\n"
     ]
    },
    {
     "name": "stderr",
     "output_type": "stream",
     "text": [
      "/var/folders/wx/91r7nlnj64q2ql80lp6d9_kr0000gn/T/ipykernel_27402/424998281.py:144: FutureWarning: The frame.append method is deprecated and will be removed from pandas in a future version. Use pandas.concat instead.\n",
      "  result_df = result_df.append(sub_df, ignore_index=True)\n"
     ]
    },
    {
     "name": "stdout",
     "output_type": "stream",
     "text": [
      "  ** [llm] contact 정보 & products 추출\n",
      "    {\n",
      "        \"contact\": {\n",
      "            \"email\": null,\n",
      "            \"phone\": null,\n",
      "            \"fax\": null,\n",
      "            \"address\": null\n",
      "        }\n",
      "    }\n",
      "  ** [sub page] 조회 - https://www.ajinomoto.com.tr/amino-asitlerin-gucu/\n"
     ]
    },
    {
     "name": "stderr",
     "output_type": "stream",
     "text": [
      "/var/folders/wx/91r7nlnj64q2ql80lp6d9_kr0000gn/T/ipykernel_27402/424998281.py:144: FutureWarning: The frame.append method is deprecated and will be removed from pandas in a future version. Use pandas.concat instead.\n",
      "  result_df = result_df.append(sub_df, ignore_index=True)\n"
     ]
    },
    {
     "name": "stdout",
     "output_type": "stream",
     "text": [
      "  ** [llm] contact 정보 & products 추출\n",
      "    {\n",
      "        \"contact\": {\n",
      "            \"email\": null,\n",
      "            \"phone\": null,\n",
      "            \"fax\": null,\n",
      "            \"address\": null\n",
      "        }\n",
      "    }\n",
      "** [main page] 조회 - http://www.palmtopvegeoil.com.my\n"
     ]
    },
    {
     "name": "stderr",
     "output_type": "stream",
     "text": [
      "/var/folders/wx/91r7nlnj64q2ql80lp6d9_kr0000gn/T/ipykernel_27402/424998281.py:144: FutureWarning: The frame.append method is deprecated and will be removed from pandas in a future version. Use pandas.concat instead.\n",
      "  result_df = result_df.append(sub_df, ignore_index=True)\n",
      "/var/folders/wx/91r7nlnj64q2ql80lp6d9_kr0000gn/T/ipykernel_27402/1293433820.py:16: FutureWarning: The frame.append method is deprecated and will be removed from pandas in a future version. Use pandas.concat instead.\n",
      "  result_total_df = result_total_df.append(sub_result, ignore_index=True)\n"
     ]
    },
    {
     "name": "stdout",
     "output_type": "stream",
     "text": [
      "  ** [llm] contact 정보 & products 추출\n",
      "    {\n",
      "        \"contact\": {\n",
      "            \"email\": null,\n",
      "            \"phone\": null,\n",
      "            \"fax\": null,\n",
      "            \"address\": null\n",
      "        }\n",
      "    }\n",
      "  ** a tag 추출\n",
      "    [empty]\n",
      "** [main page] 조회 - https://www.zade.com.tr/\n"
     ]
    },
    {
     "name": "stderr",
     "output_type": "stream",
     "text": [
      "/var/folders/wx/91r7nlnj64q2ql80lp6d9_kr0000gn/T/ipykernel_27402/424998281.py:108: FutureWarning: The frame.append method is deprecated and will be removed from pandas in a future version. Use pandas.concat instead.\n",
      "  result_df = result_df.append(sub_df, ignore_index=True)\n",
      "/var/folders/wx/91r7nlnj64q2ql80lp6d9_kr0000gn/T/ipykernel_27402/1293433820.py:16: FutureWarning: The frame.append method is deprecated and will be removed from pandas in a future version. Use pandas.concat instead.\n",
      "  result_total_df = result_total_df.append(sub_result, ignore_index=True)\n"
     ]
    },
    {
     "name": "stdout",
     "output_type": "stream",
     "text": [
      "  ** [llm] contact 정보 & products 추출\n",
      "    {\n",
      "        \"email\": null,\n",
      "        \"phone\": null,\n",
      "        \"fax\": null,\n",
      "        \"address\": null\n",
      "    }\n",
      "  ** a tag 추출\n",
      "  ** [llm] 회사 정보와 관련있는 a tag 선별\n"
     ]
    },
    {
     "name": "stderr",
     "output_type": "stream",
     "text": [
      "/var/folders/wx/91r7nlnj64q2ql80lp6d9_kr0000gn/T/ipykernel_27402/424998281.py:108: FutureWarning: The frame.append method is deprecated and will be removed from pandas in a future version. Use pandas.concat instead.\n",
      "  result_df = result_df.append(sub_df, ignore_index=True)\n"
     ]
    },
    {
     "name": "stdout",
     "output_type": "stream",
     "text": [
      "    ['https://www.zade.com.tr/bize-ulasin/', 'https://www.zade.com.tr/urunler/hindistan-cevizi-yagi/', 'https://www.zade.com.tr/urunler/aromali-zeytinyagi/', 'https://www.zade.com.tr/urunler/zeytinyagi/', 'https://www.zade.com.tr/urunler/aycicek-yaglari/', 'https://www.zade.com.tr/urunler/misir-yaglari/', 'https://www.zade.com.tr/urunler/fistik-yagi/', 'https://www.zade.com.tr/urunler/endustriyel-yag/', 'https://www.zade.com.tr/urunler/kanola-yagi/', 'https://www.zade.com.tr/urun/naturel-sizma-zeytinyagi-1lt-pet/', 'https://www.zade.com.tr/urun/naturel-sizma-zeytinyagi-2lt-pet/', 'https://www.zade.com.tr/urun/riviera-zeytinyagi-1-lt-pet/', 'https://www.zade.com.tr/urun/riviera-zeytinyagi-2-lt-pet/', 'https://www.zade.com.tr/urun/biberiye-aromali-naturel-sizma-zeytinyagi-250-ml-cam/', 'https://www.zade.com.tr/urun/limon-feslegen-aromali-naturel-sizma-zeytinyagi-250-ml-cam/', 'https://www.zade.com.tr/urun/nar-feslegen-limon-aromali-naturel-sizma-zeytinyagi-250-ml-cam/', 'https://www.zade.com.tr/urun/sarimsak-biberiye-defne-aromali-naturel-sizma-zeytinyagi-250-ml-cam/']\n",
      "  ** [sub page] 조회 - https://www.zade.com.tr/bize-ulasin/\n",
      "  ** [llm] contact 정보 & products 추출\n",
      "    {\n",
      "        \"email\": [\n",
      "            \"info@zade.com.tr\",\n",
      "            \"export@zade.com.tr\"\n",
      "        ],\n",
      "        \"phone\": [\n",
      "            \"(332) 346 05 20\",\n",
      "            \"(216) 411 00 14\"\n",
      "        ],\n",
      "        \"fax\": [],\n",
      "        \"address\": [\n",
      "            \"B\\u00fcy\\u00fckkayac\\u0131kosb Mah. G\\u00fczelkonak Sokak. No:8\\u00a0Sel\\u00e7uklu/KONYA\",\n",
      "            \"Altunizade Mahallesi K\\u0131s\\u0131kl\\u0131 Caddesi\\u00a0No:35/2 Aksel \\u0130\\u015f Merkezi B Blok Kat:3\\u00a0\\u00dcsk\\u00fcdar/\\u0130STANBUL\"\n",
      "        ]\n",
      "    }\n",
      "** [main page] 조회 - http://agrocorp.com.sg\n"
     ]
    },
    {
     "name": "stderr",
     "output_type": "stream",
     "text": [
      "/var/folders/wx/91r7nlnj64q2ql80lp6d9_kr0000gn/T/ipykernel_27402/424998281.py:144: FutureWarning: The frame.append method is deprecated and will be removed from pandas in a future version. Use pandas.concat instead.\n",
      "  result_df = result_df.append(sub_df, ignore_index=True)\n",
      "/var/folders/wx/91r7nlnj64q2ql80lp6d9_kr0000gn/T/ipykernel_27402/1293433820.py:16: FutureWarning: The frame.append method is deprecated and will be removed from pandas in a future version. Use pandas.concat instead.\n",
      "  result_total_df = result_total_df.append(sub_result, ignore_index=True)\n"
     ]
    },
    {
     "name": "stdout",
     "output_type": "stream",
     "text": [
      "    [500] : 조회 실패\n"
     ]
    }
   ],
   "source": [
    "# result = []\n",
    "# for url in df['홈페이지 주소']:\n",
    "#     if not pd.isnull(url) and not pd.isna(url):\n",
    "#         sub_result = run(url)\n",
    "#         if sub_result:\n",
    "#             result.extend(sub_result)\n",
    "\n",
    "result_total_df = pd.DataFrame(columns=target_column_list)\n",
    "count = 0\n",
    "for url in df['홈페이지 주소']:  # 45\n",
    "    if not pd.isnull(url) and not pd.isna(url):        \n",
    "        is_exists = (mail_df['homepage'] == url).any()\n",
    "        if not is_exists:\n",
    "            sub_result = run(url)\n",
    "            if len(sub_result):\n",
    "                result_total_df = result_total_df.append(sub_result, ignore_index=True)\n",
    "\n"
   ]
  },
  {
   "cell_type": "code",
   "execution_count": 27,
   "metadata": {},
   "outputs": [],
   "source": []
  },
  {
   "cell_type": "code",
   "execution_count": null,
   "metadata": {},
   "outputs": [],
   "source": [
    "import pandas as pd\n",
    "\n",
    "# 제공된 JSON 데이터\n",
    "json_data = result\n",
    "normalized_df = pd.json_normalize(json_data)\n",
    "\n",
    "target_column_list = ['homepage', 'extract_url', 'company_name', 'mail', 'phone', 'address', 'fax', 'products', 'error']\n",
    "total_column_list = list(normalized_df.columns)\n",
    "\n",
    "merged_df = pd.DataFrame(columns=target_column_list)\n",
    "\n",
    "for target_col in target_column_list:\n",
    "    related_cols = [col for col in total_column_list if target_col in col]\n",
    "\n",
    "    def merge_row(row):\n",
    "        merged_data = []\n",
    "        for item in row.dropna():\n",
    "            if isinstance(item, dict):\n",
    "                merged_data.append(json.dumps(item, ensure_ascii=False))\n",
    "            elif isinstance(item, list):\n",
    "                merged_data.extend([str(x) for x in item])\n",
    "            elif not pd.isnull(item):\n",
    "                merged_data.append(item)\n",
    "        if merged_data:\n",
    "            return ';\\n'.join(merged_data)\n",
    "        else:\n",
    "            return ''\n",
    "\n",
    "    if related_cols:\n",
    "        merged_df[target_col] = normalized_df[related_cols].apply(merge_row, axis=1)"
   ]
  },
  {
   "cell_type": "code",
   "execution_count": null,
   "metadata": {},
   "outputs": [],
   "source": [
    "import os\n",
    "file_path = './output/beautifulsoup_sample.csv'\n",
    "merged_df.to_csv(file_path, index=False)\n",
    "\n",
    "# Numbers 애플리케이션으로 CSV 파일 열기\n",
    "os.system(f'open -a Numbers {file_path}')"
   ]
  },
  {
   "cell_type": "markdown",
   "metadata": {},
   "source": [
    "여러개 csv 하나로 합쳐서 확인하기"
   ]
  },
  {
   "cell_type": "code",
   "execution_count": 28,
   "metadata": {},
   "outputs": [
    {
     "name": "stdout",
     "output_type": "stream",
     "text": [
      "./output/gulfood_crawling_20240124_001.csv\n",
      "./output/gulfood_crawling_20240124_002.csv\n",
      "./output/gulfood_crawling_20240124_003.csv\n",
      "./output/gulfood_crawling_20240124_004.csv\n",
      "./output/gulfood_crawling_20240124_005.csv\n"
     ]
    },
    {
     "name": "stderr",
     "output_type": "stream",
     "text": [
      "/var/folders/wx/91r7nlnj64q2ql80lp6d9_kr0000gn/T/ipykernel_27402/2973475628.py:14: FutureWarning: The frame.append method is deprecated and will be removed from pandas in a future version. Use pandas.concat instead.\n",
      "  total_df = total_df.append(partial_df, ignore_index=True)\n",
      "/var/folders/wx/91r7nlnj64q2ql80lp6d9_kr0000gn/T/ipykernel_27402/2973475628.py:14: FutureWarning: The frame.append method is deprecated and will be removed from pandas in a future version. Use pandas.concat instead.\n",
      "  total_df = total_df.append(partial_df, ignore_index=True)\n",
      "/var/folders/wx/91r7nlnj64q2ql80lp6d9_kr0000gn/T/ipykernel_27402/2973475628.py:14: FutureWarning: The frame.append method is deprecated and will be removed from pandas in a future version. Use pandas.concat instead.\n",
      "  total_df = total_df.append(partial_df, ignore_index=True)\n",
      "/var/folders/wx/91r7nlnj64q2ql80lp6d9_kr0000gn/T/ipykernel_27402/2973475628.py:14: FutureWarning: The frame.append method is deprecated and will be removed from pandas in a future version. Use pandas.concat instead.\n",
      "  total_df = total_df.append(partial_df, ignore_index=True)\n"
     ]
    }
   ],
   "source": [
    "import pandas as pd\n",
    "\n",
    "total_df = None\n",
    "total = 0\n",
    "for i in range(1, 6):\n",
    "    file_path = f\"./output/gulfood_crawling_20240124_00{i}.csv\"\n",
    "    print(file_path)\n",
    "    partial_df = pd.read_csv(file_path)\n",
    "    total += partial_df.groupby('homepage').count()\n",
    "\n",
    "    if i == 1:\n",
    "        total_df = partial_df\n",
    "    else:\n",
    "        total_df = total_df.append(partial_df, ignore_index=True)"
   ]
  },
  {
   "cell_type": "code",
   "execution_count": 29,
   "metadata": {},
   "outputs": [],
   "source": [
    "def unique_list(series):\n",
    "    # NaN 값을 제거하고, 중복을 제거한 후 리스트로 변환\n",
    "    return series.dropna().drop_duplicates().tolist()\n",
    "\n",
    "\n",
    "# 'homepage'를 기준으로 그룹화하고 각 컬럼에 unique_list 함수 적용\n",
    "grouped_df = total_df.groupby('homepage').agg(unique_list).reset_index()\n"
   ]
  },
  {
   "cell_type": "code",
   "execution_count": null,
   "metadata": {},
   "outputs": [],
   "source": [
    "def convert_to_string(value):\n",
    "    # 값이 리스트인 경우\n",
    "    if isinstance(value, list):\n",
    "        # 빈 리스트인 경우 None 반환\n",
    "        if not value:\n",
    "            return ''\n",
    "        # 리스트의 요소들을 문자열로 결합\n",
    "        return \";\\n\".join(str(item) for item in value)\n",
    "    # 리스트가 아닌 경우, 값을 그대로 반환\n",
    "    return value\n",
    "\n",
    "# 'homepage' 컬럼을 제외한 모든 컬럼에 대해 함수 적용\n",
    "for col in grouped_df.columns:\n",
    "    if col != 'homepage':\n",
    "        grouped_df[col] = grouped_df[col].apply(convert_to_string)\n",
    "\n",
    "print(grouped_df)\n"
   ]
  },
  {
   "cell_type": "code",
   "execution_count": 30,
   "metadata": {},
   "outputs": [],
   "source": [
    "import pandas as pd\n",
    "\n",
    "# 가정: df는 이미 생성된 DataFrame이며 'mail' 컬럼을 포함하고 있음\n",
    "\n",
    "# 'mail' 컬럼이 빈 리스트인 행만 필터링\n",
    "mail_df = grouped_df[grouped_df['mail'].apply(lambda x: len(x) > 0)]\n",
    "\n"
   ]
  },
  {
   "cell_type": "code",
   "execution_count": null,
   "metadata": {},
   "outputs": [],
   "source": [
    "grouped_df.to_csv('./output/gulfood_20240123_1645.csv')"
   ]
  }
 ],
 "metadata": {
  "kernelspec": {
   "display_name": "crawling",
   "language": "python",
   "name": "python3"
  },
  "language_info": {
   "codemirror_mode": {
    "name": "ipython",
    "version": 3
   },
   "file_extension": ".py",
   "mimetype": "text/x-python",
   "name": "python",
   "nbconvert_exporter": "python",
   "pygments_lexer": "ipython3",
   "version": "3.8.12"
  }
 },
 "nbformat": 4,
 "nbformat_minor": 2
}
