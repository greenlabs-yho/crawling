{
 "cells": [
  {
   "cell_type": "code",
   "execution_count": 1,
   "metadata": {},
   "outputs": [],
   "source": [
    "import pytz\n",
    "from datetime import datetime\n",
    "import re\n",
    "import requests\n",
    "from bs4 import BeautifulSoup\n",
    "import pandas as pd\n",
    "from requests.adapters import HTTPAdapter, Retry\n",
    "\n",
    "requests.adapters.DEFAULT_POOLSIZE = 100\n",
    "retries = Retry(total=20)\n",
    "# 세션을 생성하고 ConnectionPool 크기를 설정\n",
    "session = requests.Session()\n",
    "session.mount('https://', requests.adapters.HTTPAdapter(pool_connections=100, pool_maxsize=100, max_retries=retries))\n"
   ]
  },
  {
   "cell_type": "code",
   "execution_count": 19,
   "metadata": {},
   "outputs": [],
   "source": [
    "import requests\n",
    "import json\n",
    "\n",
    "# 요청 URL\n",
    "url = \"https://w1bghm6ujn-3.algolianet.com/1/indexes/*/queries?x-algolia-agent=Algolia%20for%20JavaScript%20(3.35.1)%3B%20Browser%3B%20instantsearch.js%20(4.62.0)%3B%20Vue%20(2.7.15)%3B%20Vue%20InstantSearch%20(4.13.1)%3B%20JS%20Helper%20(3.16.0)&x-algolia-application-id=W1BGHM6UJN&x-algolia-api-key=8b54f30c2c74c6930f51d8d40ce06b3a\"\n",
    "\n",
    "# 요청 헤더\n",
    "headers = {\n",
    "    \"accept\": \"application/json\",\n",
    "    \"accept-language\": \"ko-KR,ko;q=0.9,en-US;q=0.8,en;q=0.7\",\n",
    "    \"content-type\": \"application/x-www-form-urlencoded\",\n",
    "    \"sec-ch-ua\": \"\\\"Not_A Brand\\\";v=\\\"8\\\", \\\"Chromium\\\";v=\\\"120\\\", \\\"Google Chrome\\\";v=\\\"120\\\"\",\n",
    "    \"sec-ch-ua-mobile\": \"?0\",\n",
    "    \"sec-ch-ua-platform\": \"\\\"macOS\\\"\",\n",
    "    \"sec-fetch-dest\": \"empty\",\n",
    "    \"sec-fetch-mode\": \"cors\",\n",
    "    \"sec-fetch-site\": \"cross-site\",\n",
    "    \"Referer\": \"https://en.salon-agriculture.com/\",\n",
    "    \"Referrer-Policy\": \"strict-origin-when-cross-origin\"\n",
    "}\n",
    "\n",
    "\n",
    "# 0 - 22\n",
    "def api_call(page):\n",
    "    # 요청 본문\n",
    "    data = {\n",
    "        \"requests\": [\n",
    "            {\n",
    "                \"indexName\": \"catalog.prod.salon_agriculture.exhibitors.en\",\n",
    "                \"params\": f\"facets=%5B%22address.country%22%2C%22brands.name%22%2C%22businessArea.categories.lvl0%22%2C%22stands.hall%22%2C%22stands.sector%22%2C%22targets%22%2C%22thematics%22%5D&highlightPostTag=__%2Fais-highlight__&highlightPreTag=__ais-highlight__&maxValuesPerFacet=100&page={page}&query=&tagFilters=\"\n",
    "            }\n",
    "        ]\n",
    "    }\n",
    "\n",
    "    # next_data = {\n",
    "    #     \"requests\":[\n",
    "    #         {\n",
    "    #             \"indexName\":\"catalog.prod.salon_agriculture.exhibitors.en\",\n",
    "    #             \"params\":\"facets=%5B%22address.country%22%2C%22brands.name%22%2C%22businessArea.categories.lvl0%22%2C%22stands.hall%22%2C%22stands.sector%22%2C%22targets%22%2C%22thematics%22%5D&highlightPostTag=__%2Fais-highlight__&highlightPreTag=__ais-highlight__&maxValuesPerFacet=100&page=1&query=&tagFilters=\"\n",
    "    #         }\n",
    "    #     ]\n",
    "    # }\n",
    "\n",
    "    # POST 요청 수행\n",
    "    response = requests.post(url, headers=headers, data=json.dumps(data))\n",
    "\n",
    "    if response.status_code == 200:\n",
    "        # 응답 출력\n",
    "        #print(response.text)\n",
    "        j_data = response.json()\n",
    "    \n",
    "        return j_data\n",
    "    else:\n",
    "        print('  ** error api call :', response)\n",
    "        return None\n",
    "    \n"
   ]
  },
  {
   "cell_type": "code",
   "execution_count": 20,
   "metadata": {},
   "outputs": [],
   "source": [
    "address_parts = ['address_1', 'address_2', 'address_3', 'city', 'state', 'zipcode', 'country']\n",
    "def get_packer_data(j_data):\n",
    "    result_list = []\n",
    "    for item in j_data['results'][0]['hits']:\n",
    "        result = {}\n",
    "\n",
    "        result['name'] = item['name']\n",
    "        result['address'] = ', '.join([item['address'].get(sub_item, '') for sub_item in address_parts if item['address'].get(sub_item)])\n",
    "        result['businessArea'] = '; '.join([sub_item['name'] for sub_item in item.get('businessArea', [])])\n",
    "        result['website'] = item.get('urls', {}).get('website', '')\n",
    "\n",
    "        result_list.append(result)\n",
    "    return result_list\n",
    "\n"
   ]
  },
  {
   "cell_type": "code",
   "execution_count": 22,
   "metadata": {},
   "outputs": [],
   "source": [
    "result_list = []\n",
    "for i in range(0, 23):\n",
    "    j_data = api_call(i)\n",
    "    packer_list = get_packer_data(j_data)\n",
    "\n",
    "    result_list.append(packer_list)"
   ]
  },
  {
   "cell_type": "code",
   "execution_count": 26,
   "metadata": {},
   "outputs": [],
   "source": [
    "total = sum((len(result) for result in result_list))"
   ]
  },
  {
   "cell_type": "code",
   "execution_count": 31,
   "metadata": {},
   "outputs": [],
   "source": [
    "new_result_list = []\n",
    "for result in result_list:\n",
    "    new_result_list.extend(result)\n",
    "\n",
    "import pandas as pd\n",
    "\n",
    "df = pd.DataFrame(new_result_list)\n"
   ]
  },
  {
   "cell_type": "code",
   "execution_count": 33,
   "metadata": {},
   "outputs": [],
   "source": [
    "df.to_csv('./output/salon_agriculture_20240205.csv', index=False, quoting=1)"
   ]
  }
 ],
 "metadata": {
  "kernelspec": {
   "display_name": "crawling",
   "language": "python",
   "name": "python3"
  },
  "language_info": {
   "codemirror_mode": {
    "name": "ipython",
    "version": 3
   },
   "file_extension": ".py",
   "mimetype": "text/x-python",
   "name": "python",
   "nbconvert_exporter": "python",
   "pygments_lexer": "ipython3",
   "version": "3.8.12"
  }
 },
 "nbformat": 4,
 "nbformat_minor": 2
}
