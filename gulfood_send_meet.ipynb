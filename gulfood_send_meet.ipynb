{
 "cells": [
  {
   "cell_type": "code",
   "execution_count": 3,
   "metadata": {},
   "outputs": [],
   "source": [
    "from selenium import webdriver\n",
    "\n",
    "# 웹드라이버 설정 (예: Chrome의 경우)\n",
    "driver = webdriver.Chrome()"
   ]
  },
  {
   "cell_type": "code",
   "execution_count": 4,
   "metadata": {},
   "outputs": [],
   "source": [
    "from selenium.webdriver.common.by import By\n",
    "from selenium.webdriver.support.ui import WebDriverWait\n",
    "from selenium.webdriver.support import expected_conditions as EC\n",
    "from bs4 import BeautifulSoup\n",
    "\n",
    "url = 'https://app.gulfood.com/meet/s/people/'\n",
    "driver.get(url)\n",
    "# wait = WebDriverWait(driver, 10)\n",
    "# search_button = wait.until(EC.element_to_be_clickable((By.ID, 'Search')))"
   ]
  },
  {
   "cell_type": "code",
   "execution_count": 11,
   "metadata": {},
   "outputs": [],
   "source": [
    "\n",
    "\n",
    "\n",
    "message = \"\"\"Hi, I'm Jessi Lee from Greenlabs, an agtech and trading company in Korea for agricultural products (mainly grains, cereals, pulses, flours for food and feed). We are looking to expand our foreign partner suppliers to be able to accommodate our +600 buyers in Korea with their requested products. Would be nice to meet and discuss potential business with you!\"\"\""
   ]
  },
  {
   "cell_type": "code",
   "execution_count": 31,
   "metadata": {},
   "outputs": [
    {
     "name": "stdout",
     "output_type": "stream",
     "text": [
      "Request\n",
      "sent\n",
      "Request\n",
      "sent\n",
      "Request\n",
      "sent\n",
      "Request\n",
      "sent\n",
      "Request\n",
      "sent\n",
      "Request\n",
      "sent\n",
      "Request\n",
      "sent\n",
      "Request\n",
      "sent\n",
      "Request\n",
      "sent\n",
      "Request\n",
      "sent\n",
      "Request\n",
      "sent\n",
      "Request\n",
      "sent\n",
      "Request\n",
      "sent\n",
      "Request\n",
      "sent\n",
      "Request\n",
      "sent\n",
      "Request\n",
      "sent\n",
      "Request\n",
      "sent\n",
      "Request\n",
      "sent\n",
      "Request\n",
      "sent\n",
      "Request\n",
      "sent\n",
      "Request\n",
      "sent\n",
      "Request\n",
      "sent\n"
     ]
    },
    {
     "ename": "KeyboardInterrupt",
     "evalue": "",
     "output_type": "error",
     "traceback": [
      "\u001b[0;31m---------------------------------------------------------------------------\u001b[0m",
      "\u001b[0;31mKeyboardInterrupt\u001b[0m                         Traceback (most recent call last)",
      "Cell \u001b[0;32mIn [31], line 38\u001b[0m\n\u001b[1;32m     35\u001b[0m close \u001b[38;5;241m=\u001b[39m driver\u001b[38;5;241m.\u001b[39mfind_element(By\u001b[38;5;241m.\u001b[39mID, \u001b[38;5;124m\"\u001b[39m\u001b[38;5;124micon_close\u001b[39m\u001b[38;5;124m\"\u001b[39m)\n\u001b[1;32m     36\u001b[0m close\u001b[38;5;241m.\u001b[39mclick()\n\u001b[0;32m---> 38\u001b[0m \u001b[43mtime\u001b[49m\u001b[38;5;241;43m.\u001b[39;49m\u001b[43msleep\u001b[49m\u001b[43m(\u001b[49m\u001b[38;5;241;43m2\u001b[39;49m\u001b[43m)\u001b[49m\n",
      "\u001b[0;31mKeyboardInterrupt\u001b[0m: "
     ]
    }
   ],
   "source": [
    "import time\n",
    "from selenium.common.exceptions import NoSuchElementException, TimeoutException\n",
    "from selenium.webdriver.common.action_chains import ActionChains\n",
    "\n",
    "meet_buttons = driver.find_elements(By.ID, \"pf_meet_btn\")\n",
    "for button in meet_buttons:\n",
    "    if 'Meet' not in button.text:\n",
    "        print(button.text)\n",
    "        continue\n",
    "\n",
    "    #try:\n",
    "    if True:\n",
    "        action = ActionChains(driver)\n",
    "        action.move_to_element(button).perform()\n",
    "        time.sleep(1)  # 필요한 추가 작업 대기 시간\n",
    "        WebDriverWait(driver, 2).until(EC.element_to_be_clickable(button))\n",
    "        button.click()\n",
    "        # 클릭 후의 프로세스 진행\n",
    "        time.sleep(1)  # 필요한 추가 작업 대기 시간\n",
    "        meet_button = driver.find_element(By.ID, \"meet_1\")\n",
    "        meet_button.click()\n",
    "\n",
    "        textarea = driver.find_element(By.ID, \"animatedPM\")\n",
    "        textarea.clear()\n",
    "\n",
    "        # 메시지 입력\n",
    "        textarea.send_keys(message)\n",
    "\n",
    "        time.sleep(0.5)\n",
    "\n",
    "        submit = driver.find_element(By.ID, \"submit_go\")\n",
    "        submit.click()\n",
    "\n",
    "        time.sleep(1)\n",
    "        close = driver.find_element(By.ID, \"icon_close\")\n",
    "        close.click()\n",
    "\n",
    "        time.sleep(2)\n",
    "        \n",
    "\n",
    "    # except TimeoutException:\n",
    "    #     print(\"Button click timeout.\")\n",
    "    # except Exception as e:\n",
    "    #     print(f\"Error clicking button: {e}\")\n",
    "        "
   ]
  },
  {
   "cell_type": "code",
   "execution_count": 28,
   "metadata": {},
   "outputs": [
    {
     "ename": "ElementClickInterceptedException",
     "evalue": "Message: element click intercepted: Element <button id=\"pf_meet_btn\" class=\"btn btn-lg  pf_btn \">...</button> is not clickable at point (442, 37). Other element would receive the click: <a id=\"select_explore_desk\" class=\"option_btn nav-link\" href=\"#\">...</a>\n  (Session info: chrome=121.0.6167.139)\nStacktrace:\n0   chromedriver                        0x00000001047e27dc chromedriver + 4040668\n1   chromedriver                        0x00000001047da9e0 chromedriver + 4008416\n2   chromedriver                        0x000000010444d870 chromedriver + 284784\n3   chromedriver                        0x0000000104496f60 chromedriver + 585568\n4   chromedriver                        0x00000001044953f0 chromedriver + 578544\n5   chromedriver                        0x000000010449345c chromedriver + 570460\n6   chromedriver                        0x000000010449288c chromedriver + 567436\n7   chromedriver                        0x00000001044874b8 chromedriver + 521400\n8   chromedriver                        0x0000000104486ee8 chromedriver + 519912\n9   chromedriver                        0x00000001044cb048 chromedriver + 798792\n10  chromedriver                        0x000000010448574c chromedriver + 513868\n11  chromedriver                        0x0000000104486044 chromedriver + 516164\n12  chromedriver                        0x00000001047a7a04 chromedriver + 3799556\n13  chromedriver                        0x00000001047abee4 chromedriver + 3817188\n14  chromedriver                        0x0000000104790260 chromedriver + 3703392\n15  chromedriver                        0x00000001047aca2c chromedriver + 3820076\n16  chromedriver                        0x000000010478301c chromedriver + 3649564\n17  chromedriver                        0x00000001047c9e3c chromedriver + 3939900\n18  chromedriver                        0x00000001047c9fb4 chromedriver + 3940276\n19  chromedriver                        0x00000001047da660 chromedriver + 4007520\n20  libsystem_pthread.dylib             0x0000000181101034 _pthread_start + 136\n21  libsystem_pthread.dylib             0x00000001810fbe3c thread_start + 8\n",
     "output_type": "error",
     "traceback": [
      "\u001b[0;31m---------------------------------------------------------------------------\u001b[0m",
      "\u001b[0;31mElementClickInterceptedException\u001b[0m          Traceback (most recent call last)",
      "Cell \u001b[0;32mIn [28], line 8\u001b[0m\n\u001b[1;32m      6\u001b[0m \u001b[38;5;66;03m# 조건에 맞는 요소가 있을 경우 클릭\u001b[39;00m\n\u001b[1;32m      7\u001b[0m \u001b[38;5;28;01mif\u001b[39;00m meet_button:\n\u001b[0;32m----> 8\u001b[0m     \u001b[43mmeet_button\u001b[49m\u001b[38;5;241;43m.\u001b[39;49m\u001b[43mclick\u001b[49m\u001b[43m(\u001b[49m\u001b[43m)\u001b[49m\n",
      "File \u001b[0;32m~/.pyenv/versions/3.8.12/envs/crawling/lib/python3.8/site-packages/selenium/webdriver/remote/webelement.py:94\u001b[0m, in \u001b[0;36mWebElement.click\u001b[0;34m(self)\u001b[0m\n\u001b[1;32m     92\u001b[0m \u001b[38;5;28;01mdef\u001b[39;00m \u001b[38;5;21mclick\u001b[39m(\u001b[38;5;28mself\u001b[39m) \u001b[38;5;241m-\u001b[39m\u001b[38;5;241m>\u001b[39m \u001b[38;5;28;01mNone\u001b[39;00m:\n\u001b[1;32m     93\u001b[0m     \u001b[38;5;124;03m\"\"\"Clicks the element.\"\"\"\u001b[39;00m\n\u001b[0;32m---> 94\u001b[0m     \u001b[38;5;28;43mself\u001b[39;49m\u001b[38;5;241;43m.\u001b[39;49m\u001b[43m_execute\u001b[49m\u001b[43m(\u001b[49m\u001b[43mCommand\u001b[49m\u001b[38;5;241;43m.\u001b[39;49m\u001b[43mCLICK_ELEMENT\u001b[49m\u001b[43m)\u001b[49m\n",
      "File \u001b[0;32m~/.pyenv/versions/3.8.12/envs/crawling/lib/python3.8/site-packages/selenium/webdriver/remote/webelement.py:395\u001b[0m, in \u001b[0;36mWebElement._execute\u001b[0;34m(self, command, params)\u001b[0m\n\u001b[1;32m    393\u001b[0m     params \u001b[38;5;241m=\u001b[39m {}\n\u001b[1;32m    394\u001b[0m params[\u001b[38;5;124m\"\u001b[39m\u001b[38;5;124mid\u001b[39m\u001b[38;5;124m\"\u001b[39m] \u001b[38;5;241m=\u001b[39m \u001b[38;5;28mself\u001b[39m\u001b[38;5;241m.\u001b[39m_id\n\u001b[0;32m--> 395\u001b[0m \u001b[38;5;28;01mreturn\u001b[39;00m \u001b[38;5;28;43mself\u001b[39;49m\u001b[38;5;241;43m.\u001b[39;49m\u001b[43m_parent\u001b[49m\u001b[38;5;241;43m.\u001b[39;49m\u001b[43mexecute\u001b[49m\u001b[43m(\u001b[49m\u001b[43mcommand\u001b[49m\u001b[43m,\u001b[49m\u001b[43m \u001b[49m\u001b[43mparams\u001b[49m\u001b[43m)\u001b[49m\n",
      "File \u001b[0;32m~/.pyenv/versions/3.8.12/envs/crawling/lib/python3.8/site-packages/selenium/webdriver/remote/webdriver.py:348\u001b[0m, in \u001b[0;36mWebDriver.execute\u001b[0;34m(self, driver_command, params)\u001b[0m\n\u001b[1;32m    346\u001b[0m response \u001b[38;5;241m=\u001b[39m \u001b[38;5;28mself\u001b[39m\u001b[38;5;241m.\u001b[39mcommand_executor\u001b[38;5;241m.\u001b[39mexecute(driver_command, params)\n\u001b[1;32m    347\u001b[0m \u001b[38;5;28;01mif\u001b[39;00m response:\n\u001b[0;32m--> 348\u001b[0m     \u001b[38;5;28;43mself\u001b[39;49m\u001b[38;5;241;43m.\u001b[39;49m\u001b[43merror_handler\u001b[49m\u001b[38;5;241;43m.\u001b[39;49m\u001b[43mcheck_response\u001b[49m\u001b[43m(\u001b[49m\u001b[43mresponse\u001b[49m\u001b[43m)\u001b[49m\n\u001b[1;32m    349\u001b[0m     response[\u001b[38;5;124m\"\u001b[39m\u001b[38;5;124mvalue\u001b[39m\u001b[38;5;124m\"\u001b[39m] \u001b[38;5;241m=\u001b[39m \u001b[38;5;28mself\u001b[39m\u001b[38;5;241m.\u001b[39m_unwrap_value(response\u001b[38;5;241m.\u001b[39mget(\u001b[38;5;124m\"\u001b[39m\u001b[38;5;124mvalue\u001b[39m\u001b[38;5;124m\"\u001b[39m, \u001b[38;5;28;01mNone\u001b[39;00m))\n\u001b[1;32m    350\u001b[0m     \u001b[38;5;28;01mreturn\u001b[39;00m response\n",
      "File \u001b[0;32m~/.pyenv/versions/3.8.12/envs/crawling/lib/python3.8/site-packages/selenium/webdriver/remote/errorhandler.py:229\u001b[0m, in \u001b[0;36mErrorHandler.check_response\u001b[0;34m(self, response)\u001b[0m\n\u001b[1;32m    227\u001b[0m         alert_text \u001b[38;5;241m=\u001b[39m value[\u001b[38;5;124m\"\u001b[39m\u001b[38;5;124malert\u001b[39m\u001b[38;5;124m\"\u001b[39m]\u001b[38;5;241m.\u001b[39mget(\u001b[38;5;124m\"\u001b[39m\u001b[38;5;124mtext\u001b[39m\u001b[38;5;124m\"\u001b[39m)\n\u001b[1;32m    228\u001b[0m     \u001b[38;5;28;01mraise\u001b[39;00m exception_class(message, screen, stacktrace, alert_text)  \u001b[38;5;66;03m# type: ignore[call-arg]  # mypy is not smart enough here\u001b[39;00m\n\u001b[0;32m--> 229\u001b[0m \u001b[38;5;28;01mraise\u001b[39;00m exception_class(message, screen, stacktrace)\n",
      "\u001b[0;31mElementClickInterceptedException\u001b[0m: Message: element click intercepted: Element <button id=\"pf_meet_btn\" class=\"btn btn-lg  pf_btn \">...</button> is not clickable at point (442, 37). Other element would receive the click: <a id=\"select_explore_desk\" class=\"option_btn nav-link\" href=\"#\">...</a>\n  (Session info: chrome=121.0.6167.139)\nStacktrace:\n0   chromedriver                        0x00000001047e27dc chromedriver + 4040668\n1   chromedriver                        0x00000001047da9e0 chromedriver + 4008416\n2   chromedriver                        0x000000010444d870 chromedriver + 284784\n3   chromedriver                        0x0000000104496f60 chromedriver + 585568\n4   chromedriver                        0x00000001044953f0 chromedriver + 578544\n5   chromedriver                        0x000000010449345c chromedriver + 570460\n6   chromedriver                        0x000000010449288c chromedriver + 567436\n7   chromedriver                        0x00000001044874b8 chromedriver + 521400\n8   chromedriver                        0x0000000104486ee8 chromedriver + 519912\n9   chromedriver                        0x00000001044cb048 chromedriver + 798792\n10  chromedriver                        0x000000010448574c chromedriver + 513868\n11  chromedriver                        0x0000000104486044 chromedriver + 516164\n12  chromedriver                        0x00000001047a7a04 chromedriver + 3799556\n13  chromedriver                        0x00000001047abee4 chromedriver + 3817188\n14  chromedriver                        0x0000000104790260 chromedriver + 3703392\n15  chromedriver                        0x00000001047aca2c chromedriver + 3820076\n16  chromedriver                        0x000000010478301c chromedriver + 3649564\n17  chromedriver                        0x00000001047c9e3c chromedriver + 3939900\n18  chromedriver                        0x00000001047c9fb4 chromedriver + 3940276\n19  chromedriver                        0x00000001047da660 chromedriver + 4007520\n20  libsystem_pthread.dylib             0x0000000181101034 _pthread_start + 136\n21  libsystem_pthread.dylib             0x00000001810fbe3c thread_start + 8\n"
     ]
    }
   ],
   "source": [
    "\n",
    "\n",
    "        "
   ]
  }
 ],
 "metadata": {
  "kernelspec": {
   "display_name": "crawling",
   "language": "python",
   "name": "python3"
  },
  "language_info": {
   "codemirror_mode": {
    "name": "ipython",
    "version": 3
   },
   "file_extension": ".py",
   "mimetype": "text/x-python",
   "name": "python",
   "nbconvert_exporter": "python",
   "pygments_lexer": "ipython3",
   "version": "3.8.12"
  }
 },
 "nbformat": 4,
 "nbformat_minor": 2
}
