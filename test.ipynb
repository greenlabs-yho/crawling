{
 "cells": [
  {
   "cell_type": "code",
   "execution_count": 2,
   "metadata": {},
   "outputs": [],
   "source": [
    "from google.cloud import bigquery\n",
    "client = bigquery.Client()\n",
    "\n",
    "df = client.query(\"\"\"\n",
    "select *\n",
    "from `greenlabs-data-farmmorning.content_analysis_us.gs_crawling_packer_info_processed` \n",
    "WHERE data_type = 'homepage'\n",
    "             \"\"\").to_dataframe()"
   ]
  },
  {
   "cell_type": "code",
   "execution_count": 11,
   "metadata": {},
   "outputs": [
    {
     "data": {
      "text/plain": [
       "'[{\"source_id\":\"gs:\\\\/\\\\/greenlabs-data-grainscanner\\\\/crawling\\\\/raw\\\\/auto_test.csv\",\"uuid\":\"1$c2428b-9295-442d-94e8-cbad42a3c189\",\"data_type\":\"homepage\",\"job_type\":\"search\",\"job_detail\":\"text-bison@001\",\"raw_data\":\"AGRIGRAIN (COONAMBLE) PTY LTD\",\"processed_data\":\"\",\"embedding_array\":[],\"process_ts\":1707289745290},{\"source_id\":\"gs:\\\\/\\\\/greenlabs-data-grainscanner\\\\/crawling\\\\/raw\\\\/auto_test.csv\",\"uuid\":\"6$c2428b-9295-442d-94e8-cbad42a3c189\",\"data_type\":\"homepage\",\"job_type\":\"search\",\"job_detail\":\"text-bison@001\",\"raw_data\":\"WATSON\\'S GRAIN STORAGE AND PACKING PTY LTD\",\"processed_data\":\"\",\"embedding_array\":[],\"process_ts\":1707289745290},{\"source_id\":\"gs:\\\\/\\\\/greenlabs-data-grainscanner\\\\/crawling\\\\/raw\\\\/auto_test.csv\",\"uuid\":\"5$c2428b-9295-442d-94e8-cbad42a3c189\",\"data_type\":\"homepage\",\"job_type\":\"search\",\"job_detail\":\"text-bison@001\",\"raw_data\":\"ROBINSON GRAIN TRADING CO PTY LTD\",\"processed_data\":\"\",\"embedding_array\":[],\"process_ts\":1707289745290},{\"source_id\":\"gs:\\\\/\\\\/greenlabs-data-grainscanner\\\\/crawling\\\\/raw\\\\/auto_test.csv\",\"uuid\":\"4$c2428b-9295-442d-94e8-cbad42a3c189\",\"data_type\":\"homepage\",\"job_type\":\"search\",\"job_detail\":\"text-bison@001\",\"raw_data\":\"SEMAPHORE CONTAINER SERVICES PTY LTD\",\"processed_data\":\"\",\"embedding_array\":[],\"process_ts\":1707289745290},{\"source_id\":\"gs:\\\\/\\\\/greenlabs-data-grainscanner\\\\/crawling\\\\/raw\\\\/auto_test.csv\",\"uuid\":\"7$c2428b-9295-442d-94e8-cbad42a3c189\",\"data_type\":\"homepage\",\"job_type\":\"search\",\"job_detail\":\"text-bison@001\",\"raw_data\":\"QUEENSLAND BULK TERMINALS PTY LTD\",\"processed_data\":\"\",\"embedding_array\":[],\"process_ts\":1707289745290},{\"source_id\":\"gs:\\\\/\\\\/greenlabs-data-grainscanner\\\\/crawling\\\\/raw\\\\/auto_test.csv\",\"uuid\":\"3$c2428b-9295-442d-94e8-cbad42a3c189\",\"data_type\":\"homepage\",\"job_type\":\"search\",\"job_detail\":\"text-bison@001\",\"raw_data\":\"SHANNON AGENCY\\'S PTY LTD\",\"processed_data\":\"\",\"embedding_array\":[],\"process_ts\":1707289745290},{\"source_id\":\"gs:\\\\/\\\\/greenlabs-data-grainscanner\\\\/crawling\\\\/raw\\\\/auto_test.csv\",\"uuid\":\"2$c2428b-9295-442d-94e8-cbad42a3c189\",\"data_type\":\"homepage\",\"job_type\":\"search\",\"job_detail\":\"text-bison@001\",\"raw_data\":\"VITERRA LTD\",\"processed_data\":\"https:\\\\/\\\\/www.viterra.com\\\\/\",\"embedding_array\":[],\"process_ts\":1707289745290},{\"source_id\":\"gs:\\\\/\\\\/greenlabs-data-grainscanner\\\\/crawling\\\\/raw\\\\/auto_test.csv\",\"uuid\":\"8$c2428b-9295-442d-94e8-cbad42a3c189\",\"data_type\":\"homepage\",\"job_type\":\"search\",\"job_detail\":\"text-bison@001\",\"raw_data\":\"BROADBENT BULK SERVICES PTY LTD\",\"processed_data\":\"\",\"embedding_array\":[],\"process_ts\":1707289745290}]'"
      ]
     },
     "execution_count": 11,
     "metadata": {},
     "output_type": "execute_result"
    }
   ],
   "source": [
    "\n",
    "df.to_json(orient='records', force_ascii=False)"
   ]
  },
  {
   "cell_type": "code",
   "execution_count": 19,
   "metadata": {},
   "outputs": [],
   "source": [
    "import pandas as pd\n",
    "\n",
    "new_df = pd.DataFrame([{\n",
    "  \"source_id\": \"gs://greenlabs-data-grainscanner/crawling/raw/auto_test.csv\",\n",
    "  \"uuid\": \"2$c2428b-9295-442d-94e8-cbad42a3c189\",\n",
    "  \"packer_name\": \"VITERRA LTD\",\n",
    "  \"url\": \"https://www.viterra.com/\",\n",
    "  \"is_required_addr\": \"true\",\n",
    "  \"is_required_email\": \"true\",\n",
    "  \"is_required_phone\": \"true\",\n",
    "  \"is_required_sku\": \"true\"\n",
    "}])"
   ]
  },
  {
   "cell_type": "code",
   "execution_count": 26,
   "metadata": {},
   "outputs": [],
   "source": [
    "import json\n",
    "def make_col_list(row):\n",
    "    \n",
    "    result = []\n",
    "    if row[\"is_required_addr\"]:\n",
    "        result.append('address')\n",
    "    if row['is_required_email']:\n",
    "        result.append('mail')\n",
    "    if row['is_required_phone']:\n",
    "        result.append('phone')\n",
    "    if row['is_required_sku']:\n",
    "        result.append('products')\n",
    "    return json.dumps(result, ensure_ascii=False)\n",
    "new_df['column_list'] = new_df.apply(make_col_list, axis=1)"
   ]
  },
  {
   "cell_type": "code",
   "execution_count": 27,
   "metadata": {},
   "outputs": [
    {
     "data": {
      "text/html": [
       "<div>\n",
       "<style scoped>\n",
       "    .dataframe tbody tr th:only-of-type {\n",
       "        vertical-align: middle;\n",
       "    }\n",
       "\n",
       "    .dataframe tbody tr th {\n",
       "        vertical-align: top;\n",
       "    }\n",
       "\n",
       "    .dataframe thead th {\n",
       "        text-align: right;\n",
       "    }\n",
       "</style>\n",
       "<table border=\"1\" class=\"dataframe\">\n",
       "  <thead>\n",
       "    <tr style=\"text-align: right;\">\n",
       "      <th></th>\n",
       "      <th>source_id</th>\n",
       "      <th>uuid</th>\n",
       "      <th>packer_name</th>\n",
       "      <th>url</th>\n",
       "      <th>is_required_addr</th>\n",
       "      <th>is_required_email</th>\n",
       "      <th>is_required_phone</th>\n",
       "      <th>is_required_sku</th>\n",
       "      <th>column_list</th>\n",
       "    </tr>\n",
       "  </thead>\n",
       "  <tbody>\n",
       "    <tr>\n",
       "      <th>0</th>\n",
       "      <td>gs://greenlabs-data-grainscanner/crawling/raw/...</td>\n",
       "      <td>2$c2428b-9295-442d-94e8-cbad42a3c189</td>\n",
       "      <td>VITERRA LTD</td>\n",
       "      <td>https://www.viterra.com/</td>\n",
       "      <td>true</td>\n",
       "      <td>true</td>\n",
       "      <td>true</td>\n",
       "      <td>true</td>\n",
       "      <td>[\"address\", \"mail\", \"phone\", \"products\"]</td>\n",
       "    </tr>\n",
       "  </tbody>\n",
       "</table>\n",
       "</div>"
      ],
      "text/plain": [
       "                                           source_id  \\\n",
       "0  gs://greenlabs-data-grainscanner/crawling/raw/...   \n",
       "\n",
       "                                   uuid  packer_name  \\\n",
       "0  2$c2428b-9295-442d-94e8-cbad42a3c189  VITERRA LTD   \n",
       "\n",
       "                        url is_required_addr is_required_email  \\\n",
       "0  https://www.viterra.com/             true              true   \n",
       "\n",
       "  is_required_phone is_required_sku                               column_list  \n",
       "0              true            true  [\"address\", \"mail\", \"phone\", \"products\"]  "
      ]
     },
     "execution_count": 27,
     "metadata": {},
     "output_type": "execute_result"
    }
   ],
   "source": [
    "new_df"
   ]
  },
  {
   "cell_type": "code",
   "execution_count": 30,
   "metadata": {},
   "outputs": [],
   "source": [
    "df = pd.read_csv(\"/Users/yoonhae/Downloads/china_2023.csv\")\n",
    "df['기존 전화번호'] = df['기존 전화번호'].apply(lambda x: str(x) if pd.notnull(x) else x)\n",
    "df.to_csv(\"/Users/yoonhae/Downloads/china_2023.csv\", index=False, quoting=1)"
   ]
  },
  {
   "cell_type": "code",
   "execution_count": 4,
   "metadata": {},
   "outputs": [],
   "source": [
    "import time\n",
    "from google.cloud import pubsub_v1\n",
    "\n",
    "def push_crawling_message_to_pubsub(topic_id, message):\n",
    "    # GCP project_id와 topic_id 지정\n",
    "    project_id = \"greenlabs-data-farmmorning\"\n",
    "\n",
    "    # publisher client 생성\n",
    "    # ordering_key 를 사용하는 경우 client 를 생성하면서 enable_message_ordering 옵션을 설정해야한다.\n",
    "    # ordering_key 를 사용하지 않는다면 publisher = pubsub_v1.PublisherClient() 만 해도 무방하다.\n",
    "    publisher = pubsub_v1.PublisherClient(\n",
    "        publisher_options = pubsub_v1.types.PublisherOptions(\n",
    "                #enable_message_ordering=True,\n",
    "    ))\n",
    "\n",
    "    # 게시하고자 하는 topic 의 경로를 구성한다.\n",
    "    topic_path = publisher.topic_path(project_id, topic_id)\n",
    "\n",
    "    # data schema 에 맞게 messsage 를 구성한다.\n",
    "    message[\"timestamp\"] = time.time()\n",
    "    # 전송되는 데이터는 bytes 타입이다.\n",
    "    # dict 형식의 데이터의 경우 string 으로 변환 후 byte 로 인코딩한다.\n",
    "    data_str = json.dumps(message, ensure_ascii=False)\n",
    "    data = data_str.encode(\"utf-8\")\n",
    "\n",
    "    # message 를 게시한다.\n",
    "    # publish 의 기본 인자는 topic, data, ordering_key, retry, timeout 이며\n",
    "    # 이후 키워드 인자로 입력되는 것은 attributes 로 등록된다.\n",
    "    # 여기서는 attributes.product=\"recommendation_follows\" 가 설정된다.\n",
    "    future = publisher.publish(topic_path\n",
    "                                , data\n",
    "                                , target=message[\"target\"]  # attributes\n",
    "                            )\n",
    "    # 메세지를 정상적으로 게시할때까지 block 된다.\n",
    "    # 정상적으로 등록된 경우 messge ID 를 반환하고 실패한 경우 Exception 이 발생한다.\n",
    "    # https://cloud.google.com/python/docs/reference/pubsub/latest/google.cloud.pubsub_v1.publisher.futures.Future\n",
    "    print('** pub/sub push id :', future.result())\n",
    "def make_col_list(row):\n",
    "    \n",
    "    result = []\n",
    "    if row[\"is_required_addr\"]:\n",
    "        result.append('address')\n",
    "    if row['is_required_email']:\n",
    "        result.append('mail')\n",
    "    if row['is_required_phone']:\n",
    "        result.append('phone')\n",
    "    if row['is_required_sku']:\n",
    "        result.append('products')\n",
    "    return result"
   ]
  },
  {
   "cell_type": "code",
   "execution_count": 17,
   "metadata": {},
   "outputs": [
    {
     "name": "stdout",
     "output_type": "stream",
     "text": [
      "** pub/sub push id : 9214710409184166\n"
     ]
    }
   ],
   "source": [
    "import json \n",
    "query = \"\"\"\n",
    "with raw as (\n",
    "  select source_id, uuid, packer_name, website_url\n",
    "    , (coalesce(handled_sku1, '') = '' and coalesce(sku_raw, '') = '') as is_required_sku\n",
    "    , (coalesce(country, '') = '' and coalesce(address_raw, '') = '') as is_required_addr\n",
    "    , (coalesce(phone_number, '') = '' and coalesce(original_phone_number, '') = '') as is_required_phone \n",
    "    , coalesce(primary_email, '') = '' as is_required_email\n",
    "  from `greenlabs-data-farmmorning.content_analysis_us.gs_crawling_packer_info_raw`\n",
    "  where source_id = \"gs://greenlabs-data-grainscanner/crawling/raw/china_2023.csv\"\n",
    "    and (\n",
    "        (coalesce(handled_sku1, '') = '' and coalesce(sku_raw, '') = '') or\n",
    "        (coalesce(country, '') = '' and coalesce(address_raw, '') = '') or\n",
    "        (coalesce(phone_number, '') = '' and coalesce(original_phone_number, '') = '') or\n",
    "        coalesce(primary_email, '') = ''\n",
    "    )\n",
    ")\n",
    ", search_set as (\n",
    "  select uuid, raw_data as packer_name, processed_data as website_url\n",
    "  from `greenlabs-data-farmmorning.content_analysis_us.gs_crawling_packer_info_processed` \n",
    "  WHERE source_id = \"gs://greenlabs-data-grainscanner/crawling/raw/china_2023.csv\"\n",
    "    and data_type = 'homepage' \n",
    "    and job_type = 'search'  \n",
    ")\n",
    "select raw.source_id\n",
    "  , raw.uuid\n",
    "  , raw.packer_name\n",
    "  , coalesce(raw.website_url, search_set.website_url) as url\n",
    "  , raw.is_required_addr\n",
    "  , raw.is_required_email\n",
    "  , raw.is_required_phone\n",
    "  , raw.is_required_sku\n",
    "from raw\n",
    "left join search_set\n",
    "on raw.uuid = search_set.uuid\n",
    "where coalesce(raw.website_url, search_set.website_url) > ''\n",
    "order by uuid\n",
    "limit 1\n",
    "\"\"\"\n",
    "from google.cloud import bigquery\n",
    "\n",
    "bigquery_client = bigquery.Client()\n",
    "df = bigquery_client.query(query).to_dataframe()\n",
    "\n",
    "df['column_list'] = df.apply(make_col_list, axis=1)\n",
    "topic = \"crawler_jobs_topic\"\n",
    "for index, row in df.iterrows():\n",
    "    message = {\n",
    "        \"target\": \"packer_homepage\",\n",
    "        \"target_column_list\": json.dumps(row['column_list'], ensure_ascii=False),\n",
    "        \"source_id\": row['source_id'],\n",
    "        'uuid': row[\"uuid\"],\n",
    "        \"homepage_url\": row[\"url\"],\n",
    "        \"write_bigquery_path\": 'greenlabs-data-farmmorning.content_analysis_us.gs_crawling_packer_info_processed'\n",
    "    }\n",
    "    push_crawling_message_to_pubsub(topic, message)"
   ]
  },
  {
   "cell_type": "code",
   "execution_count": 8,
   "metadata": {},
   "outputs": [],
   "source": [
    "data = '[{\"homepage\":\"https:\\/\\/aaawholesale.com\\/\",\"extract_url\":[\"https:\\/\\/aaawholesale.com\\/\",\"https:\\/\\/aaawholesale.com\\/contact-2\\/\",\"https:\\/\\/aaawholesale.com\\/about-us\\/\"],\"company_name\":[],\"mail\":[\"[email protected]\"],\"phone\":[\"201-351-5000\"],\"address\":[\"35 Oxford Drive Moonachie, NJ 07074\",\"35 Oxford Dr. Moonachie, NJ  07074 USA\"],\"products\":[],\"error\":[]}]'\n",
    "\n",
    "j_data = json.loads(data)"
   ]
  },
  {
   "cell_type": "code",
   "execution_count": 16,
   "metadata": {},
   "outputs": [
    {
     "name": "stdout",
     "output_type": "stream",
     "text": [
      "[{\"homepage\": \"https://aaawholesale.com/\", \"extract_url\": [\"https://aaawholesale.com/\", \"https://aaawholesale.com/contact-2/\", \"https://aaawholesale.com/about-us/\"], \"company_name\": [], \"mail\": [\"[email protected]\"], \"phone\": [\"201-351-5000\"], \"address\": [\"35 Oxford Drive Moonachie, NJ 07074\", \"35 Oxford Dr. Moonachie, NJ  07074 USA\"], \"products\": [], \"error\": []}]\n",
      "[{\"homepage\": \"https://aaawholesale.com/\", \"extract_url\": [\"https://aaawholesale.com/\", \"https://aaawholesale.com/contact-2/\", \"https://aaawholesale.com/about-us/\"], \"company_name\": [], \"mail\": [\"[email protected]\"], \"phone\": [\"201-351-5000\"], \"address\": [\"35 Oxford Drive Moonachie, NJ 07074\", \"35 Oxford Dr. Moonachie, NJ  07074 USA\"], \"products\": [], \"error\": []}]\n"
     ]
    }
   ],
   "source": [
    "import pandas as pd\n",
    "sub_df = pd.DataFrame(j_data)\n",
    "print(json.dumps(sub_df.to_dict(orient='records'), ensure_ascii=False))\n",
    "print(json.dumps(j_data))\n"
   ]
  },
  {
   "cell_type": "code",
   "execution_count": 7,
   "metadata": {},
   "outputs": [
    {
     "ename": "NotFound",
     "evalue": "404 GET https://bigquery.googleapis.com/bigquery/v2/projects/greenlabs-data-farmmorning/jobs/airflow_1709190130022928_403f1349cd8e2126ade7d5c09d649e25?projection=full&prettyPrint=false: Not found: Job greenlabs-data-farmmorning:airflow_1709190130022928_403f1349cd8e2126ade7d5c09d649e25",
     "output_type": "error",
     "traceback": [
      "\u001b[0;31m---------------------------------------------------------------------------\u001b[0m",
      "\u001b[0;31mNotFound\u001b[0m                                  Traceback (most recent call last)",
      "Cell \u001b[0;32mIn[7], line 7\u001b[0m\n\u001b[1;32m      4\u001b[0m bigquery_client \u001b[38;5;241m=\u001b[39m bigquery\u001b[38;5;241m.\u001b[39mClient\u001b[38;5;241m.\u001b[39mfrom_service_account_json(path)\n\u001b[1;32m      6\u001b[0m \u001b[38;5;66;03m# job_id를 사용하여 BigQuery 작업 가져오기\u001b[39;00m\n\u001b[0;32m----> 7\u001b[0m job \u001b[38;5;241m=\u001b[39m \u001b[43mbigquery_client\u001b[49m\u001b[38;5;241;43m.\u001b[39;49m\u001b[43mget_job\u001b[49m\u001b[43m(\u001b[49m\u001b[43mjob_id\u001b[49m\u001b[43m)\u001b[49m  \u001b[38;5;66;03m# API 요청\u001b[39;00m\n\u001b[1;32m      8\u001b[0m df \u001b[38;5;241m=\u001b[39m job\u001b[38;5;241m.\u001b[39mresult()\u001b[38;5;241m.\u001b[39mto_dataframe() \n",
      "File \u001b[0;32m~/.pyenv/versions/3.8.12/envs/gcp/lib/python3.8/site-packages/google/cloud/bigquery/client.py:2088\u001b[0m, in \u001b[0;36mClient.get_job\u001b[0;34m(self, job_id, project, location, retry, timeout)\u001b[0m\n\u001b[1;32m   2084\u001b[0m path \u001b[38;5;241m=\u001b[39m \u001b[38;5;124m\"\u001b[39m\u001b[38;5;124m/projects/\u001b[39m\u001b[38;5;132;01m{}\u001b[39;00m\u001b[38;5;124m/jobs/\u001b[39m\u001b[38;5;132;01m{}\u001b[39;00m\u001b[38;5;124m\"\u001b[39m\u001b[38;5;241m.\u001b[39mformat(project, job_id)\n\u001b[1;32m   2086\u001b[0m span_attributes \u001b[38;5;241m=\u001b[39m {\u001b[38;5;124m\"\u001b[39m\u001b[38;5;124mpath\u001b[39m\u001b[38;5;124m\"\u001b[39m: path, \u001b[38;5;124m\"\u001b[39m\u001b[38;5;124mjob_id\u001b[39m\u001b[38;5;124m\"\u001b[39m: job_id, \u001b[38;5;124m\"\u001b[39m\u001b[38;5;124mlocation\u001b[39m\u001b[38;5;124m\"\u001b[39m: location}\n\u001b[0;32m-> 2088\u001b[0m resource \u001b[38;5;241m=\u001b[39m \u001b[38;5;28;43mself\u001b[39;49m\u001b[38;5;241;43m.\u001b[39;49m\u001b[43m_call_api\u001b[49m\u001b[43m(\u001b[49m\n\u001b[1;32m   2089\u001b[0m \u001b[43m    \u001b[49m\u001b[43mretry\u001b[49m\u001b[43m,\u001b[49m\n\u001b[1;32m   2090\u001b[0m \u001b[43m    \u001b[49m\u001b[43mspan_name\u001b[49m\u001b[38;5;241;43m=\u001b[39;49m\u001b[38;5;124;43m\"\u001b[39;49m\u001b[38;5;124;43mBigQuery.getJob\u001b[39;49m\u001b[38;5;124;43m\"\u001b[39;49m\u001b[43m,\u001b[49m\n\u001b[1;32m   2091\u001b[0m \u001b[43m    \u001b[49m\u001b[43mspan_attributes\u001b[49m\u001b[38;5;241;43m=\u001b[39;49m\u001b[43mspan_attributes\u001b[49m\u001b[43m,\u001b[49m\n\u001b[1;32m   2092\u001b[0m \u001b[43m    \u001b[49m\u001b[43mmethod\u001b[49m\u001b[38;5;241;43m=\u001b[39;49m\u001b[38;5;124;43m\"\u001b[39;49m\u001b[38;5;124;43mGET\u001b[39;49m\u001b[38;5;124;43m\"\u001b[39;49m\u001b[43m,\u001b[49m\n\u001b[1;32m   2093\u001b[0m \u001b[43m    \u001b[49m\u001b[43mpath\u001b[49m\u001b[38;5;241;43m=\u001b[39;49m\u001b[43mpath\u001b[49m\u001b[43m,\u001b[49m\n\u001b[1;32m   2094\u001b[0m \u001b[43m    \u001b[49m\u001b[43mquery_params\u001b[49m\u001b[38;5;241;43m=\u001b[39;49m\u001b[43mextra_params\u001b[49m\u001b[43m,\u001b[49m\n\u001b[1;32m   2095\u001b[0m \u001b[43m    \u001b[49m\u001b[43mtimeout\u001b[49m\u001b[38;5;241;43m=\u001b[39;49m\u001b[43mtimeout\u001b[49m\u001b[43m,\u001b[49m\n\u001b[1;32m   2096\u001b[0m \u001b[43m\u001b[49m\u001b[43m)\u001b[49m\n\u001b[1;32m   2098\u001b[0m \u001b[38;5;28;01mreturn\u001b[39;00m \u001b[38;5;28mself\u001b[39m\u001b[38;5;241m.\u001b[39mjob_from_resource(resource)\n",
      "File \u001b[0;32m~/.pyenv/versions/3.8.12/envs/gcp/lib/python3.8/site-packages/google/cloud/bigquery/client.py:808\u001b[0m, in \u001b[0;36mClient._call_api\u001b[0;34m(self, retry, span_name, span_attributes, job_ref, headers, **kwargs)\u001b[0m\n\u001b[1;32m    804\u001b[0m \u001b[38;5;28;01mif\u001b[39;00m span_name \u001b[38;5;129;01mis\u001b[39;00m \u001b[38;5;129;01mnot\u001b[39;00m \u001b[38;5;28;01mNone\u001b[39;00m:\n\u001b[1;32m    805\u001b[0m     \u001b[38;5;28;01mwith\u001b[39;00m create_span(\n\u001b[1;32m    806\u001b[0m         name\u001b[38;5;241m=\u001b[39mspan_name, attributes\u001b[38;5;241m=\u001b[39mspan_attributes, client\u001b[38;5;241m=\u001b[39m\u001b[38;5;28mself\u001b[39m, job_ref\u001b[38;5;241m=\u001b[39mjob_ref\n\u001b[1;32m    807\u001b[0m     ):\n\u001b[0;32m--> 808\u001b[0m         \u001b[38;5;28;01mreturn\u001b[39;00m \u001b[43mcall\u001b[49m\u001b[43m(\u001b[49m\u001b[43m)\u001b[49m\n\u001b[1;32m    810\u001b[0m \u001b[38;5;28;01mreturn\u001b[39;00m call()\n",
      "File \u001b[0;32m~/.pyenv/versions/3.8.12/envs/gcp/lib/python3.8/site-packages/google/api_core/retry.py:349\u001b[0m, in \u001b[0;36mRetry.__call__.<locals>.retry_wrapped_func\u001b[0;34m(*args, **kwargs)\u001b[0m\n\u001b[1;32m    345\u001b[0m target \u001b[38;5;241m=\u001b[39m functools\u001b[38;5;241m.\u001b[39mpartial(func, \u001b[38;5;241m*\u001b[39margs, \u001b[38;5;241m*\u001b[39m\u001b[38;5;241m*\u001b[39mkwargs)\n\u001b[1;32m    346\u001b[0m sleep_generator \u001b[38;5;241m=\u001b[39m exponential_sleep_generator(\n\u001b[1;32m    347\u001b[0m     \u001b[38;5;28mself\u001b[39m\u001b[38;5;241m.\u001b[39m_initial, \u001b[38;5;28mself\u001b[39m\u001b[38;5;241m.\u001b[39m_maximum, multiplier\u001b[38;5;241m=\u001b[39m\u001b[38;5;28mself\u001b[39m\u001b[38;5;241m.\u001b[39m_multiplier\n\u001b[1;32m    348\u001b[0m )\n\u001b[0;32m--> 349\u001b[0m \u001b[38;5;28;01mreturn\u001b[39;00m \u001b[43mretry_target\u001b[49m\u001b[43m(\u001b[49m\n\u001b[1;32m    350\u001b[0m \u001b[43m    \u001b[49m\u001b[43mtarget\u001b[49m\u001b[43m,\u001b[49m\n\u001b[1;32m    351\u001b[0m \u001b[43m    \u001b[49m\u001b[38;5;28;43mself\u001b[39;49m\u001b[38;5;241;43m.\u001b[39;49m\u001b[43m_predicate\u001b[49m\u001b[43m,\u001b[49m\n\u001b[1;32m    352\u001b[0m \u001b[43m    \u001b[49m\u001b[43msleep_generator\u001b[49m\u001b[43m,\u001b[49m\n\u001b[1;32m    353\u001b[0m \u001b[43m    \u001b[49m\u001b[38;5;28;43mself\u001b[39;49m\u001b[38;5;241;43m.\u001b[39;49m\u001b[43m_timeout\u001b[49m\u001b[43m,\u001b[49m\n\u001b[1;32m    354\u001b[0m \u001b[43m    \u001b[49m\u001b[43mon_error\u001b[49m\u001b[38;5;241;43m=\u001b[39;49m\u001b[43mon_error\u001b[49m\u001b[43m,\u001b[49m\n\u001b[1;32m    355\u001b[0m \u001b[43m\u001b[49m\u001b[43m)\u001b[49m\n",
      "File \u001b[0;32m~/.pyenv/versions/3.8.12/envs/gcp/lib/python3.8/site-packages/google/api_core/retry.py:191\u001b[0m, in \u001b[0;36mretry_target\u001b[0;34m(target, predicate, sleep_generator, timeout, on_error, **kwargs)\u001b[0m\n\u001b[1;32m    189\u001b[0m \u001b[38;5;28;01mfor\u001b[39;00m sleep \u001b[38;5;129;01min\u001b[39;00m sleep_generator:\n\u001b[1;32m    190\u001b[0m     \u001b[38;5;28;01mtry\u001b[39;00m:\n\u001b[0;32m--> 191\u001b[0m         \u001b[38;5;28;01mreturn\u001b[39;00m \u001b[43mtarget\u001b[49m\u001b[43m(\u001b[49m\u001b[43m)\u001b[49m\n\u001b[1;32m    193\u001b[0m     \u001b[38;5;66;03m# pylint: disable=broad-except\u001b[39;00m\n\u001b[1;32m    194\u001b[0m     \u001b[38;5;66;03m# This function explicitly must deal with broad exceptions.\u001b[39;00m\n\u001b[1;32m    195\u001b[0m     \u001b[38;5;28;01mexcept\u001b[39;00m \u001b[38;5;167;01mException\u001b[39;00m \u001b[38;5;28;01mas\u001b[39;00m exc:\n",
      "File \u001b[0;32m~/.pyenv/versions/3.8.12/envs/gcp/lib/python3.8/site-packages/google/cloud/_http/__init__.py:494\u001b[0m, in \u001b[0;36mJSONConnection.api_request\u001b[0;34m(self, method, path, query_params, data, content_type, headers, api_base_url, api_version, expect_json, _target_object, timeout, extra_api_info)\u001b[0m\n\u001b[1;32m    482\u001b[0m response \u001b[38;5;241m=\u001b[39m \u001b[38;5;28mself\u001b[39m\u001b[38;5;241m.\u001b[39m_make_request(\n\u001b[1;32m    483\u001b[0m     method\u001b[38;5;241m=\u001b[39mmethod,\n\u001b[1;32m    484\u001b[0m     url\u001b[38;5;241m=\u001b[39murl,\n\u001b[0;32m   (...)\u001b[0m\n\u001b[1;32m    490\u001b[0m     extra_api_info\u001b[38;5;241m=\u001b[39mextra_api_info,\n\u001b[1;32m    491\u001b[0m )\n\u001b[1;32m    493\u001b[0m \u001b[38;5;28;01mif\u001b[39;00m \u001b[38;5;129;01mnot\u001b[39;00m \u001b[38;5;241m200\u001b[39m \u001b[38;5;241m<\u001b[39m\u001b[38;5;241m=\u001b[39m response\u001b[38;5;241m.\u001b[39mstatus_code \u001b[38;5;241m<\u001b[39m \u001b[38;5;241m300\u001b[39m:\n\u001b[0;32m--> 494\u001b[0m     \u001b[38;5;28;01mraise\u001b[39;00m exceptions\u001b[38;5;241m.\u001b[39mfrom_http_response(response)\n\u001b[1;32m    496\u001b[0m \u001b[38;5;28;01mif\u001b[39;00m expect_json \u001b[38;5;129;01mand\u001b[39;00m response\u001b[38;5;241m.\u001b[39mcontent:\n\u001b[1;32m    497\u001b[0m     \u001b[38;5;28;01mreturn\u001b[39;00m response\u001b[38;5;241m.\u001b[39mjson()\n",
      "\u001b[0;31mNotFound\u001b[0m: 404 GET https://bigquery.googleapis.com/bigquery/v2/projects/greenlabs-data-farmmorning/jobs/airflow_1709190130022928_403f1349cd8e2126ade7d5c09d649e25?projection=full&prettyPrint=false: Not found: Job greenlabs-data-farmmorning:airflow_1709190130022928_403f1349cd8e2126ade7d5c09d649e25"
     ]
    }
   ],
   "source": [
    "job_id = 'airflow_1709190130022928_403f1349cd8e2126ade7d5c09d649e25'\n",
    "path = '/Users/yoonhae/data/.gcp-secure/greenlabs-data-farmmorning.json'\n",
    "from google.cloud import bigquery\n",
    "bigquery_client = bigquery.Client.from_service_account_json(path)\n",
    "\n",
    "# job_id를 사용하여 BigQuery 작업 가져오기\n",
    "job = bigquery_client.get_job(job_id)  # API 요청\n",
    "df = job.result().to_dataframe() \n"
   ]
  }
 ],
 "metadata": {
  "kernelspec": {
   "display_name": "crawling",
   "language": "python",
   "name": "python3"
  },
  "language_info": {
   "codemirror_mode": {
    "name": "ipython",
    "version": 3
   },
   "file_extension": ".py",
   "mimetype": "text/x-python",
   "name": "python",
   "nbconvert_exporter": "python",
   "pygments_lexer": "ipython3",
   "version": "3.8.12"
  }
 },
 "nbformat": 4,
 "nbformat_minor": 2
}
