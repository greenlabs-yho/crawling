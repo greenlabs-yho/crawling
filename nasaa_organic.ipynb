{
 "cells": [
  {
   "cell_type": "code",
   "execution_count": 1,
   "metadata": {},
   "outputs": [],
   "source": [
    "# site url 가져오기\n",
    "# google 에서 texas Cotton Association directory 검색 후 Association directory 접근\n",
    "url = 'https://nasaaorganic.org.au/find-organic-producers-products/product-search/'"
   ]
  },
  {
   "cell_type": "code",
   "execution_count": 2,
   "metadata": {},
   "outputs": [],
   "source": [
    "from selenium import webdriver\n",
    "\n",
    "# 웹드라이버 설정 (예: Chrome의 경우)\n",
    "driver = webdriver.Chrome()"
   ]
  },
  {
   "cell_type": "code",
   "execution_count": 15,
   "metadata": {},
   "outputs": [],
   "source": [
    "from selenium.webdriver.common.by import By\n",
    "from selenium.webdriver.support.ui import WebDriverWait\n",
    "from selenium.webdriver.support import expected_conditions as EC\n",
    "from bs4 import BeautifulSoup\n",
    "import time\n",
    "\n",
    "driver.get(url)\n",
    "wait = WebDriverWait(driver, 10)\n",
    "search_button = wait.until(EC.element_to_be_clickable((By.ID, 'Search')))\n",
    "\n",
    "search = driver.find_element(By.ID, \"Search\")\n",
    "search.click()\n",
    "\n",
    "detail_list = driver.find_elements(By.CSS_SELECTOR, \".btn.btn-light.contactDetailsBtn\")\n",
    "\n",
    "\n",
    "search_button = wait.until(EC.element_to_be_clickable((By.CSS_SELECTOR, \".btn.btn-light.contactDetailsBtn\")))\n",
    "\n",
    "html_content = driver.page_source\n",
    "soup = BeautifulSoup(html_content, 'html.parser')\n",
    "\n",
    "    "
   ]
  },
  {
   "cell_type": "code",
   "execution_count": 79,
   "metadata": {},
   "outputs": [
    {
     "name": "stdout",
     "output_type": "stream",
     "text": [
      "<h4> N.T. Cattlemens Trading Pty Ltd <small>(Certification No. 0028P)</small></h4>\n",
      "<h4>5th Acre <small>(Certification No. 4235)</small></h4>\n"
     ]
    },
    {
     "data": {
      "text/plain": [
       "'Hugh  NT AUSTRALIA '"
      ]
     },
     "execution_count": 79,
     "metadata": {},
     "output_type": "execute_result"
    }
   ],
   "source": [
    "first = soup.find('h4')\n",
    "loop = first.find_next('h4')\n",
    "print(first)\n",
    "print(loop)\n",
    "\n",
    "name = next(first.descendants)\n",
    "first.next_sibling.next_sibling\n",
    "\n",
    "prev = first\n",
    "details = {}\n",
    "for i in range(3):\n",
    "    strong_tag = prev.find_next('strong')\n",
    "    key = strong_tag.get_text(strip=True).rstrip(':')\n",
    "    value = strong_tag.next_sibling\n",
    "    if value:\n",
    "        details[key] = value.strip()\n",
    "\n",
    "content = prev.find_next('div', {'class': 'contactDetails'})\n",
    "content.parent.previous_sibling.previous_sibling.previous_sibling\n",
    "\n"
   ]
  },
  {
   "cell_type": "code",
   "execution_count": 87,
   "metadata": {},
   "outputs": [
    {
     "name": "stdout",
     "output_type": "stream",
     "text": [
      "'NoneType' object has no attribute 'get_text'\n"
     ]
    }
   ],
   "source": [
    "# first = soup.find('h4')\n",
    "# loop = first.find_next('h4')\n",
    "# print(first)\n",
    "# print(loop)\n",
    "\n",
    "# name = next(first.descendants)\n",
    "# first.next_sibling.next_sibling\n",
    "\n",
    "\n",
    "# Extracting the h4 tag content\n",
    "\n",
    "def get_details(name_tag):\n",
    "    prev = name_tag\n",
    "    details = {}\n",
    "    for i in range(3):\n",
    "        strong_tag = prev.find_next('strong')\n",
    "        key = strong_tag.get_text(strip=True).rstrip(':')\n",
    "        value = strong_tag.next_sibling\n",
    "\n",
    "        if key not in {'Certification Program', 'Category', 'Certified For'}:\n",
    "            break\n",
    "        \n",
    "        if value:\n",
    "            details[key] = value.strip()\n",
    "\n",
    "        prev = strong_tag\n",
    "\n",
    "    content = prev.find_next('div', {'class': 'contactDetails'})\n",
    "    details['address'] = content.parent.previous_sibling.previous_sibling.previous_sibling.text.strip()\n",
    "\n",
    "    # Extracting contact details\n",
    "    contact_div = prev.find_next('div', {'class': 'contactDetails'})\n",
    "    if contact_div:\n",
    "        for strong_tag in contact_div.find_all('strong'):\n",
    "            key = strong_tag.get_text(strip=True).rstrip(':')\n",
    "            value = strong_tag.next_sibling\n",
    "            if value:\n",
    "                details[key] = value.strip()\n",
    "    return details\n",
    "\n",
    "\n",
    "result_list = []\n",
    "h4_content = None\n",
    "while(True):\n",
    "    if not h4_content:\n",
    "        h4_content = soup.find('h4')\n",
    "    else:\n",
    "        h4_content = h4_content.find_next('h4')\n",
    "\n",
    "    if not h4_content:\n",
    "        break\n",
    "    \n",
    "    try:\n",
    "        result = {\"name\": next(h4_content.descendants).text.strip()}\n",
    "        detail = get_details(h4_content)\n",
    "        result.update(detail)\n",
    "\n",
    "        result_list.append(result)\n",
    "    except Exception as e:\n",
    "        print(e)\n",
    "        break"
   ]
  },
  {
   "cell_type": "code",
   "execution_count": 92,
   "metadata": {},
   "outputs": [
    {
     "data": {
      "text/plain": [
       "{'name': 'N.T. Cattlemens Trading Pty Ltd',\n",
       " 'Certification Program': 'DoA Processor/Handler (Organic); NOP Processor/Handler (Organic)',\n",
       " 'Category': 'Services',\n",
       " 'Certified For': 'Spelling Yard (Handling of Certified Organic Livestock and Hay)',\n",
       " 'address': 'Hugh  NT AUSTRALIA'}"
      ]
     },
     "execution_count": 92,
     "metadata": {},
     "output_type": "execute_result"
    }
   ],
   "source": [
    "result_list[0]"
   ]
  },
  {
   "cell_type": "code",
   "execution_count": 93,
   "metadata": {},
   "outputs": [],
   "source": [
    "import pandas as pd\n",
    "df = pd.DataFrame(result_list)\n",
    "df.to_csv(\"./output/nasaa_organic_20240201.csv\", quoting=1, index=False)"
   ]
  },
  {
   "cell_type": "code",
   "execution_count": 94,
   "metadata": {},
   "outputs": [
    {
     "data": {
      "text/plain": [
       "{'name': 'ZERO Slim & Healthy',\n",
       " 'Certification Program': 'DoA Processor/Handler (Certified; Organic)',\n",
       " 'Category': 'Seeds and Cereal Products, including Grains, Roots and Tubers, Pulses, Legumes, Sago and Cassava; Services',\n",
       " 'Certified For': 'Exporting (Exporting of ZERO Slim & Healthy Noodles, Rice & Pasta products); Pastas, Noodles and Similar Products (ZERO Slim & Healthy Angel Hair Noodles, ZERO Slim & Healthy Fettucine, ZERO Slim & Healthy Lasagna, ZERO Slim & Healthy Rice)',\n",
       " 'address': 'Pooraka  SA AUSTRALIA',\n",
       " 'Mobile': '0400 998 766',\n",
       " 'Email': 'info@slimandhealthysecrets.com.au'}"
      ]
     },
     "execution_count": 94,
     "metadata": {},
     "output_type": "execute_result"
    }
   ],
   "source": [
    "result_list[-1]"
   ]
  },
  {
   "cell_type": "code",
   "execution_count": 30,
   "metadata": {},
   "outputs": [
    {
     "data": {
      "text/plain": [
       "<h4> N.T. Cattlemens Trading Pty Ltd <small>(Certification No. 0028P)</small></h4>"
      ]
     },
     "execution_count": 30,
     "metadata": {},
     "output_type": "execute_result"
    }
   ],
   "source": [
    "first"
   ]
  },
  {
   "cell_type": "code",
   "execution_count": null,
   "metadata": {},
   "outputs": [],
   "source": [
    "# 웹드라이버 종료\n",
    "driver.quit()"
   ]
  }
 ],
 "metadata": {
  "kernelspec": {
   "display_name": "crawling",
   "language": "python",
   "name": "python3"
  },
  "language_info": {
   "codemirror_mode": {
    "name": "ipython",
    "version": 3
   },
   "file_extension": ".py",
   "mimetype": "text/x-python",
   "name": "python",
   "nbconvert_exporter": "python",
   "pygments_lexer": "ipython3",
   "version": "3.8.12"
  }
 },
 "nbformat": 4,
 "nbformat_minor": 2
}
