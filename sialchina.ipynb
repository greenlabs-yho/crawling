{
 "cells": [
  {
   "cell_type": "code",
   "execution_count": 1,
   "metadata": {},
   "outputs": [],
   "source": [
    "import pytz\n",
    "from datetime import datetime\n",
    "import re\n",
    "import requests\n",
    "from bs4 import BeautifulSoup\n",
    "import pandas as pd\n",
    "from requests.adapters import HTTPAdapter, Retry\n",
    "\n",
    "requests.adapters.DEFAULT_POOLSIZE = 100\n",
    "retries = Retry(total=20)\n",
    "# 세션을 생성하고 ConnectionPool 크기를 설정\n",
    "session = requests.Session()\n",
    "session.mount('https://', requests.adapters.HTTPAdapter(pool_connections=100, pool_maxsize=100, max_retries=retries))\n"
   ]
  },
  {
   "cell_type": "code",
   "execution_count": 34,
   "metadata": {},
   "outputs": [],
   "source": [
    "def get_soup(url):\n",
    "    headers = {\n",
    "        \"User-Agent\": \"Mozilla/5.0 (Macintosh; Intel Mac OS X 10_15_7) AppleWebKit/537.36 (KHTML, like Gecko) Chrome/121.0.0.0 Safari/537.36\",\n",
    "        \n",
    "    }\n",
    "    print(url)\n",
    "    response = session.get(url, headers=headers)\n",
    "    response.raise_for_status()\n",
    "    if response.status_code != 200:\n",
    "        raise Exception(f\"[{response.status_code}] {response.text}\")\n",
    "    soup = BeautifulSoup(response.text, 'html.parser')\n",
    "    return soup"
   ]
  },
  {
   "cell_type": "code",
   "execution_count": 52,
   "metadata": {},
   "outputs": [],
   "source": [
    "sub_link_list = []"
   ]
  },
  {
   "cell_type": "code",
   "execution_count": null,
   "metadata": {},
   "outputs": [],
   "source": [
    "\n",
    "import time\n",
    "\n",
    "def get_link_list(url):\n",
    "    soup = get_soup(url)\n",
    "    for div in soup.find_all('div', class_=\"logobox\"):\n",
    "        a = div.find(\"a\")\n",
    "        if a:\n",
    "            sub_link_list.append(a[\"href\"])\n",
    "\n",
    "get_link_list(\"https://www.sialchina.com/exhibitorlist.html\")\n",
    "for i in range(2, 298):\n",
    "    get_link_list(f\"https://www.sialchina.com/exhibitorlist.html?page={i}\")\n",
    "    time.sleep(0.3)"
   ]
  },
  {
   "cell_type": "code",
   "execution_count": 56,
   "metadata": {},
   "outputs": [],
   "source": [
    "import json\n",
    "with open('./output/sialchina_detail_page_link_list_tmp.json', '+wt') as fp:\n",
    "    json.dump(sub_link_list, fp, ensure_ascii=False)"
   ]
  },
  {
   "cell_type": "code",
   "execution_count": 61,
   "metadata": {},
   "outputs": [],
   "source": [
    "result_list = []"
   ]
  },
  {
   "cell_type": "code",
   "execution_count": null,
   "metadata": {},
   "outputs": [],
   "source": [
    "from urllib.parse import urljoin\n",
    "\n",
    "for i, url in enumerate(sub_link_list):\n",
    "    sub_url = urljoin('https://www.sialchina.com', url)\n",
    "    \n",
    "    time.sleep(0.2)\n",
    "    sub_soup = get_soup(sub_url)\n",
    "    item = {}\n",
    "    country_label = \"Country/Region:\"\n",
    "    top_div = sub_soup.find('div', class_=\"txtfl\")\n",
    "\n",
    "    p_list = top_div.find_all(\"p\")\n",
    "    for p in p_list:\n",
    "        txt = p.get_text(strip=True)\n",
    "        if \"company\" in p[\"class\"]:\n",
    "            item[\"name\"] = txt\n",
    "        elif txt.startswith(country_label):\n",
    "            item[\"country\"] = txt.replace(country_label, '').strip()\n",
    "            \n",
    "    other_div = sub_soup.find('div', class_=\"otherInfo\")\n",
    "    if other_div:\n",
    "        p_list = other_div.find_all(\"p\")\n",
    "        for p in p_list:\n",
    "            if p.text.strip().startswith('By Product Category:'):\n",
    "                if p.find('span'):\n",
    "                    item[\"category\"] = p.find('span').getText(strip=True)\n",
    "\n",
    "            if p.text.strip().startswith('Brand Name:'):\n",
    "                if p.find('a'):\n",
    "                    item[\"website\"] = p.find('a')[\"href\"]\n",
    "\n",
    "\n",
    "    result_list.append(item)\n",
    "    \n",
    "    "
   ]
  },
  {
   "cell_type": "code",
   "execution_count": 64,
   "metadata": {},
   "outputs": [],
   "source": [
    "with open(\"./output/siachina_result_tmp.json\", '+wt') as fp:\n",
    "    json.dump(result_list, fp)"
   ]
  },
  {
   "cell_type": "code",
   "execution_count": 65,
   "metadata": {},
   "outputs": [],
   "source": [
    "import pandas as pd\n",
    "\n",
    "df = pd.DataFrame(result_list)\n",
    "df_with_website = df.dropna(subset=['website'])\n",
    "df_without_website = df[df['website'].isna()]"
   ]
  },
  {
   "cell_type": "code",
   "execution_count": 68,
   "metadata": {},
   "outputs": [],
   "source": [
    "df_with_website.to_csv('./output/siachina_result_with_website.csv', index=False, quoting=1)\n",
    "df_without_website.to_csv('./output/siachina_result_without_website.csv', index=False, quoting=1)"
   ]
  },
  {
   "cell_type": "code",
   "execution_count": 70,
   "metadata": {},
   "outputs": [
    {
     "data": {
      "text/plain": [
       "2524"
      ]
     },
     "execution_count": 70,
     "metadata": {},
     "output_type": "execute_result"
    }
   ],
   "source": []
  }
 ],
 "metadata": {
  "kernelspec": {
   "display_name": "crawling",
   "language": "python",
   "name": "python3"
  },
  "language_info": {
   "codemirror_mode": {
    "name": "ipython",
    "version": 3
   },
   "file_extension": ".py",
   "mimetype": "text/x-python",
   "name": "python",
   "nbconvert_exporter": "python",
   "pygments_lexer": "ipython3",
   "version": "3.8.12"
  }
 },
 "nbformat": 4,
 "nbformat_minor": 2
}
