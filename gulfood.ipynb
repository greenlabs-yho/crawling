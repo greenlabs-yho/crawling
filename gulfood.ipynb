{
 "cells": [
  {
   "cell_type": "code",
   "execution_count": 60,
   "metadata": {},
   "outputs": [],
   "source": [
    "import pytz\n",
    "from datetime import datetime\n",
    "import re\n",
    "import requests\n",
    "from bs4 import BeautifulSoup\n",
    "import pandas as pd\n",
    "from requests.adapters import HTTPAdapter, Retry\n",
    "import time\n",
    "\n",
    "requests.adapters.DEFAULT_POOLSIZE = 100\n",
    "retries = Retry(total=20)\n",
    "# 세션을 생성하고 ConnectionPool 크기를 설정\n",
    "session = requests.Session()\n",
    "session.mount('https://', requests.adapters.HTTPAdapter(pool_connections=100, pool_maxsize=100, max_retries=retries))\n"
   ]
  },
  {
   "cell_type": "code",
   "execution_count": 69,
   "metadata": {},
   "outputs": [],
   "source": [
    "def get_items(detail_soup):\n",
    "    addr = detail_soup.find('div', class_=\"m-exhibitor-entry__item__body__contacts__address\")\n",
    "    website = detail_soup.find('div', class_=\"m-exhibitor-entry__item__body__contacts__additional__website\")\n",
    "    sku_list = detail_soup.find_all('li', class_='m-exhibitor-entry__item__header__categories__item')\n",
    "\n",
    "    address = ''\n",
    "    if addr:\n",
    "        if addr.find('h4').next_sibling:\n",
    "            address += addr.find('h4').next_sibling.strip().replace('\\n', '  ')\n",
    "        if addr.find('br') and addr.find('br').next_sibling:\n",
    "            address += ' '\n",
    "            address += addr.find('br').next_sibling.strip().replace('\\n', '  ')\n",
    "\n",
    "    if not sku_list:\n",
    "        sku_list = []\n",
    "\n",
    "    item = {\n",
    "        \"address\": address,\n",
    "        'website': website.find('a')['href'] if website and website.find('a') else '',\n",
    "        'sku': [sku.text.strip() for sku in sku_list if sku and sku.text]\n",
    "    }\n",
    "    return item\n",
    "\n",
    "\n",
    "def crawling_comp_list(url):\n",
    "    response = session.get(url)\n",
    "    soup = BeautifulSoup(response.text, 'html.parser')\n",
    "    a_list = soup.find_all('a', class_='m-exhibitors-list__items__item__name__link js-librarylink-entry')\n",
    "\n",
    "    result = []\n",
    "    for i, a in enumerate(a_list):\n",
    "        prefix = \"https://www.gulfood.com/\"\n",
    "        target = a['href'].split(\"'\")[1]\n",
    "\n",
    "        time.sleep(0.3)        \n",
    "        detail_response = session.get(prefix + target)\n",
    "        detail_soup = BeautifulSoup(detail_response.text, 'html.parser')\n",
    "\n",
    "        comp = get_items(detail_soup)\n",
    "        comp['name'] = a.text.strip()\n",
    "        result.append(comp)\n",
    "\n",
    "    return result\n",
    "        \n",
    "\n",
    "#result = crawling_comp_list('https://www.gulfood.com/exhibitors?categories=66AAF122-0B0C-4887-F843EE8C3C8DBDAB&searchgroup=D1CFEFEE-exhibitorslist-2024')\n",
    "result2 = crawling_comp_list('https://www.gulfood.com/exhibitors?categories=66ACC063-EF15-B1AF-472DE99BF6526B85&searchgroup=D1CFEFEE-exhibitorslist-2024')\n"
   ]
  },
  {
   "cell_type": "code",
   "execution_count": 72,
   "metadata": {},
   "outputs": [],
   "source": [
    "import pandas as pd\n",
    "\n",
    "result_list = []\n",
    "result_list.extend(result)\n",
    "result_list.extend(result2)\n"
   ]
  },
  {
   "cell_type": "code",
   "execution_count": 74,
   "metadata": {},
   "outputs": [],
   "source": [
    "\n",
    "df = pd.DataFrame(result_list)\n",
    "df['sku'] = df['sku'].apply(lambda x: ', '.join(x))\n"
   ]
  },
  {
   "cell_type": "code",
   "execution_count": 77,
   "metadata": {},
   "outputs": [],
   "source": [
    "df.to_csv('./output/gulfood_20240123_1318.csv', index=False)"
   ]
  }
 ],
 "metadata": {
  "kernelspec": {
   "display_name": "crawling",
   "language": "python",
   "name": "python3"
  },
  "language_info": {
   "codemirror_mode": {
    "name": "ipython",
    "version": 3
   },
   "file_extension": ".py",
   "mimetype": "text/x-python",
   "name": "python",
   "nbconvert_exporter": "python",
   "pygments_lexer": "ipython3",
   "version": "3.8.12"
  }
 },
 "nbformat": 4,
 "nbformat_minor": 2
}
