{
 "cells": [
  {
   "cell_type": "code",
   "execution_count": 106,
   "metadata": {},
   "outputs": [],
   "source": [
    "first = 'https://portal.gmpplus.org/en-US/cdb/cdb-cc-search/?&certstatus=23&scheme=777620000&orderby=name%20DESC'\n",
    "second = 'https://portal.gmpplus.org/en-US/cdb/cdb-cc-search/?&certstatus=23&scheme=777620000&page=2&orderby=name%20DESC'\n",
    "detail_page = 'https://portal.gmpplus.org/_portal/modal-form-template-path/2ab10dab-d681-4911-b881-cc99413f07b6?id=fc6ed32c-9b8a-ed11-81ad-000d3a2e4c6e&entityformid=67F1D23C-1A08-E811-811F-5065F38B0311&languagecode=undefined'"
   ]
  },
  {
   "cell_type": "code",
   "execution_count": 107,
   "metadata": {},
   "outputs": [],
   "source": [
    "import pytz\n",
    "from datetime import datetime\n",
    "import re\n",
    "import requests\n",
    "from bs4 import BeautifulSoup\n",
    "import pandas as pd\n",
    "from requests.adapters import HTTPAdapter, Retry\n",
    "\n",
    "requests.adapters.DEFAULT_POOLSIZE = 100\n",
    "retries = Retry(total=20)\n",
    "# 세션을 생성하고 ConnectionPool 크기를 설정\n",
    "session = requests.Session()\n",
    "session.mount('https://', requests.adapters.HTTPAdapter(pool_connections=100, pool_maxsize=100, max_retries=retries))"
   ]
  },
  {
   "cell_type": "code",
   "execution_count": 110,
   "metadata": {},
   "outputs": [],
   "source": [
    "def get_url(page_no, type='FSA'):\n",
    "    if type == 'type':\n",
    "        if page_no == 1:\n",
    "            return 'https://portal.gmpplus.org/en-US/cdb/cdb-cc-search/?&certstatus=23&scheme=777620000&orderby=name%20DESC'\n",
    "        else:\n",
    "            return f'https://portal.gmpplus.org/en-US/cdb/cdb-cc-search/?&certstatus=23&scheme=777620000&page={page_no}&orderby=name%20DESC'\n",
    "    else: # FRA\n",
    "        if page_no == 1:\n",
    "            return 'https://portal.gmpplus.org/en-US/cdb/cdb-cc-search/?&certstatus=23&scheme=777620001&orderby=name%20DESC'\n",
    "        else:\n",
    "            return f'https://portal.gmpplus.org/en-US/cdb/cdb-cc-search/?&certstatus=23&scheme=777620001&page={page_no}&orderby=name%20DESC'\n",
    "    \n",
    "    "
   ]
  },
  {
   "cell_type": "code",
   "execution_count": 112,
   "metadata": {},
   "outputs": [],
   "source": [
    "def get_attr_by_id(obj, id, tag=\"input\", attr=\"value\"):\n",
    "    item = obj.find(tag, id=id)\n",
    "    if item:\n",
    "        return item.get(attr, None)\n",
    "    return None\n",
    "    \n",
    "def get_text_by_id(obj, id, tag=\"textarea\"):\n",
    "    item = obj.find(tag, id=id)\n",
    "    if item:\n",
    "        return item.text.replace('\\r\\n', '  ').strip()\n",
    "    return None\n",
    "    "
   ]
  },
  {
   "cell_type": "code",
   "execution_count": 113,
   "metadata": {},
   "outputs": [],
   "source": [
    "def item_to_json(item):\n",
    "    result = {}\n",
    "    result[\"company_name\"] = get_attr_by_id(item, id=\"name\")\n",
    "    result[\"compony_address\"] = get_text_by_id(item, id=\"address1_composite\", tag=\"textarea\")\n",
    "    result[\"company_phone\"] = get_attr_by_id(item, id=\"telephone1\")\n",
    "    result['company_email'] = get_attr_by_id(item, \"emailaddress1\")\n",
    "    result['website'] = get_attr_by_id(item, 'websiteurl')\n",
    "\n",
    "    result[\"company_fax\"] = get_attr_by_id(item, id=\"fax\")\n",
    "    result['postal_address'] = get_text_by_id(item, 'address2_composite')\n",
    "    result[\"registration_number\"] = get_attr_by_id(item, id=\"accountnumber\")\n",
    "    result[\"registration_number_old\"] = get_attr_by_id(item, id=\"crmp_chainpointnummer\")\n",
    "    result['vessel_registration_number_eu_number'] = get_attr_by_id(item, id=\"crmp_eunumber\")\n",
    "    result['legal_business_registration'] = get_attr_by_id(item, \"crmp_legalbusinessregistration\")\n",
    "    result['vessel_name'] = get_attr_by_id(item, 'crmp_nameofship')\n",
    "\n",
    "    return result"
   ]
  },
  {
   "cell_type": "code",
   "execution_count": null,
   "metadata": {},
   "outputs": [],
   "source": [
    "# FSA\n",
    "import time\n",
    "combine_results = []\n",
    "for no in range(1, 201):\n",
    "    print(no)\n",
    "    response = session.get(get_url(no))\n",
    "    result_json = response.json()\n",
    "    for crmp in result_json['results']:\n",
    "        detail_res = session.get(f'https://portal.gmpplus.org/_portal/modal-form-template-path/2ab10dab-d681-4911-b881-cc99413f07b6?id={crmp[\"id\"]}&entityformid=67F1D23C-1A08-E811-811F-5065F38B0311&languagecode=undefined')\n",
    "        item = BeautifulSoup(detail_res.text, 'html.parser')\n",
    "        result = item_to_json(item)\n",
    "        combine_results.append(result)\n",
    "        time.sleep(0.1)\n"
   ]
  },
  {
   "cell_type": "code",
   "execution_count": 115,
   "metadata": {},
   "outputs": [
    {
     "name": "stdout",
     "output_type": "stream",
     "text": [
      "1\n",
      "2\n",
      "3\n",
      "4\n",
      "5\n",
      "6\n",
      "7\n",
      "8\n",
      "9\n",
      "10\n",
      "11\n",
      "12\n",
      "13\n",
      "14\n",
      "15\n",
      "16\n",
      "17\n",
      "18\n",
      "19\n",
      "20\n",
      "21\n",
      "22\n",
      "23\n",
      "24\n",
      "25\n",
      "26\n",
      "27\n",
      "28\n",
      "29\n",
      "30\n",
      "31\n",
      "32\n",
      "33\n",
      "34\n",
      "35\n",
      "36\n",
      "37\n",
      "38\n",
      "39\n",
      "40\n",
      "41\n",
      "42\n"
     ]
    }
   ],
   "source": [
    "# FRA\n",
    "import time\n",
    "combine_results_fra = []\n",
    "for no in range(1, 43):\n",
    "    print(no)\n",
    "    response = session.get(get_url(no, 'FRA'))\n",
    "    result_json = response.json()\n",
    "    for crmp in result_json['results']:\n",
    "        detail_res = session.get(f'https://portal.gmpplus.org/_portal/modal-form-template-path/2ab10dab-d681-4911-b881-cc99413f07b6?id={crmp[\"id\"]}&entityformid=67F1D23C-1A08-E811-811F-5065F38B0311&languagecode=undefined')\n",
    "        item = BeautifulSoup(detail_res.text, 'html.parser')\n",
    "        result = item_to_json(item)\n",
    "        combine_results_fra.append(result)\n",
    "        time.sleep(0.1)\n"
   ]
  },
  {
   "cell_type": "code",
   "execution_count": 105,
   "metadata": {},
   "outputs": [],
   "source": [
    "import pandas as pd\n",
    "df = pd.DataFrame(combine_results)\n",
    "df.to_csv('./output/gmpplus_fsa_20240116.csv', index=False)"
   ]
  },
  {
   "cell_type": "code",
   "execution_count": 116,
   "metadata": {},
   "outputs": [],
   "source": [
    "import pandas as pd\n",
    "df_fra = pd.DataFrame(combine_results_fra)\n",
    "df_fra.to_csv('./output/gmpplus_fra_20240116.csv', index=False)"
   ]
  }
 ],
 "metadata": {
  "kernelspec": {
   "display_name": "crawling",
   "language": "python",
   "name": "python3"
  },
  "language_info": {
   "codemirror_mode": {
    "name": "ipython",
    "version": 3
   },
   "file_extension": ".py",
   "mimetype": "text/x-python",
   "name": "python",
   "nbconvert_exporter": "python",
   "pygments_lexer": "ipython3",
   "version": "3.8.12"
  }
 },
 "nbformat": 4,
 "nbformat_minor": 2
}
