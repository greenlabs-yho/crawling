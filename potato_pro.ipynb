{
 "cells": [
  {
   "cell_type": "code",
   "execution_count": 7,
   "metadata": {},
   "outputs": [],
   "source": [
    "from bs4 import BeautifulSoup\n",
    "\n",
    "# https://www.potatopro.com/product-types/potato-starch-and-derivates 들어가서 \n",
    "# load more 모두 하고 html 소스 가져와서 처리함.\n",
    "# html 소스 가져올때 개발자 도구 요소탭에서 html 우클릭 해서 전체 복사함.\n",
    "\n",
    "with open('input/potato_pro.html', 'r+') as f:\n",
    "    html = f.read()\n",
    "\n",
    "soup = BeautifulSoup(html, 'html.parser')\n"
   ]
  },
  {
   "cell_type": "code",
   "execution_count": 14,
   "metadata": {},
   "outputs": [],
   "source": [
    "import pytz\n",
    "from datetime import datetime\n",
    "import re\n",
    "import requests\n",
    "from bs4 import BeautifulSoup\n",
    "import pandas as pd\n",
    "from requests.adapters import HTTPAdapter, Retry\n",
    "\n",
    "requests.adapters.DEFAULT_POOLSIZE = 100\n",
    "retries = Retry(total=20)\n",
    "# 세션을 생성하고 ConnectionPool 크기를 설정\n",
    "session = requests.Session()\n",
    "session.mount('https://', requests.adapters.HTTPAdapter(pool_connections=100, pool_maxsize=100, max_retries=retries))\n",
    "\n",
    "headers = {\n",
    "    'User-Agent': 'Mozilla/5.0 (Windows NT 10.0; Win64; x64) AppleWebKit/537.36 (KHTML, like Gecko) Chrome/58.0.3029.110 Safari/537.3'\n",
    "}\n"
   ]
  },
  {
   "cell_type": "code",
   "execution_count": 8,
   "metadata": {},
   "outputs": [],
   "source": [
    "a_list = soup.find_all('a', class_=\"main-link-wrap\")"
   ]
  },
  {
   "cell_type": "code",
   "execution_count": 66,
   "metadata": {},
   "outputs": [],
   "source": [
    "import json\n",
    "\n",
    "def get_detail_page(sub_soup):   \n",
    "    contact_info = {}\n",
    "    contact_info[\"name\"] = sub_soup.find('h1', class_=\"title page-title\").text.strip()\n",
    "    website_div = sub_soup.find('div', class_='mb-3 border-bottom-grey')\n",
    "    if website_div.find('a'):\n",
    "        contact_info['website_logo'] = website_div.find('a').get('href')\n",
    "\n",
    "    for a in sub_soup.find('div', class_='contact-info').find_all('a', href=True):\n",
    "        key = a['aria-label'].lower()\n",
    "        if 'mailto:' in a['href']:\n",
    "            value = a['href'].replace('mailto:', '')\n",
    "        elif 'tel:' in a['href']:\n",
    "            value = a['href'].replace('tel:', '').strip()\n",
    "        else:\n",
    "            value = a['href']\n",
    "        contact_info[key] = value\n",
    "\n",
    "    product_list = []\n",
    "    for a in sub_soup.find('ul', class_='accordion_term').find_all('a'):\n",
    "        product_list.append(a.text.strip())\n",
    "\n",
    "    contact_info['products'] = json.dumps(product_list, ensure_ascii=False)\n",
    "    contact_info['address'] = sub_soup.find('p', class_=\"address\").text\n",
    "    return contact_info"
   ]
  },
  {
   "cell_type": "code",
   "execution_count": 67,
   "metadata": {},
   "outputs": [],
   "source": [
    "import time\n",
    "from urllib.parse import urlparse, urljoin\n",
    "main_url = 'https://www.potatopro.com'\n",
    "\n",
    "info_list = []\n",
    "\n",
    "for a in a_list:\n",
    "    sub_url = urljoin(main_url, a.get('href'))\n",
    "    sub_response = session.get(sub_url, headers=headers)\n",
    "    sub_soup = BeautifulSoup(sub_response.text, 'html.parser')\n",
    "    info = get_detail_page(sub_soup)\n",
    "    info_list.append(info)\n",
    "    time.sleep(0.5)\n"
   ]
  },
  {
   "cell_type": "code",
   "execution_count": 72,
   "metadata": {},
   "outputs": [
    {
     "data": {
      "text/plain": [
       "'https://www.potatopro.com/companies/agrawest-foods'"
      ]
     },
     "execution_count": 72,
     "metadata": {},
     "output_type": "execute_result"
    }
   ],
   "source": [
    "\n",
    "sub_url = urljoin(main_url, a_list[5].get('href'))\n",
    "sub_url"
   ]
  },
  {
   "cell_type": "code",
   "execution_count": 68,
   "metadata": {},
   "outputs": [],
   "source": [
    "import pandas as pd\n",
    "df = pd.DataFrame(info_list)\n",
    "df.to_csv('output/potatopro_20240207.csv', index=False)"
   ]
  }
 ],
 "metadata": {
  "kernelspec": {
   "display_name": "crawling",
   "language": "python",
   "name": "python3"
  },
  "language_info": {
   "codemirror_mode": {
    "name": "ipython",
    "version": 3
   },
   "file_extension": ".py",
   "mimetype": "text/x-python",
   "name": "python",
   "nbconvert_exporter": "python",
   "pygments_lexer": "ipython3",
   "version": "3.8.12"
  }
 },
 "nbformat": 4,
 "nbformat_minor": 2
}
